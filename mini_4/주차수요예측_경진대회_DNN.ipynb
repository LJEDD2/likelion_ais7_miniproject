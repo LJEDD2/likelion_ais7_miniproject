{
 "cells": [
  {
   "cell_type": "code",
   "execution_count": 1,
   "id": "b4e30776",
   "metadata": {},
   "outputs": [],
   "source": [
    "#패키지 불러오기 및 각종 설치 & 폰트 설정 한방에 \n",
    "import matplotlib\n",
    "%matplotlib inline\n",
    "matplotlib.rcParams['axes.unicode_minus'] = False\n",
    "\n",
    "# !pip install catboost\n",
    "# !pip install pycaret\n",
    "from tqdm.notebook import tqdm\n",
    "from pycaret.regression import *\n",
    "\n",
    "import pandas as pd\n",
    "import numpy as np\n",
    "import koreanize_matplotlib\n",
    "import matplotlib.pyplot as plt\n",
    "import seaborn as sns\n",
    "\n",
    "import warnings\n",
    "from glob import glob\n",
    "warnings.filterwarnings(\"ignore\")\n",
    "\n",
    "from matplotlib import font_manager, rc\n",
    "import platform\n",
    "if platform.system() == 'Windows':\n",
    "# 윈도우인 경우\n",
    "    font_name = font_manager.FontProperties(fname=\"c:/Windows/Fonts/malgun.ttf\").get_name()\n",
    "    rc('font', family=font_name)"
   ]
  },
  {
   "cell_type": "code",
   "execution_count": 2,
   "id": "b6e20bcf",
   "metadata": {},
   "outputs": [],
   "source": [
    "def desc_stats(dataframe):\n",
    "    desc = dataframe.describe().T\n",
    "    f, ax = plt.subplots(figsize=(10, desc.shape[0] * 0.75))\n",
    "\n",
    "    sns.heatmap(\n",
    "        desc,\n",
    "        annot=True,\n",
    "        cmap=\"Blues\",\n",
    "        fmt=\".2f\",\n",
    "        ax=ax,\n",
    "        linecolor=\"white\",\n",
    "        linewidths=1.3,\n",
    "        cbar=False,\n",
    "        annot_kws={\"size\": 12},\n",
    "    )\n",
    "    plt.xticks(size=14)\n",
    "    plt.yticks(size=12, rotation=0)\n",
    "    plt.title(\"Descriptive Statistics\", size=14)\n",
    "    plt.show()"
   ]
  },
  {
   "cell_type": "code",
   "execution_count": 3,
   "id": "ba3b6062",
   "metadata": {},
   "outputs": [],
   "source": [
    "# 함수 정의: 두 데이터 테이블과 특정 컬럼을 집어 넣으면 value를 비교하여 출력하는 함수\n",
    "def check_train_test_column_values(train, test, column):\n",
    "    print(\"🐸 {} Column에 대한 train_test_values_check 입니다=======================\".format(column))\n",
    "    # Train/Test set의 입력 칼럼의 value를 set으로 받아줍니다.\n",
    "    train_colset = set(train[column])\n",
    "    test_colset  = set(test[column])\n",
    "\n",
    "    # Train/Test-set 고유한 value의 개수를 구함.\n",
    "    print(f\"\\nTrain-set에 있는 고유한 value 개수 : {len(train_colset)}\")\n",
    "    print(f\"Test-set에 있는 고유한 value 개수 : {len(test_colset)}\\n\")\n",
    "\n",
    "    # Train/Test-set 모두에 포함되어있는 value를 구함.\n",
    "    print('='* 80)\n",
    "    common_colset = train_colset.intersection(test_colset)\n",
    "    print(f\"Train/Test-set에 공통으로 포함되어 있는 value 개수 : {len(common_colset)}\")\n",
    "    if len(common_colset) > 100: # value가 너무 많으면 어차피 보기 힘드므로 출력을 pass 합니다\n",
    "        pass\n",
    "    else:\n",
    "        try: # int나 float은 sorted가 먹지 않기 때문에 try except로 넣어줍니다.\n",
    "            print(f\"Train/Test-set에 공통으로 포함되어 있는 value : {sorted(common_colset)}\")\n",
    "        except:\n",
    "            print(f\"Train/Test-set에 공통으로 포함되어 있는 value : {(common_colset)}\")\n",
    "\n",
    "    # Train-set에만 있는 value를 구함.\n",
    "    train_only_colset = train_colset.difference(test_colset)\n",
    "    print(f\"\\nTrain-set에만 있는 value는 총 {len(train_only_colset)} 개 입니다.\")\n",
    "    if len(train_only_colset) > 100:\n",
    "        pass\n",
    "    else:\n",
    "        try:\n",
    "            print(f\"Train-set에만 있는 value는 : {sorted(train_only_colset)}\")\n",
    "        except:\n",
    "            print(f\"Train-set에만 있는 value는 : {(train_only_colset)}\")\n",
    "\n",
    "    # Test-set에만 있는 value를 구함.\n",
    "    test_only_colset = test_colset.difference(train_colset)\n",
    "    print(f\"Test-set에만 있는 value는 총 {len(test_only_colset)} 개 입니다.\")\n",
    "    if len(test_only_colset) > 100:\n",
    "        pass\n",
    "    else:\n",
    "        try:\n",
    "            print(f\"Test-set에만 있는 value는 : {sorted(test_only_colset)}\")\n",
    "        except:\n",
    "            print(f\"Test-set에만 있는 value는 : {(test_only_colset)}\")\n",
    "    print(\" \")"
   ]
  },
  {
   "cell_type": "code",
   "execution_count": 4,
   "id": "80552348",
   "metadata": {},
   "outputs": [],
   "source": [
    "file_path = glob('data/*.csv')"
   ]
  },
  {
   "cell_type": "code",
   "execution_count": 5,
   "id": "9723e40d",
   "metadata": {},
   "outputs": [
    {
     "data": {
      "text/plain": [
       "['data\\\\age_gender_info.csv',\n",
       " 'data\\\\sample_submission.csv',\n",
       " 'data\\\\test.csv',\n",
       " 'data\\\\train.csv']"
      ]
     },
     "execution_count": 5,
     "metadata": {},
     "output_type": "execute_result"
    }
   ],
   "source": [
    "file_path"
   ]
  },
  {
   "cell_type": "code",
   "execution_count": 6,
   "id": "b2a0378b",
   "metadata": {},
   "outputs": [],
   "source": [
    "df_info = pd.read_csv(file_path[0])\n",
    "df_train = pd.read_csv(file_path[3])\n",
    "df_test = pd.read_csv(file_path[2])"
   ]
  },
  {
   "cell_type": "code",
   "execution_count": 7,
   "id": "6d52d875",
   "metadata": {},
   "outputs": [
    {
     "name": "stdout",
     "output_type": "stream",
     "text": [
      "Train Set: (2869, 15) | Test Set: (1008, 14)\n"
     ]
    }
   ],
   "source": [
    "# Train/test data 불러오기 및 오류 데이터 제거\n",
    "train_error = ['C2085', 'C1397', 'C2431', 'C1649', 'C1036', 'C1095', 'C2051', 'C1218', 'C1894', 'C2483', 'C1502', 'C1988']\n",
    "df_train = df_train[~df_train['단지코드'].isin(train_error)].reset_index(drop=True)\n",
    "test_error = ['C2675', 'C2335', 'C1327']\n",
    "df_test = df_test[~df_test['단지코드'].isin(test_error)].reset_index(drop=True)\n",
    "print(f'Train Set: {df_train.shape} | Test Set: {df_test.shape}')"
   ]
  },
  {
   "cell_type": "code",
   "execution_count": 8,
   "id": "45d05feb",
   "metadata": {
    "scrolled": false
   },
   "outputs": [
    {
     "data": {
      "text/plain": [
       "((2869, 15), (1008, 14), (16, 23))"
      ]
     },
     "execution_count": 8,
     "metadata": {},
     "output_type": "execute_result"
    }
   ],
   "source": [
    "df_train.shape, df_test.shape, df_info.shape, "
   ]
  },
  {
   "cell_type": "code",
   "execution_count": 9,
   "id": "ed4a1c12",
   "metadata": {},
   "outputs": [
    {
     "data": {
      "text/plain": [
       "(1008, 14)"
      ]
     },
     "execution_count": 9,
     "metadata": {},
     "output_type": "execute_result"
    }
   ],
   "source": [
    "df_test.shape"
   ]
  },
  {
   "cell_type": "markdown",
   "id": "e1d7a33c",
   "metadata": {},
   "source": [
    "# EDA\n",
    "#### [Dacon 코드공유 게시물 참고](https://dacon.io/competitions/official/235745/codeshare/2851?page=1&dtype=recent) "
   ]
  },
  {
   "cell_type": "code",
   "execution_count": 10,
   "id": "e0171acc",
   "metadata": {},
   "outputs": [
    {
     "data": {
      "text/plain": [
       "단지코드                              0\n",
       "총세대수                              0\n",
       "임대건물구분                            0\n",
       "지역                                0\n",
       "공급유형                              0\n",
       "전용면적                              0\n",
       "전용면적별세대수                          0\n",
       "공가수                               0\n",
       "자격유형                              0\n",
       "임대보증금                           569\n",
       "임대료                             569\n",
       "도보 10분거리 내 지하철역 수(환승노선 수 반영)    207\n",
       "도보 10분거리 내 버스정류장 수                0\n",
       "단지내주차면수                           0\n",
       "등록차량수                             0\n",
       "dtype: int64"
      ]
     },
     "execution_count": 10,
     "metadata": {},
     "output_type": "execute_result"
    }
   ],
   "source": [
    "df_train.isnull().sum()"
   ]
  },
  {
   "cell_type": "code",
   "execution_count": 11,
   "id": "2315a81f",
   "metadata": {},
   "outputs": [
    {
     "data": {
      "text/plain": [
       "단지코드                              0\n",
       "총세대수                              0\n",
       "임대건물구분                            0\n",
       "지역                                0\n",
       "공급유형                              0\n",
       "전용면적                              0\n",
       "전용면적별세대수                          0\n",
       "공가수                               0\n",
       "자격유형                              2\n",
       "임대보증금                           180\n",
       "임대료                             180\n",
       "도보 10분거리 내 지하철역 수(환승노선 수 반영)     38\n",
       "도보 10분거리 내 버스정류장 수                0\n",
       "단지내주차면수                           0\n",
       "dtype: int64"
      ]
     },
     "execution_count": 11,
     "metadata": {},
     "output_type": "execute_result"
    }
   ],
   "source": [
    "df_test.isnull().sum()"
   ]
  },
  {
   "cell_type": "code",
   "execution_count": 12,
   "id": "698f4e61",
   "metadata": {},
   "outputs": [],
   "source": [
    "df_train.columns = [\n",
    "    '단지코드', '총세대수', '임대건물구분', '지역', '공급유형', '전용면적', '전용면적별세대수', '공가수', '자격유형',\n",
    "    '임대보증금', '임대료', '지하철', '버스',\n",
    "    '단지내주차면수', '등록차량수'\n",
    "]\n",
    "\n",
    "df_test.columns = [\n",
    "    '단지코드', '총세대수', '임대건물구분', '지역', '공급유형', '전용면적', '전용면적별세대수', '공가수', '자격유형',\n",
    "    '임대보증금', '임대료', '지하철', '버스',\n",
    "    '단지내주차면수'\n",
    "]"
   ]
  },
  {
   "cell_type": "code",
   "execution_count": 13,
   "id": "b2e9512e",
   "metadata": {},
   "outputs": [
    {
     "data": {
      "image/png": "[encoded data removed]",
      "text/plain": [
       "<Figure size 1500x1000 with 4 Axes>"
      ]
     },
     "metadata": {},
     "output_type": "display_data"
    }
   ],
   "source": [
    "fig, ax = plt.subplots(ncols=2, figsize=(15,10))\n",
    "sns.heatmap(df_train.isnull(), ax=ax[0]).set_xticklabels(df_train.isnull(), rotation=75);\n",
    "sns.heatmap(df_test.isnull(), ax=ax[1]).set_xticklabels(df_test.isnull(), rotation=75);\n"
   ]
  },
  {
   "cell_type": "code",
   "execution_count": 14,
   "id": "8fc9f300",
   "metadata": {},
   "outputs": [
    {
     "data": {
      "image/png": "[encoded data removed]",
      "text/plain": [
       "<Figure size 1500x800 with 2 Axes>"
      ]
     },
     "metadata": {},
     "output_type": "display_data"
    }
   ],
   "source": [
    "fig, ax = plt.subplots(ncols=2, figsize=(15,8))\n",
    "\n",
    "sns.barplot(data = df_train.isnull(), ci=None, ax=ax[0]).set_xticklabels(df_train.isnull(), rotation=75);\n",
    "sns.barplot(data = df_test.isnull(), ci=None, ax=ax[1]).set_xticklabels(df_test.isnull(), rotation=75);\n"
   ]
  },
  {
   "cell_type": "markdown",
   "id": "ebf974cb",
   "metadata": {},
   "source": [
    "- 자택 유형 / 임대 보증금/ 임대료 에 대한 결측치 처리 필요 \n",
    "- train엔 도보 10분거리 내 대중교통 수에 결측치 존재"
   ]
  },
  {
   "cell_type": "code",
   "execution_count": 15,
   "id": "4e923287",
   "metadata": {
    "scrolled": true
   },
   "outputs": [
    {
     "data": {
      "text/plain": [
       "단지코드        0.000000\n",
       "총세대수        0.000000\n",
       "임대건물구분      0.000000\n",
       "지역          0.000000\n",
       "공급유형        0.000000\n",
       "전용면적        0.000000\n",
       "전용면적별세대수    0.000000\n",
       "공가수         0.000000\n",
       "자격유형        0.000000\n",
       "임대보증금       0.198327\n",
       "임대료         0.198327\n",
       "지하철         0.072151\n",
       "버스          0.000000\n",
       "단지내주차면수     0.000000\n",
       "등록차량수       0.000000\n",
       "dtype: float64"
      ]
     },
     "execution_count": 15,
     "metadata": {},
     "output_type": "execute_result"
    }
   ],
   "source": [
    "df_train.isnull().mean()"
   ]
  },
  {
   "cell_type": "code",
   "execution_count": 16,
   "id": "c697b3fd",
   "metadata": {},
   "outputs": [
    {
     "data": {
      "image/png": "[encoded data removed]",
      "text/plain": [
       "<Figure size 1000x600 with 1 Axes>"
      ]
     },
     "metadata": {},
     "output_type": "display_data"
    }
   ],
   "source": [
    "desc_stats(df_train)"
   ]
  },
  {
   "cell_type": "code",
   "execution_count": 17,
   "id": "24202718",
   "metadata": {},
   "outputs": [
    {
     "data": {
      "image/png": "[encoded data removed]",
      "text/plain": [
       "<Figure size 1000x525 with 1 Axes>"
      ]
     },
     "metadata": {},
     "output_type": "display_data"
    }
   ],
   "source": [
    "desc_stats(df_test)"
   ]
  },
  {
   "cell_type": "code",
   "execution_count": 18,
   "id": "b7bdbe75",
   "metadata": {},
   "outputs": [],
   "source": [
    "obj_cols = []\n",
    "for col in df_train.columns:\n",
    "    if df_train[col].dtypes == 'object':\n",
    "        obj_cols.append(col)"
   ]
  },
  {
   "cell_type": "code",
   "execution_count": 19,
   "id": "e862a385",
   "metadata": {},
   "outputs": [
    {
     "name": "stdout",
     "output_type": "stream",
     "text": [
      "🐸 단지코드 Column에 대한 train_test_values_check 입니다=======================\n",
      "\n",
      "Train-set에 있는 고유한 value 개수 : 411\n",
      "Test-set에 있는 고유한 value 개수 : 147\n",
      "\n",
      "================================================================================\n",
      "Train/Test-set에 공통으로 포함되어 있는 value 개수 : 0\n",
      "Train/Test-set에 공통으로 포함되어 있는 value : []\n",
      "\n",
      "Train-set에만 있는 value는 총 411 개 입니다.\n",
      "Test-set에만 있는 value는 총 147 개 입니다.\n",
      " \n",
      "🐸 임대건물구분 Column에 대한 train_test_values_check 입니다=======================\n",
      "\n",
      "Train-set에 있는 고유한 value 개수 : 2\n",
      "Test-set에 있는 고유한 value 개수 : 2\n",
      "\n",
      "================================================================================\n",
      "Train/Test-set에 공통으로 포함되어 있는 value 개수 : 2\n",
      "Train/Test-set에 공통으로 포함되어 있는 value : ['상가', '아파트']\n",
      "\n",
      "Train-set에만 있는 value는 총 0 개 입니다.\n",
      "Train-set에만 있는 value는 : []\n",
      "Test-set에만 있는 value는 총 0 개 입니다.\n",
      "Test-set에만 있는 value는 : []\n",
      " \n",
      "🐸 지역 Column에 대한 train_test_values_check 입니다=======================\n",
      "\n",
      "Train-set에 있는 고유한 value 개수 : 16\n",
      "Test-set에 있는 고유한 value 개수 : 15\n",
      "\n",
      "================================================================================\n",
      "Train/Test-set에 공통으로 포함되어 있는 value 개수 : 15\n",
      "Train/Test-set에 공통으로 포함되어 있는 value : ['강원도', '경기도', '경상남도', '경상북도', '광주광역시', '대구광역시', '대전광역시', '부산광역시', '세종특별자치시', '울산광역시', '전라남도', '전라북도', '제주특별자치도', '충청남도', '충청북도']\n",
      "\n",
      "Train-set에만 있는 value는 총 1 개 입니다.\n",
      "Train-set에만 있는 value는 : ['서울특별시']\n",
      "Test-set에만 있는 value는 총 0 개 입니다.\n",
      "Test-set에만 있는 value는 : []\n",
      " \n",
      "🐸 공급유형 Column에 대한 train_test_values_check 입니다=======================\n",
      "\n",
      "Train-set에 있는 고유한 value 개수 : 10\n",
      "Test-set에 있는 고유한 value 개수 : 7\n",
      "\n",
      "================================================================================\n",
      "Train/Test-set에 공통으로 포함되어 있는 value 개수 : 7\n",
      "Train/Test-set에 공통으로 포함되어 있는 value : ['공공임대(10년)', '공공임대(50년)', '공공임대(분납)', '국민임대', '영구임대', '임대상가', '행복주택']\n",
      "\n",
      "Train-set에만 있는 value는 총 3 개 입니다.\n",
      "Train-set에만 있는 value는 : ['공공분양', '공공임대(5년)', '장기전세']\n",
      "Test-set에만 있는 value는 총 0 개 입니다.\n",
      "Test-set에만 있는 value는 : []\n",
      " \n",
      "🐸 자격유형 Column에 대한 train_test_values_check 입니다=======================\n",
      "\n",
      "Train-set에 있는 고유한 value 개수 : 15\n",
      "Test-set에 있는 고유한 value 개수 : 13\n",
      "\n",
      "================================================================================\n",
      "Train/Test-set에 공통으로 포함되어 있는 value 개수 : 12\n",
      "Train/Test-set에 공통으로 포함되어 있는 value : ['A', 'C', 'D', 'E', 'G', 'H', 'I', 'J', 'K', 'L', 'M', 'N']\n",
      "\n",
      "Train-set에만 있는 value는 총 3 개 입니다.\n",
      "Train-set에만 있는 value는 : ['B', 'F', 'O']\n",
      "Test-set에만 있는 value는 총 1 개 입니다.\n",
      "Test-set에만 있는 value는 : [nan]\n",
      " \n",
      "🐸 임대보증금 Column에 대한 train_test_values_check 입니다=======================\n",
      "\n",
      "Train-set에 있는 고유한 value 개수 : 927\n",
      "Test-set에 있는 고유한 value 개수 : 398\n",
      "\n",
      "================================================================================\n",
      "Train/Test-set에 공통으로 포함되어 있는 value 개수 : 122\n",
      "\n",
      "Train-set에만 있는 value는 총 805 개 입니다.\n",
      "Test-set에만 있는 value는 총 276 개 입니다.\n",
      " \n",
      "🐸 임대료 Column에 대한 train_test_values_check 입니다=======================\n",
      "\n",
      "Train-set에 있는 고유한 value 개수 : 966\n",
      "Test-set에 있는 고유한 value 개수 : 399\n",
      "\n",
      "================================================================================\n",
      "Train/Test-set에 공통으로 포함되어 있는 value 개수 : 118\n",
      "\n",
      "Train-set에만 있는 value는 총 848 개 입니다.\n",
      "Test-set에만 있는 value는 총 281 개 입니다.\n",
      " \n"
     ]
    }
   ],
   "source": [
    "for col in obj_cols:\n",
    "    check_train_test_column_values(df_train, df_test, col)"
   ]
  },
  {
   "cell_type": "markdown",
   "id": "3b31ed2c",
   "metadata": {},
   "source": [
    "- train 데이터는 2개의 테이블이 합쳐진 것으로 판단 됩니다.\n",
    "\n",
    "- 아파트 단지 타입별로 나뉘어진 테이블과 아파트 단지의 정보가 담긴 테이블입니다.\n",
    "- 또한 아파트 단지에 대한 정보를 아파트 유형과 상가 유형으로 나눌 수 있습니다."
   ]
  },
  {
   "cell_type": "code",
   "execution_count": 20,
   "id": "fa0b9339",
   "metadata": {},
   "outputs": [],
   "source": [
    "train_apart = df_train[['단지코드', '임대건물구분', '공급유형', '전용면적', '전용면적별세대수', '자격유형', '임대보증금', '임대료']].loc[df_train['임대건물구분'] == '아파트']\n",
    "train_shop = df_train[['단지코드', '임대건물구분', '공급유형', '전용면적', '전용면적별세대수', '자격유형']].loc[df_train['임대건물구분'] == '상가']\n",
    "train_danji = df_train[['단지코드', '총세대수', '지역', '공가수', '지하철', '버스', '단지내주차면수', '등록차량수']].drop_duplicates()"
   ]
  },
  {
   "cell_type": "code",
   "execution_count": 21,
   "id": "85e2cfda",
   "metadata": {
    "scrolled": true
   },
   "outputs": [
    {
     "data": {
      "text/plain": [
       "((2307, 8), (562, 6), (411, 8))"
      ]
     },
     "execution_count": 21,
     "metadata": {},
     "output_type": "execute_result"
    }
   ],
   "source": [
    "train_apart.shape, train_shop.shape, train_danji.shape"
   ]
  },
  {
   "cell_type": "code",
   "execution_count": 22,
   "id": "b35c67d7",
   "metadata": {},
   "outputs": [
    {
     "name": "stdout",
     "output_type": "stream",
     "text": [
      "    단지코드 임대건물구분  공급유형   전용면적  전용면적별세대수 자격유형     임대보증금     임대료\n",
      "0  C2515    아파트  국민임대  33.48       276    A   9216000   82940\n",
      "1  C2515    아파트  국민임대  39.60        60    A  12672000  107130\n",
      "2  C2515    아파트  국민임대  39.60        20    A  12672000  107130\n",
      "\n",
      "     단지코드 임대건물구분  공급유형  전용면적  전용면적별세대수 자격유형\n",
      "80  C1925     상가  임대상가  32.1         1    D\n",
      "81  C1925     상가  임대상가  32.1         1    D\n",
      "82  C1925     상가  임대상가  32.1         1    D\n",
      "\n",
      "     단지코드  총세대수     지역   공가수  지하철   버스  단지내주차면수   등록차량수\n",
      "0   C2515   545   경상남도  17.0  0.0  3.0    624.0   205.0\n",
      "7   C1407  1216  대전광역시  13.0  1.0  1.0   1285.0  1064.0\n",
      "18  C1945   755    경기도   6.0  1.0  3.0    734.0   730.0\n"
     ]
    }
   ],
   "source": [
    "print(train_apart.head(3))\n",
    "print()\n",
    "print(train_shop.head(3))\n",
    "print()\n",
    "print(train_danji.head(3))"
   ]
  },
  {
   "cell_type": "code",
   "execution_count": 23,
   "id": "4018ed36",
   "metadata": {},
   "outputs": [],
   "source": [
    "test_apart = df_test[['단지코드', '임대건물구분', '공급유형', '전용면적', '전용면적별세대수', '자격유형', '임대보증금', '임대료']].loc[df_test['임대건물구분'] == '아파트']\n",
    "test_shop = df_test[['단지코드', '임대건물구분', '공급유형', '전용면적', '전용면적별세대수', '자격유형']].loc[df_test['임대건물구분'] == '상가']\n",
    "test_danji = df_test[['단지코드', '총세대수', '지역', '공가수', '지하철', '버스', '단지내주차면수']].drop_duplicates()"
   ]
  },
  {
   "cell_type": "markdown",
   "id": "7ea7d3f0",
   "metadata": {},
   "source": [
    "train set과 test set 의 평균과 편차가 큰 차이가 없다"
   ]
  },
  {
   "cell_type": "code",
   "execution_count": 24,
   "id": "98adcd0f",
   "metadata": {},
   "outputs": [
    {
     "data": {
      "text/plain": [
       "((831, 8), (177, 6), (147, 7))"
      ]
     },
     "execution_count": 24,
     "metadata": {},
     "output_type": "execute_result"
    }
   ],
   "source": [
    "test_apart.shape, test_shop.shape, test_danji.shape"
   ]
  },
  {
   "cell_type": "code",
   "execution_count": 25,
   "id": "b1d2842c",
   "metadata": {},
   "outputs": [
    {
     "name": "stdout",
     "output_type": "stream",
     "text": [
      "    단지코드 임대건물구분  공급유형   전용면적  전용면적별세대수 자격유형     임대보증금     임대료\n",
      "0  C1072    아파트  국민임대  39.79       116    H  22830000  189840\n",
      "1  C1072    아파트  국민임대  46.81        30    A  36048000  249930\n",
      "2  C1072    아파트  국민임대  46.90       112    H  36048000  249930\n",
      "\n",
      "     단지코드 임대건물구분  공급유형   전용면적  전용면적별세대수 자격유형\n",
      "80  C1006     상가  임대상가  38.00         1    D\n",
      "81  C1006     상가  임대상가  38.00         1    D\n",
      "82  C1006     상가  임대상가  37.26         1    D\n",
      "\n",
      "     단지코드  총세대수     지역   공가수  지하철    버스  단지내주차면수\n",
      "0   C1072   754    경기도  14.0  0.0   2.0    683.0\n",
      "8   C1128  1354    경기도   9.0  0.0   3.0   1216.0\n",
      "17  C1456   619  부산광역시  18.0  0.0  16.0    547.0\n"
     ]
    }
   ],
   "source": [
    "print(test_apart.head(3))\n",
    "print()\n",
    "print(test_shop.head(3))\n",
    "print()\n",
    "print(test_danji.head(3))"
   ]
  },
  {
   "cell_type": "markdown",
   "id": "9f383dcf",
   "metadata": {},
   "source": [
    "test set의 단지는 총 150개 입니다. 이중 50/100 개로 나뉘어 평가합니다."
   ]
  },
  {
   "cell_type": "markdown",
   "id": "97ca6d56",
   "metadata": {},
   "source": [
    "### Missing Values"
   ]
  },
  {
   "cell_type": "code",
   "execution_count": 26,
   "id": "8d726fd0",
   "metadata": {},
   "outputs": [
    {
     "data": {
      "text/html": [
       "<div>\n",
       "<style scoped>\n",
       "    .dataframe tbody tr th:only-of-type {\n",
       "        vertical-align: middle;\n",
       "    }\n",
       "\n",
       "    .dataframe tbody tr th {\n",
       "        vertical-align: top;\n",
       "    }\n",
       "\n",
       "    .dataframe thead th {\n",
       "        text-align: right;\n",
       "    }\n",
       "</style>\n",
       "<table border=\"1\" class=\"dataframe\">\n",
       "  <thead>\n",
       "    <tr style=\"text-align: right;\">\n",
       "      <th></th>\n",
       "      <th>0</th>\n",
       "    </tr>\n",
       "  </thead>\n",
       "  <tbody>\n",
       "    <tr>\n",
       "      <th>단지코드</th>\n",
       "      <td>0</td>\n",
       "    </tr>\n",
       "    <tr>\n",
       "      <th>총세대수</th>\n",
       "      <td>0</td>\n",
       "    </tr>\n",
       "    <tr>\n",
       "      <th>임대건물구분</th>\n",
       "      <td>0</td>\n",
       "    </tr>\n",
       "    <tr>\n",
       "      <th>지역</th>\n",
       "      <td>0</td>\n",
       "    </tr>\n",
       "    <tr>\n",
       "      <th>공급유형</th>\n",
       "      <td>0</td>\n",
       "    </tr>\n",
       "    <tr>\n",
       "      <th>전용면적</th>\n",
       "      <td>0</td>\n",
       "    </tr>\n",
       "    <tr>\n",
       "      <th>전용면적별세대수</th>\n",
       "      <td>0</td>\n",
       "    </tr>\n",
       "    <tr>\n",
       "      <th>공가수</th>\n",
       "      <td>0</td>\n",
       "    </tr>\n",
       "    <tr>\n",
       "      <th>자격유형</th>\n",
       "      <td>0</td>\n",
       "    </tr>\n",
       "    <tr>\n",
       "      <th>임대보증금</th>\n",
       "      <td>569</td>\n",
       "    </tr>\n",
       "    <tr>\n",
       "      <th>임대료</th>\n",
       "      <td>569</td>\n",
       "    </tr>\n",
       "    <tr>\n",
       "      <th>지하철</th>\n",
       "      <td>207</td>\n",
       "    </tr>\n",
       "    <tr>\n",
       "      <th>버스</th>\n",
       "      <td>0</td>\n",
       "    </tr>\n",
       "    <tr>\n",
       "      <th>단지내주차면수</th>\n",
       "      <td>0</td>\n",
       "    </tr>\n",
       "    <tr>\n",
       "      <th>등록차량수</th>\n",
       "      <td>0</td>\n",
       "    </tr>\n",
       "  </tbody>\n",
       "</table>\n",
       "</div>"
      ],
      "text/plain": [
       "            0\n",
       "단지코드        0\n",
       "총세대수        0\n",
       "임대건물구분      0\n",
       "지역          0\n",
       "공급유형        0\n",
       "전용면적        0\n",
       "전용면적별세대수    0\n",
       "공가수         0\n",
       "자격유형        0\n",
       "임대보증금     569\n",
       "임대료       569\n",
       "지하철       207\n",
       "버스          0\n",
       "단지내주차면수     0\n",
       "등록차량수       0"
      ]
     },
     "execution_count": 26,
     "metadata": {},
     "output_type": "execute_result"
    }
   ],
   "source": [
    "df_train.isnull().sum().to_frame()"
   ]
  },
  {
   "cell_type": "markdown",
   "id": "3c054fb8",
   "metadata": {},
   "source": [
    "임대보증금, 임대료, 지하철역, 버스정류장 에서 결측치가 있습니다.  \n",
    "임대보증금, 임대료에서의 결측치는 등장하는 row가 동일해 보입니다."
   ]
  },
  {
   "cell_type": "code",
   "execution_count": 27,
   "id": "1c19c9a1",
   "metadata": {},
   "outputs": [
    {
     "data": {
      "text/html": [
       "<div>\n",
       "<style scoped>\n",
       "    .dataframe tbody tr th:only-of-type {\n",
       "        vertical-align: middle;\n",
       "    }\n",
       "\n",
       "    .dataframe tbody tr th {\n",
       "        vertical-align: top;\n",
       "    }\n",
       "\n",
       "    .dataframe thead th {\n",
       "        text-align: right;\n",
       "    }\n",
       "</style>\n",
       "<table border=\"1\" class=\"dataframe\">\n",
       "  <thead>\n",
       "    <tr style=\"text-align: right;\">\n",
       "      <th></th>\n",
       "      <th>0</th>\n",
       "    </tr>\n",
       "  </thead>\n",
       "  <tbody>\n",
       "    <tr>\n",
       "      <th>단지코드</th>\n",
       "      <td>0</td>\n",
       "    </tr>\n",
       "    <tr>\n",
       "      <th>총세대수</th>\n",
       "      <td>0</td>\n",
       "    </tr>\n",
       "    <tr>\n",
       "      <th>임대건물구분</th>\n",
       "      <td>0</td>\n",
       "    </tr>\n",
       "    <tr>\n",
       "      <th>지역</th>\n",
       "      <td>0</td>\n",
       "    </tr>\n",
       "    <tr>\n",
       "      <th>공급유형</th>\n",
       "      <td>0</td>\n",
       "    </tr>\n",
       "    <tr>\n",
       "      <th>전용면적</th>\n",
       "      <td>0</td>\n",
       "    </tr>\n",
       "    <tr>\n",
       "      <th>전용면적별세대수</th>\n",
       "      <td>0</td>\n",
       "    </tr>\n",
       "    <tr>\n",
       "      <th>공가수</th>\n",
       "      <td>0</td>\n",
       "    </tr>\n",
       "    <tr>\n",
       "      <th>자격유형</th>\n",
       "      <td>2</td>\n",
       "    </tr>\n",
       "    <tr>\n",
       "      <th>임대보증금</th>\n",
       "      <td>180</td>\n",
       "    </tr>\n",
       "    <tr>\n",
       "      <th>임대료</th>\n",
       "      <td>180</td>\n",
       "    </tr>\n",
       "    <tr>\n",
       "      <th>지하철</th>\n",
       "      <td>38</td>\n",
       "    </tr>\n",
       "    <tr>\n",
       "      <th>버스</th>\n",
       "      <td>0</td>\n",
       "    </tr>\n",
       "    <tr>\n",
       "      <th>단지내주차면수</th>\n",
       "      <td>0</td>\n",
       "    </tr>\n",
       "  </tbody>\n",
       "</table>\n",
       "</div>"
      ],
      "text/plain": [
       "            0\n",
       "단지코드        0\n",
       "총세대수        0\n",
       "임대건물구분      0\n",
       "지역          0\n",
       "공급유형        0\n",
       "전용면적        0\n",
       "전용면적별세대수    0\n",
       "공가수         0\n",
       "자격유형        2\n",
       "임대보증금     180\n",
       "임대료       180\n",
       "지하철        38\n",
       "버스          0\n",
       "단지내주차면수     0"
      ]
     },
     "execution_count": 27,
     "metadata": {},
     "output_type": "execute_result"
    }
   ],
   "source": [
    "df_test.isnull().sum().to_frame()"
   ]
  },
  {
   "cell_type": "markdown",
   "id": "88a4bb82",
   "metadata": {},
   "source": [
    "test set에서는 자격유형에서 결측치가 조금 보입니다.\n",
    "그리고 지하철역에서 결측치가 많이 보입니다."
   ]
  },
  {
   "cell_type": "code",
   "execution_count": 28,
   "id": "ae92ef84",
   "metadata": {},
   "outputs": [
    {
     "name": "stdout",
     "output_type": "stream",
     "text": [
      "전체 단지 수:  411\n",
      "지하철 결측치 단지 수:  19\n",
      "지하철 결측치 단지:  ['C1312' 'C1874' 'C1424' 'C2100' 'C2520' 'C1616' 'C1704' 'C2258' 'C1068'\n",
      " 'C1983' 'C2216' 'C2644' 'C1005' 'C1004' 'C1875' 'C2156' 'C1175' 'C2583'\n",
      " 'C1350']\n",
      "지하철 결측치 단지 지역:  ['충청남도' '대전광역시']\n"
     ]
    }
   ],
   "source": [
    "print('전체 단지 수: ', df_train['단지코드'].nunique())\n",
    "print('지하철 결측치 단지 수: ', df_train.loc[df_train['지하철'].isnull()]['단지코드'].nunique())\n",
    "print('지하철 결측치 단지: ', df_train.loc[df_train['지하철'].isnull()]['단지코드'].unique())\n",
    "print('지하철 결측치 단지 지역: ', df_train.loc[df_train['지하철'].isnull()]['지역'].unique())"
   ]
  },
  {
   "cell_type": "markdown",
   "id": "3ac34ed8",
   "metadata": {},
   "source": [
    "- 지하철 결측값은 총 20개의 단지에서 발생했습니다.\n",
    "- 지하철 결측값은 충남, 대전, 경남에서만 발생하였습니다.\n",
    "- 해당 지역에 지하철이 없더라도 0.0 으로 값이 채워져 있는 단지가 있습니다.\n",
    "- 따라서 패턴이 없는 단순 결측치로 보입니다.\n",
    "- 그러나 충남 북부나, 경남 남부 같은 경우는 지하철이 있는 도시가 있습니다. 마찬가지로 대전은 대전지하철이 있습니다. 결측치를 어떻게 채울지 고심해봐야 합니다."
   ]
  },
  {
   "cell_type": "code",
   "execution_count": 29,
   "id": "e8c7e8de",
   "metadata": {},
   "outputs": [
    {
     "name": "stdout",
     "output_type": "stream",
     "text": [
      "전체 단지 수:  147\n",
      "지하철 결측치 단지 수:  4\n",
      "지하철 결측치 단지:  ['C1472' 'C1083' 'C2177' 'C1318']\n",
      "지하철 결측치 단지 지역:  ['충청남도' '대전광역시']\n"
     ]
    }
   ],
   "source": [
    "print('전체 단지 수: ',df_test['단지코드'].nunique())\n",
    "print('지하철 결측치 단지 수: ', df_test.loc[df_test['지하철'].isnull()]['단지코드'].nunique())\n",
    "print('지하철 결측치 단지: ', df_test.loc[df_test['지하철'].isnull()]['단지코드'].unique())\n",
    "print('지하철 결측치 단지 지역: ', df_test.loc[df_test['지하철'].isnull()]['지역'].unique())"
   ]
  },
  {
   "cell_type": "markdown",
   "id": "ca389460",
   "metadata": {},
   "source": [
    "test set에서는 5개 단지에서 지하철 정보가 없습니다. 전부 충남과 대전입니다."
   ]
  },
  {
   "cell_type": "code",
   "execution_count": 30,
   "id": "d5dec8da",
   "metadata": {},
   "outputs": [
    {
     "data": {
      "text/plain": [
       "array([], dtype=object)"
      ]
     },
     "execution_count": 30,
     "metadata": {},
     "output_type": "execute_result"
    }
   ],
   "source": [
    "df_train.loc[df_train['버스'].isnull()]['지역'].unique()"
   ]
  },
  {
   "cell_type": "markdown",
   "id": "c68c12c4",
   "metadata": {},
   "source": [
    "- 버스 정류장 데이터가 없는 단지는 단 하나 뿐입니다.\n",
    "- test set에는 없습니다."
   ]
  },
  {
   "cell_type": "code",
   "execution_count": 31,
   "id": "478c3907",
   "metadata": {},
   "outputs": [
    {
     "data": {
      "text/html": [
       "<div>\n",
       "<style scoped>\n",
       "    .dataframe tbody tr th:only-of-type {\n",
       "        vertical-align: middle;\n",
       "    }\n",
       "\n",
       "    .dataframe tbody tr th {\n",
       "        vertical-align: top;\n",
       "    }\n",
       "\n",
       "    .dataframe thead th {\n",
       "        text-align: right;\n",
       "    }\n",
       "</style>\n",
       "<table border=\"1\" class=\"dataframe\">\n",
       "  <thead>\n",
       "    <tr style=\"text-align: right;\">\n",
       "      <th></th>\n",
       "      <th>단지코드</th>\n",
       "      <th>총세대수</th>\n",
       "      <th>임대건물구분</th>\n",
       "      <th>지역</th>\n",
       "      <th>공급유형</th>\n",
       "      <th>전용면적</th>\n",
       "      <th>전용면적별세대수</th>\n",
       "      <th>공가수</th>\n",
       "      <th>자격유형</th>\n",
       "      <th>임대보증금</th>\n",
       "      <th>임대료</th>\n",
       "      <th>지하철</th>\n",
       "      <th>버스</th>\n",
       "      <th>단지내주차면수</th>\n",
       "      <th>등록차량수</th>\n",
       "    </tr>\n",
       "  </thead>\n",
       "  <tbody>\n",
       "    <tr>\n",
       "      <th>2284</th>\n",
       "      <td>C1350</td>\n",
       "      <td>1401</td>\n",
       "      <td>아파트</td>\n",
       "      <td>대전광역시</td>\n",
       "      <td>공공분양</td>\n",
       "      <td>74.94</td>\n",
       "      <td>317</td>\n",
       "      <td>2.0</td>\n",
       "      <td>D</td>\n",
       "      <td>NaN</td>\n",
       "      <td>NaN</td>\n",
       "      <td>NaN</td>\n",
       "      <td>6.0</td>\n",
       "      <td>1636.0</td>\n",
       "      <td>2315.0</td>\n",
       "    </tr>\n",
       "    <tr>\n",
       "      <th>2285</th>\n",
       "      <td>C1350</td>\n",
       "      <td>1401</td>\n",
       "      <td>아파트</td>\n",
       "      <td>대전광역시</td>\n",
       "      <td>공공분양</td>\n",
       "      <td>74.94</td>\n",
       "      <td>137</td>\n",
       "      <td>2.0</td>\n",
       "      <td>D</td>\n",
       "      <td>NaN</td>\n",
       "      <td>NaN</td>\n",
       "      <td>NaN</td>\n",
       "      <td>6.0</td>\n",
       "      <td>1636.0</td>\n",
       "      <td>2315.0</td>\n",
       "    </tr>\n",
       "    <tr>\n",
       "      <th>2286</th>\n",
       "      <td>C1350</td>\n",
       "      <td>1401</td>\n",
       "      <td>아파트</td>\n",
       "      <td>대전광역시</td>\n",
       "      <td>공공분양</td>\n",
       "      <td>74.94</td>\n",
       "      <td>22</td>\n",
       "      <td>2.0</td>\n",
       "      <td>D</td>\n",
       "      <td>NaN</td>\n",
       "      <td>NaN</td>\n",
       "      <td>NaN</td>\n",
       "      <td>6.0</td>\n",
       "      <td>1636.0</td>\n",
       "      <td>2315.0</td>\n",
       "    </tr>\n",
       "    <tr>\n",
       "      <th>2287</th>\n",
       "      <td>C1350</td>\n",
       "      <td>1401</td>\n",
       "      <td>아파트</td>\n",
       "      <td>대전광역시</td>\n",
       "      <td>공공분양</td>\n",
       "      <td>84.94</td>\n",
       "      <td>164</td>\n",
       "      <td>2.0</td>\n",
       "      <td>D</td>\n",
       "      <td>NaN</td>\n",
       "      <td>NaN</td>\n",
       "      <td>NaN</td>\n",
       "      <td>6.0</td>\n",
       "      <td>1636.0</td>\n",
       "      <td>2315.0</td>\n",
       "    </tr>\n",
       "    <tr>\n",
       "      <th>2288</th>\n",
       "      <td>C1350</td>\n",
       "      <td>1401</td>\n",
       "      <td>아파트</td>\n",
       "      <td>대전광역시</td>\n",
       "      <td>공공분양</td>\n",
       "      <td>84.94</td>\n",
       "      <td>19</td>\n",
       "      <td>2.0</td>\n",
       "      <td>D</td>\n",
       "      <td>NaN</td>\n",
       "      <td>NaN</td>\n",
       "      <td>NaN</td>\n",
       "      <td>6.0</td>\n",
       "      <td>1636.0</td>\n",
       "      <td>2315.0</td>\n",
       "    </tr>\n",
       "    <tr>\n",
       "      <th>2289</th>\n",
       "      <td>C1350</td>\n",
       "      <td>1401</td>\n",
       "      <td>아파트</td>\n",
       "      <td>대전광역시</td>\n",
       "      <td>공공분양</td>\n",
       "      <td>84.96</td>\n",
       "      <td>26</td>\n",
       "      <td>2.0</td>\n",
       "      <td>D</td>\n",
       "      <td>NaN</td>\n",
       "      <td>NaN</td>\n",
       "      <td>NaN</td>\n",
       "      <td>6.0</td>\n",
       "      <td>1636.0</td>\n",
       "      <td>2315.0</td>\n",
       "    </tr>\n",
       "    <tr>\n",
       "      <th>2290</th>\n",
       "      <td>C1350</td>\n",
       "      <td>1401</td>\n",
       "      <td>아파트</td>\n",
       "      <td>대전광역시</td>\n",
       "      <td>공공분양</td>\n",
       "      <td>84.97</td>\n",
       "      <td>26</td>\n",
       "      <td>2.0</td>\n",
       "      <td>D</td>\n",
       "      <td>NaN</td>\n",
       "      <td>NaN</td>\n",
       "      <td>NaN</td>\n",
       "      <td>6.0</td>\n",
       "      <td>1636.0</td>\n",
       "      <td>2315.0</td>\n",
       "    </tr>\n",
       "  </tbody>\n",
       "</table>\n",
       "</div>"
      ],
      "text/plain": [
       "       단지코드  총세대수 임대건물구분     지역  공급유형   전용면적  전용면적별세대수  공가수 자격유형 임대보증금  임대료  \\\n",
       "2284  C1350  1401    아파트  대전광역시  공공분양  74.94       317  2.0    D   NaN  NaN   \n",
       "2285  C1350  1401    아파트  대전광역시  공공분양  74.94       137  2.0    D   NaN  NaN   \n",
       "2286  C1350  1401    아파트  대전광역시  공공분양  74.94        22  2.0    D   NaN  NaN   \n",
       "2287  C1350  1401    아파트  대전광역시  공공분양  84.94       164  2.0    D   NaN  NaN   \n",
       "2288  C1350  1401    아파트  대전광역시  공공분양  84.94        19  2.0    D   NaN  NaN   \n",
       "2289  C1350  1401    아파트  대전광역시  공공분양  84.96        26  2.0    D   NaN  NaN   \n",
       "2290  C1350  1401    아파트  대전광역시  공공분양  84.97        26  2.0    D   NaN  NaN   \n",
       "\n",
       "      지하철   버스  단지내주차면수   등록차량수  \n",
       "2284  NaN  6.0   1636.0  2315.0  \n",
       "2285  NaN  6.0   1636.0  2315.0  \n",
       "2286  NaN  6.0   1636.0  2315.0  \n",
       "2287  NaN  6.0   1636.0  2315.0  \n",
       "2288  NaN  6.0   1636.0  2315.0  \n",
       "2289  NaN  6.0   1636.0  2315.0  \n",
       "2290  NaN  6.0   1636.0  2315.0  "
      ]
     },
     "execution_count": 31,
     "metadata": {},
     "output_type": "execute_result"
    }
   ],
   "source": [
    "df_train.loc[(df_train['임대건물구분'] != '상가') & (df_train['임대보증금'].isnull())]"
   ]
  },
  {
   "cell_type": "code",
   "execution_count": 32,
   "id": "97df6af0",
   "metadata": {},
   "outputs": [
    {
     "data": {
      "text/html": [
       "<div>\n",
       "<style scoped>\n",
       "    .dataframe tbody tr th:only-of-type {\n",
       "        vertical-align: middle;\n",
       "    }\n",
       "\n",
       "    .dataframe tbody tr th {\n",
       "        vertical-align: top;\n",
       "    }\n",
       "\n",
       "    .dataframe thead th {\n",
       "        text-align: right;\n",
       "    }\n",
       "</style>\n",
       "<table border=\"1\" class=\"dataframe\">\n",
       "  <thead>\n",
       "    <tr style=\"text-align: right;\">\n",
       "      <th></th>\n",
       "      <th>단지코드</th>\n",
       "      <th>총세대수</th>\n",
       "      <th>임대건물구분</th>\n",
       "      <th>지역</th>\n",
       "      <th>공급유형</th>\n",
       "      <th>전용면적</th>\n",
       "      <th>전용면적별세대수</th>\n",
       "      <th>공가수</th>\n",
       "      <th>자격유형</th>\n",
       "      <th>임대보증금</th>\n",
       "      <th>임대료</th>\n",
       "      <th>지하철</th>\n",
       "      <th>버스</th>\n",
       "      <th>단지내주차면수</th>\n",
       "    </tr>\n",
       "  </thead>\n",
       "  <tbody>\n",
       "    <tr>\n",
       "      <th>76</th>\n",
       "      <td>C1006</td>\n",
       "      <td>1505</td>\n",
       "      <td>아파트</td>\n",
       "      <td>대전광역시</td>\n",
       "      <td>영구임대</td>\n",
       "      <td>26.37</td>\n",
       "      <td>10</td>\n",
       "      <td>27.0</td>\n",
       "      <td>D</td>\n",
       "      <td>NaN</td>\n",
       "      <td>NaN</td>\n",
       "      <td>2.0</td>\n",
       "      <td>5.0</td>\n",
       "      <td>428.0</td>\n",
       "    </tr>\n",
       "    <tr>\n",
       "      <th>77</th>\n",
       "      <td>C1006</td>\n",
       "      <td>1505</td>\n",
       "      <td>아파트</td>\n",
       "      <td>대전광역시</td>\n",
       "      <td>영구임대</td>\n",
       "      <td>26.37</td>\n",
       "      <td>10</td>\n",
       "      <td>27.0</td>\n",
       "      <td>D</td>\n",
       "      <td>NaN</td>\n",
       "      <td>NaN</td>\n",
       "      <td>2.0</td>\n",
       "      <td>5.0</td>\n",
       "      <td>428.0</td>\n",
       "    </tr>\n",
       "    <tr>\n",
       "      <th>79</th>\n",
       "      <td>C1006</td>\n",
       "      <td>1505</td>\n",
       "      <td>아파트</td>\n",
       "      <td>대전광역시</td>\n",
       "      <td>영구임대</td>\n",
       "      <td>52.74</td>\n",
       "      <td>6</td>\n",
       "      <td>27.0</td>\n",
       "      <td>D</td>\n",
       "      <td>NaN</td>\n",
       "      <td>NaN</td>\n",
       "      <td>2.0</td>\n",
       "      <td>5.0</td>\n",
       "      <td>428.0</td>\n",
       "    </tr>\n",
       "  </tbody>\n",
       "</table>\n",
       "</div>"
      ],
      "text/plain": [
       "     단지코드  총세대수 임대건물구분     지역  공급유형   전용면적  전용면적별세대수   공가수 자격유형 임대보증금  임대료  \\\n",
       "76  C1006  1505    아파트  대전광역시  영구임대  26.37        10  27.0    D   NaN  NaN   \n",
       "77  C1006  1505    아파트  대전광역시  영구임대  26.37        10  27.0    D   NaN  NaN   \n",
       "79  C1006  1505    아파트  대전광역시  영구임대  52.74         6  27.0    D   NaN  NaN   \n",
       "\n",
       "    지하철   버스  단지내주차면수  \n",
       "76  2.0  5.0    428.0  \n",
       "77  2.0  5.0    428.0  \n",
       "79  2.0  5.0    428.0  "
      ]
     },
     "execution_count": 32,
     "metadata": {},
     "output_type": "execute_result"
    }
   ],
   "source": [
    "df_test.loc[(df_test['임대건물구분'] != '상가') & (df_test['임대보증금'].isnull())]"
   ]
  },
  {
   "cell_type": "code",
   "execution_count": 33,
   "id": "6989a9e9",
   "metadata": {},
   "outputs": [
    {
     "name": "stdout",
     "output_type": "stream",
     "text": [
      "전체 단지 수:  411\n",
      "상가 보유 단지 수:  33\n",
      "상가 보유 단지:  ['C1925' 'C1874' 'C2416' 'C2621' 'C1616' 'C1704' 'C2258' 'C2038' 'C1859'\n",
      " 'C1722' 'C2190' 'C1476' 'C1983' 'C2135' 'C2034' 'C1109' 'C2289' 'C2597'\n",
      " 'C2310' 'C2132' 'C1439' 'C1899' 'C1056' 'C2644' 'C1206' 'C1775' 'C1790'\n",
      " 'C2109' 'C1698' 'C1004' 'C1875' 'C2212' 'C2571']\n",
      "상가 보유 단지 지역:  ['강원도' '충청남도' '경상남도' '대전광역시' '부산광역시' '제주특별자치도']\n"
     ]
    }
   ],
   "source": [
    "print('전체 단지 수: ', df_train['단지코드'].nunique())\n",
    "print('상가 보유 단지 수: ', df_train.loc[df_train['임대건물구분'] == '상가']['단지코드'].nunique())\n",
    "print('상가 보유 단지: ', df_train.loc[df_train['임대건물구분'] == '상가']['단지코드'].unique())\n",
    "print('상가 보유 단지 지역: ', df_train.loc[df_train['임대건물구분'] == '상가']['지역'].unique())"
   ]
  },
  {
   "cell_type": "code",
   "execution_count": 34,
   "id": "f9a07ac9",
   "metadata": {},
   "outputs": [
    {
     "name": "stdout",
     "output_type": "stream",
     "text": [
      "전체 단지 수:  147\n",
      "상가 보유 단지 수:  7\n",
      "상가 보유 단지:  ['C1006' 'C2676' 'C2177' 'C2033' 'C1812' 'C2253' 'C1729']\n",
      "상가 보유 단지 지역:  ['대전광역시' '부산광역시' '충청남도' '울산광역시' '강원도']\n"
     ]
    }
   ],
   "source": [
    "print('전체 단지 수: ', df_test['단지코드'].nunique())\n",
    "print('상가 보유 단지 수: ', df_test.loc[df_test['임대건물구분'] == '상가']['단지코드'].nunique())\n",
    "print('상가 보유 단지: ', df_test.loc[df_test['임대건물구분'] == '상가']['단지코드'].unique())\n",
    "print('상가 보유 단지 지역: ', df_test.loc[df_test['임대건물구분'] == '상가']['지역'].unique())"
   ]
  },
  {
   "cell_type": "markdown",
   "id": "9a50dc56",
   "metadata": {},
   "source": [
    "총세대수"
   ]
  },
  {
   "cell_type": "code",
   "execution_count": 35,
   "id": "e817e6a6",
   "metadata": {},
   "outputs": [
    {
     "data": {
      "text/plain": [
       "521"
      ]
     },
     "execution_count": 35,
     "metadata": {},
     "output_type": "execute_result"
    }
   ],
   "source": [
    "df_train.loc[df_train['단지코드'] == 'C1004']['전용면적별세대수'].sum()"
   ]
  },
  {
   "cell_type": "code",
   "execution_count": 36,
   "id": "8e8ebbb2",
   "metadata": {},
   "outputs": [
    {
     "data": {
      "text/plain": [
       "38"
      ]
     },
     "execution_count": 36,
     "metadata": {},
     "output_type": "execute_result"
    }
   ],
   "source": [
    "(df_train.groupby(['단지코드'])['전용면적별세대수'].sum() != df_train.groupby(['단지코드'])['총세대수'].max()).sum()"
   ]
  },
  {
   "cell_type": "code",
   "execution_count": 37,
   "id": "dfdebf3a",
   "metadata": {},
   "outputs": [
    {
     "data": {
      "text/html": [
       "<div>\n",
       "<style scoped>\n",
       "    .dataframe tbody tr th:only-of-type {\n",
       "        vertical-align: middle;\n",
       "    }\n",
       "\n",
       "    .dataframe tbody tr th {\n",
       "        vertical-align: top;\n",
       "    }\n",
       "\n",
       "    .dataframe thead th {\n",
       "        text-align: right;\n",
       "    }\n",
       "</style>\n",
       "<table border=\"1\" class=\"dataframe\">\n",
       "  <thead>\n",
       "    <tr style=\"text-align: right;\">\n",
       "      <th></th>\n",
       "      <th>총세대수</th>\n",
       "      <th>지역</th>\n",
       "      <th>공가수</th>\n",
       "      <th>지하철</th>\n",
       "      <th>버스</th>\n",
       "      <th>단지내주차면수</th>\n",
       "      <th>등록차량수</th>\n",
       "    </tr>\n",
       "    <tr>\n",
       "      <th>단지코드</th>\n",
       "      <th></th>\n",
       "      <th></th>\n",
       "      <th></th>\n",
       "      <th></th>\n",
       "      <th></th>\n",
       "      <th></th>\n",
       "      <th></th>\n",
       "    </tr>\n",
       "  </thead>\n",
       "  <tbody>\n",
       "    <tr>\n",
       "      <th>C1925</th>\n",
       "      <td>601</td>\n",
       "      <td>강원도</td>\n",
       "      <td>9.0</td>\n",
       "      <td>0.0</td>\n",
       "      <td>4.0</td>\n",
       "      <td>117.0</td>\n",
       "      <td>75.0</td>\n",
       "    </tr>\n",
       "    <tr>\n",
       "      <th>C1312</th>\n",
       "      <td>518</td>\n",
       "      <td>충청남도</td>\n",
       "      <td>12.0</td>\n",
       "      <td>NaN</td>\n",
       "      <td>3.0</td>\n",
       "      <td>527.0</td>\n",
       "      <td>359.0</td>\n",
       "    </tr>\n",
       "    <tr>\n",
       "      <th>C2013</th>\n",
       "      <td>595</td>\n",
       "      <td>경상남도</td>\n",
       "      <td>3.0</td>\n",
       "      <td>0.0</td>\n",
       "      <td>3.0</td>\n",
       "      <td>509.0</td>\n",
       "      <td>91.0</td>\n",
       "    </tr>\n",
       "    <tr>\n",
       "      <th>C1424</th>\n",
       "      <td>625</td>\n",
       "      <td>대전광역시</td>\n",
       "      <td>2.0</td>\n",
       "      <td>NaN</td>\n",
       "      <td>7.0</td>\n",
       "      <td>517.0</td>\n",
       "      <td>179.0</td>\n",
       "    </tr>\n",
       "    <tr>\n",
       "      <th>C2520</th>\n",
       "      <td>970</td>\n",
       "      <td>대전광역시</td>\n",
       "      <td>2.0</td>\n",
       "      <td>NaN</td>\n",
       "      <td>2.0</td>\n",
       "      <td>420.0</td>\n",
       "      <td>386.0</td>\n",
       "    </tr>\n",
       "    <tr>\n",
       "      <th>C2319</th>\n",
       "      <td>606</td>\n",
       "      <td>대전광역시</td>\n",
       "      <td>1.0</td>\n",
       "      <td>1.0</td>\n",
       "      <td>12.0</td>\n",
       "      <td>548.0</td>\n",
       "      <td>266.0</td>\n",
       "    </tr>\n",
       "    <tr>\n",
       "      <th>C1850</th>\n",
       "      <td>388</td>\n",
       "      <td>경상남도</td>\n",
       "      <td>0.0</td>\n",
       "      <td>0.0</td>\n",
       "      <td>4.0</td>\n",
       "      <td>226.0</td>\n",
       "      <td>254.0</td>\n",
       "    </tr>\n",
       "    <tr>\n",
       "      <th>C1068</th>\n",
       "      <td>806</td>\n",
       "      <td>충청남도</td>\n",
       "      <td>11.0</td>\n",
       "      <td>NaN</td>\n",
       "      <td>2.0</td>\n",
       "      <td>804.0</td>\n",
       "      <td>510.0</td>\n",
       "    </tr>\n",
       "    <tr>\n",
       "      <th>C2644</th>\n",
       "      <td>779</td>\n",
       "      <td>충청남도</td>\n",
       "      <td>7.0</td>\n",
       "      <td>NaN</td>\n",
       "      <td>12.0</td>\n",
       "      <td>190.0</td>\n",
       "      <td>177.0</td>\n",
       "    </tr>\n",
       "    <tr>\n",
       "      <th>C1206</th>\n",
       "      <td>755</td>\n",
       "      <td>강원도</td>\n",
       "      <td>1.0</td>\n",
       "      <td>0.0</td>\n",
       "      <td>4.0</td>\n",
       "      <td>88.0</td>\n",
       "      <td>90.0</td>\n",
       "    </tr>\n",
       "    <tr>\n",
       "      <th>C2156</th>\n",
       "      <td>306</td>\n",
       "      <td>충청남도</td>\n",
       "      <td>0.0</td>\n",
       "      <td>NaN</td>\n",
       "      <td>1.0</td>\n",
       "      <td>246.0</td>\n",
       "      <td>204.0</td>\n",
       "    </tr>\n",
       "    <tr>\n",
       "      <th>C1344</th>\n",
       "      <td>424</td>\n",
       "      <td>서울특별시</td>\n",
       "      <td>0.0</td>\n",
       "      <td>0.0</td>\n",
       "      <td>3.0</td>\n",
       "      <td>467.0</td>\n",
       "      <td>509.0</td>\n",
       "    </tr>\n",
       "    <tr>\n",
       "      <th>C1804</th>\n",
       "      <td>478</td>\n",
       "      <td>경기도</td>\n",
       "      <td>3.0</td>\n",
       "      <td>0.0</td>\n",
       "      <td>3.0</td>\n",
       "      <td>629.0</td>\n",
       "      <td>951.0</td>\n",
       "    </tr>\n",
       "    <tr>\n",
       "      <th>C1490</th>\n",
       "      <td>749</td>\n",
       "      <td>충청북도</td>\n",
       "      <td>24.0</td>\n",
       "      <td>0.0</td>\n",
       "      <td>3.0</td>\n",
       "      <td>759.0</td>\n",
       "      <td>899.0</td>\n",
       "    </tr>\n",
       "    <tr>\n",
       "      <th>C1024</th>\n",
       "      <td>680</td>\n",
       "      <td>서울특별시</td>\n",
       "      <td>2.0</td>\n",
       "      <td>0.0</td>\n",
       "      <td>3.0</td>\n",
       "      <td>877.0</td>\n",
       "      <td>957.0</td>\n",
       "    </tr>\n",
       "    <tr>\n",
       "      <th>C1740</th>\n",
       "      <td>783</td>\n",
       "      <td>경상북도</td>\n",
       "      <td>29.0</td>\n",
       "      <td>0.0</td>\n",
       "      <td>6.0</td>\n",
       "      <td>978.0</td>\n",
       "      <td>979.0</td>\n",
       "    </tr>\n",
       "    <tr>\n",
       "      <th>C2620</th>\n",
       "      <td>1029</td>\n",
       "      <td>전라남도</td>\n",
       "      <td>28.0</td>\n",
       "      <td>0.0</td>\n",
       "      <td>6.0</td>\n",
       "      <td>1061.0</td>\n",
       "      <td>1709.0</td>\n",
       "    </tr>\n",
       "    <tr>\n",
       "      <th>C2405</th>\n",
       "      <td>600</td>\n",
       "      <td>경상남도</td>\n",
       "      <td>22.0</td>\n",
       "      <td>0.0</td>\n",
       "      <td>8.0</td>\n",
       "      <td>728.0</td>\n",
       "      <td>1240.0</td>\n",
       "    </tr>\n",
       "    <tr>\n",
       "      <th>C2470</th>\n",
       "      <td>636</td>\n",
       "      <td>대전광역시</td>\n",
       "      <td>1.0</td>\n",
       "      <td>1.0</td>\n",
       "      <td>2.0</td>\n",
       "      <td>772.0</td>\n",
       "      <td>887.0</td>\n",
       "    </tr>\n",
       "    <tr>\n",
       "      <th>C2453</th>\n",
       "      <td>659</td>\n",
       "      <td>경기도</td>\n",
       "      <td>7.0</td>\n",
       "      <td>2.0</td>\n",
       "      <td>3.0</td>\n",
       "      <td>573.0</td>\n",
       "      <td>559.0</td>\n",
       "    </tr>\n",
       "    <tr>\n",
       "      <th>C1910</th>\n",
       "      <td>616</td>\n",
       "      <td>전라북도</td>\n",
       "      <td>21.0</td>\n",
       "      <td>0.0</td>\n",
       "      <td>2.0</td>\n",
       "      <td>350.0</td>\n",
       "      <td>396.0</td>\n",
       "    </tr>\n",
       "    <tr>\n",
       "      <th>C2139</th>\n",
       "      <td>311</td>\n",
       "      <td>경상남도</td>\n",
       "      <td>11.0</td>\n",
       "      <td>0.0</td>\n",
       "      <td>4.0</td>\n",
       "      <td>232.0</td>\n",
       "      <td>155.0</td>\n",
       "    </tr>\n",
       "    <tr>\n",
       "      <th>C2508</th>\n",
       "      <td>847</td>\n",
       "      <td>전라북도</td>\n",
       "      <td>13.0</td>\n",
       "      <td>0.0</td>\n",
       "      <td>3.0</td>\n",
       "      <td>496.0</td>\n",
       "      <td>568.0</td>\n",
       "    </tr>\n",
       "    <tr>\n",
       "      <th>C1695</th>\n",
       "      <td>203</td>\n",
       "      <td>전라남도</td>\n",
       "      <td>12.0</td>\n",
       "      <td>0.0</td>\n",
       "      <td>4.0</td>\n",
       "      <td>109.0</td>\n",
       "      <td>123.0</td>\n",
       "    </tr>\n",
       "    <tr>\n",
       "      <th>C2556</th>\n",
       "      <td>303</td>\n",
       "      <td>울산광역시</td>\n",
       "      <td>21.0</td>\n",
       "      <td>0.0</td>\n",
       "      <td>2.0</td>\n",
       "      <td>249.0</td>\n",
       "      <td>148.0</td>\n",
       "    </tr>\n",
       "    <tr>\n",
       "      <th>C2362</th>\n",
       "      <td>1509</td>\n",
       "      <td>경기도</td>\n",
       "      <td>46.0</td>\n",
       "      <td>0.0</td>\n",
       "      <td>2.0</td>\n",
       "      <td>1055.0</td>\n",
       "      <td>196.0</td>\n",
       "    </tr>\n",
       "    <tr>\n",
       "      <th>C2568</th>\n",
       "      <td>412</td>\n",
       "      <td>경상북도</td>\n",
       "      <td>31.0</td>\n",
       "      <td>0.0</td>\n",
       "      <td>2.0</td>\n",
       "      <td>287.0</td>\n",
       "      <td>189.0</td>\n",
       "    </tr>\n",
       "    <tr>\n",
       "      <th>C2245</th>\n",
       "      <td>212</td>\n",
       "      <td>경상남도</td>\n",
       "      <td>22.0</td>\n",
       "      <td>0.0</td>\n",
       "      <td>1.0</td>\n",
       "      <td>114.0</td>\n",
       "      <td>98.0</td>\n",
       "    </tr>\n",
       "    <tr>\n",
       "      <th>C2549</th>\n",
       "      <td>202</td>\n",
       "      <td>제주특별자치도</td>\n",
       "      <td>17.0</td>\n",
       "      <td>0.0</td>\n",
       "      <td>2.0</td>\n",
       "      <td>141.0</td>\n",
       "      <td>165.0</td>\n",
       "    </tr>\n",
       "    <tr>\n",
       "      <th>C1584</th>\n",
       "      <td>1227</td>\n",
       "      <td>경기도</td>\n",
       "      <td>40.0</td>\n",
       "      <td>0.0</td>\n",
       "      <td>3.0</td>\n",
       "      <td>857.0</td>\n",
       "      <td>507.0</td>\n",
       "    </tr>\n",
       "    <tr>\n",
       "      <th>C2298</th>\n",
       "      <td>581</td>\n",
       "      <td>대전광역시</td>\n",
       "      <td>21.0</td>\n",
       "      <td>0.0</td>\n",
       "      <td>3.0</td>\n",
       "      <td>408.0</td>\n",
       "      <td>444.0</td>\n",
       "    </tr>\n",
       "    <tr>\n",
       "      <th>C2225</th>\n",
       "      <td>1206</td>\n",
       "      <td>경상남도</td>\n",
       "      <td>49.0</td>\n",
       "      <td>0.0</td>\n",
       "      <td>3.0</td>\n",
       "      <td>842.0</td>\n",
       "      <td>448.0</td>\n",
       "    </tr>\n",
       "    <tr>\n",
       "      <th>C1970</th>\n",
       "      <td>214</td>\n",
       "      <td>광주광역시</td>\n",
       "      <td>16.0</td>\n",
       "      <td>0.0</td>\n",
       "      <td>6.0</td>\n",
       "      <td>108.0</td>\n",
       "      <td>159.0</td>\n",
       "    </tr>\n",
       "    <tr>\n",
       "      <th>C1732</th>\n",
       "      <td>266</td>\n",
       "      <td>광주광역시</td>\n",
       "      <td>17.0</td>\n",
       "      <td>0.0</td>\n",
       "      <td>3.0</td>\n",
       "      <td>188.0</td>\n",
       "      <td>267.0</td>\n",
       "    </tr>\n",
       "    <tr>\n",
       "      <th>C2433</th>\n",
       "      <td>511</td>\n",
       "      <td>경기도</td>\n",
       "      <td>19.0</td>\n",
       "      <td>0.0</td>\n",
       "      <td>2.0</td>\n",
       "      <td>389.0</td>\n",
       "      <td>130.0</td>\n",
       "    </tr>\n",
       "    <tr>\n",
       "      <th>C1156</th>\n",
       "      <td>1004</td>\n",
       "      <td>충청북도</td>\n",
       "      <td>47.0</td>\n",
       "      <td>0.0</td>\n",
       "      <td>3.0</td>\n",
       "      <td>700.0</td>\n",
       "      <td>505.0</td>\n",
       "    </tr>\n",
       "    <tr>\n",
       "      <th>C2142</th>\n",
       "      <td>954</td>\n",
       "      <td>울산광역시</td>\n",
       "      <td>41.0</td>\n",
       "      <td>0.0</td>\n",
       "      <td>5.0</td>\n",
       "      <td>772.0</td>\n",
       "      <td>396.0</td>\n",
       "    </tr>\n",
       "    <tr>\n",
       "      <th>C2186</th>\n",
       "      <td>924</td>\n",
       "      <td>대구광역시</td>\n",
       "      <td>0.0</td>\n",
       "      <td>0.0</td>\n",
       "      <td>8.0</td>\n",
       "      <td>664.0</td>\n",
       "      <td>744.0</td>\n",
       "    </tr>\n",
       "  </tbody>\n",
       "</table>\n",
       "</div>"
      ],
      "text/plain": [
       "       총세대수       지역   공가수  지하철    버스  단지내주차면수   등록차량수\n",
       "단지코드                                                  \n",
       "C1925   601      강원도   9.0  0.0   4.0    117.0    75.0\n",
       "C1312   518     충청남도  12.0  NaN   3.0    527.0   359.0\n",
       "C2013   595     경상남도   3.0  0.0   3.0    509.0    91.0\n",
       "C1424   625    대전광역시   2.0  NaN   7.0    517.0   179.0\n",
       "C2520   970    대전광역시   2.0  NaN   2.0    420.0   386.0\n",
       "C2319   606    대전광역시   1.0  1.0  12.0    548.0   266.0\n",
       "C1850   388     경상남도   0.0  0.0   4.0    226.0   254.0\n",
       "C1068   806     충청남도  11.0  NaN   2.0    804.0   510.0\n",
       "C2644   779     충청남도   7.0  NaN  12.0    190.0   177.0\n",
       "C1206   755      강원도   1.0  0.0   4.0     88.0    90.0\n",
       "C2156   306     충청남도   0.0  NaN   1.0    246.0   204.0\n",
       "C1344   424    서울특별시   0.0  0.0   3.0    467.0   509.0\n",
       "C1804   478      경기도   3.0  0.0   3.0    629.0   951.0\n",
       "C1490   749     충청북도  24.0  0.0   3.0    759.0   899.0\n",
       "C1024   680    서울특별시   2.0  0.0   3.0    877.0   957.0\n",
       "C1740   783     경상북도  29.0  0.0   6.0    978.0   979.0\n",
       "C2620  1029     전라남도  28.0  0.0   6.0   1061.0  1709.0\n",
       "C2405   600     경상남도  22.0  0.0   8.0    728.0  1240.0\n",
       "C2470   636    대전광역시   1.0  1.0   2.0    772.0   887.0\n",
       "C2453   659      경기도   7.0  2.0   3.0    573.0   559.0\n",
       "C1910   616     전라북도  21.0  0.0   2.0    350.0   396.0\n",
       "C2139   311     경상남도  11.0  0.0   4.0    232.0   155.0\n",
       "C2508   847     전라북도  13.0  0.0   3.0    496.0   568.0\n",
       "C1695   203     전라남도  12.0  0.0   4.0    109.0   123.0\n",
       "C2556   303    울산광역시  21.0  0.0   2.0    249.0   148.0\n",
       "C2362  1509      경기도  46.0  0.0   2.0   1055.0   196.0\n",
       "C2568   412     경상북도  31.0  0.0   2.0    287.0   189.0\n",
       "C2245   212     경상남도  22.0  0.0   1.0    114.0    98.0\n",
       "C2549   202  제주특별자치도  17.0  0.0   2.0    141.0   165.0\n",
       "C1584  1227      경기도  40.0  0.0   3.0    857.0   507.0\n",
       "C2298   581    대전광역시  21.0  0.0   3.0    408.0   444.0\n",
       "C2225  1206     경상남도  49.0  0.0   3.0    842.0   448.0\n",
       "C1970   214    광주광역시  16.0  0.0   6.0    108.0   159.0\n",
       "C1732   266    광주광역시  17.0  0.0   3.0    188.0   267.0\n",
       "C2433   511      경기도  19.0  0.0   2.0    389.0   130.0\n",
       "C1156  1004     충청북도  47.0  0.0   3.0    700.0   505.0\n",
       "C2142   954    울산광역시  41.0  0.0   5.0    772.0   396.0\n",
       "C2186   924    대구광역시   0.0  0.0   8.0    664.0   744.0"
      ]
     },
     "execution_count": 37,
     "metadata": {},
     "output_type": "execute_result"
    }
   ],
   "source": [
    "train_danji.set_index('단지코드').loc[(df_train.groupby(['단지코드'])['전용면적별세대수'].sum() != \n",
    "df_train.groupby(['단지코드'])['총세대수'].max())]"
   ]
  },
  {
   "cell_type": "markdown",
   "id": "a987f4e6",
   "metadata": {},
   "source": [
    "### Feature Engineering "
   ]
  },
  {
   "cell_type": "code",
   "execution_count": 38,
   "id": "7ad2e830",
   "metadata": {},
   "outputs": [
    {
     "name": "stdout",
     "output_type": "stream",
     "text": [
      "<class 'pandas.core.frame.DataFrame'>\n",
      "RangeIndex: 2869 entries, 0 to 2868\n",
      "Data columns (total 15 columns):\n",
      " #   Column    Non-Null Count  Dtype  \n",
      "---  ------    --------------  -----  \n",
      " 0   단지코드      2869 non-null   object \n",
      " 1   총세대수      2869 non-null   int64  \n",
      " 2   임대건물구분    2869 non-null   object \n",
      " 3   지역        2869 non-null   object \n",
      " 4   공급유형      2869 non-null   object \n",
      " 5   전용면적      2869 non-null   float64\n",
      " 6   전용면적별세대수  2869 non-null   int64  \n",
      " 7   공가수       2869 non-null   float64\n",
      " 8   자격유형      2869 non-null   object \n",
      " 9   임대보증금     2300 non-null   object \n",
      " 10  임대료       2300 non-null   object \n",
      " 11  지하철       2662 non-null   float64\n",
      " 12  버스        2869 non-null   float64\n",
      " 13  단지내주차면수   2869 non-null   float64\n",
      " 14  등록차량수     2869 non-null   float64\n",
      "dtypes: float64(6), int64(2), object(7)\n",
      "memory usage: 336.3+ KB\n"
     ]
    }
   ],
   "source": [
    "df_train.info()"
   ]
  },
  {
   "cell_type": "code",
   "execution_count": 39,
   "id": "7e8f481d",
   "metadata": {},
   "outputs": [
    {
     "data": {
      "text/plain": [
       "((2869, 15), (2549, 15))"
      ]
     },
     "execution_count": 39,
     "metadata": {},
     "output_type": "execute_result"
    }
   ],
   "source": [
    "# 중복데이터 존재여부 확인 및 제거 \n",
    "df_train.shape, df_train.drop_duplicates().shape # 중복 존재"
   ]
  },
  {
   "cell_type": "code",
   "execution_count": 40,
   "id": "bd7ee125",
   "metadata": {},
   "outputs": [
    {
     "data": {
      "text/plain": [
       "((1008, 14), (936, 14))"
      ]
     },
     "execution_count": 40,
     "metadata": {},
     "output_type": "execute_result"
    }
   ],
   "source": [
    "df_test.shape, df_test.drop_duplicates().shape"
   ]
  },
  {
   "cell_type": "code",
   "execution_count": 41,
   "id": "d146ad4b",
   "metadata": {},
   "outputs": [],
   "source": [
    "df_train = df_train.drop_duplicates()\n",
    "df_test = df_test.drop_duplicates()"
   ]
  },
  {
   "cell_type": "code",
   "execution_count": 42,
   "id": "432ea5b8",
   "metadata": {},
   "outputs": [],
   "source": [
    "df_train.loc[df_train.임대보증금=='-', '임대보증금'] = np.nan\n",
    "df_test.loc[df_test.임대보증금=='-', '임대보증금'] = np.nan\n",
    "df_train['임대보증금'] = df_train['임대보증금'].astype(float)\n",
    "df_test['임대보증금'] = df_test['임대보증금'].astype(float)\n",
    "\n",
    "df_train.loc[df_train.임대료=='-', '임대료'] = np.nan\n",
    "df_test.loc[df_test.임대료=='-', '임대료'] = np.nan\n",
    "\n",
    "df_train['임대료'] = df_train['임대료'].astype(float)\n",
    "df_test['임대료'] = df_test['임대료'].astype(float)"
   ]
  },
  {
   "cell_type": "markdown",
   "id": "1581f981",
   "metadata": {},
   "source": [
    "##### 임대료 및 임대 보증금 처리\n"
   ]
  },
  {
   "cell_type": "code",
   "execution_count": 43,
   "id": "685f5b51",
   "metadata": {},
   "outputs": [],
   "source": [
    "df_train['임대보증금'] = df_train['임대보증금'].fillna(0)\n",
    "df_train['임대료'] = df_train['임대료'].fillna(0)\n",
    "\n",
    "df_test['임대보증금'] = df_test['임대보증금'].fillna(0)\n",
    "df_test['임대료'] = df_test['임대료'].fillna(0)"
   ]
  },
  {
   "cell_type": "code",
   "execution_count": 44,
   "id": "da4b3a1a",
   "metadata": {},
   "outputs": [],
   "source": [
    "#임대 상가의 임대료 처리 \n",
    "df_train.loc[df_train['지역'] == '부산광역시', '임대료'] = df_train['임대료'].fillna(df_train[df_train['지역'] == '부산광역시']['임대료'].mean())\n",
    "df_train.loc[df_train['지역'] == '대전광역시', '임대료'] = df_train['임대료'].fillna(df_train[df_train['지역'] == '대전광역시']['임대료'].mean())\n",
    "df_train.loc[df_train['지역'] == '경상남도', '임대료'] = df_train['임대료'].fillna(df_train[df_train['지역'] == '경상남도']['임대료'].mean())\n",
    "df_train.loc[df_train['지역'] == '충청남도', '임대료'] = df_train['임대료'].fillna(df_train[df_train['지역'] == '충청남도']['임대료'].mean())\n",
    "df_train.loc[df_train['지역'] == '강원도', '임대료'] = df_train['임대료'].fillna(df_train[df_train['지역'] == '강원도']['임대료'].mean())\n",
    "df_train.loc[df_train['지역'] == '제주특별자치도', '임대료'] = df_train['임대료'].fillna(df_train[df_train['지역'] == '제주특별자치도']['임대료'].mean())\n",
    "\n",
    "#임대 상가의 임대보증금 처리 \n",
    "df_train.loc[df_train['지역'] == '부산광역시', '임대보증금'] = df_train['임대보증금'].fillna(df_train[df_train['지역'] == '부산광역시']['임대보증금'].mean())\n",
    "df_train.loc[df_train['지역'] == '대전광역시', '임대보증금'] = df_train['임대보증금'].fillna(df_train[df_train['지역'] == '대전광역시']['임대보증금'].mean())\n",
    "df_train.loc[df_train['지역'] == '경상남도', '임대보증금'] = df_train['임대보증금'].fillna(df_train[df_train['지역'] == '경상남도']['임대보증금'].mean())\n",
    "df_train.loc[df_train['지역'] == '충청남도', '임대보증금'] = df_train['임대보증금'].fillna(df_train[df_train['지역'] == '충청남도']['임대보증금'].mean())\n",
    "df_train.loc[df_train['지역'] == '강원도', '임대보증금'] = df_train['임대보증금'].fillna(df_train[df_train['지역'] == '강원도']['임대보증금'].mean())\n",
    "df_train.loc[df_train['지역'] == '제주특별자치도', '임대보증금'] = df_train['임대보증금'].fillna(df_train[df_train['지역'] == '제주특별자치도']['임대보증금'].mean())"
   ]
  },
  {
   "cell_type": "code",
   "execution_count": 45,
   "id": "252f8d26",
   "metadata": {},
   "outputs": [],
   "source": [
    "#임대 상가의 임대료 처리  (test 특성 기준 test null 값 처리는 data leakage 여서 train의 지역 기준으로 test 처리)\n",
    "df_test.loc[df_test['지역'] == '부산광역시', '임대료'] = df_test['임대료'].fillna(df_train[df_train['지역'] == '부산광역시']['임대료'].mean())\n",
    "df_test.loc[df_test['지역'] == '대전광역시', '임대료'] = df_test['임대료'].fillna(df_train[df_train['지역'] == '대전광역시']['임대료'].mean())\n",
    "df_test.loc[df_test['지역'] == '울산광역시', '임대료'] = df_test['임대료'].fillna(df_train[df_train['지역'] == '울산광역시']['임대료'].mean())\n",
    "df_test.loc[df_test['지역'] == '충청남도', '임대료'] = df_test['임대료'].fillna(df_train[df_train['지역'] == '충청남도']['임대료'].mean())\n",
    "df_test.loc[df_test['지역'] == '강원도', '임대료'] = df_test['임대료'].fillna(df_train[df_train['지역'] == '강원도']['임대료'].mean())  \n",
    "\n",
    "\n",
    "#임대 상가의 임대보증금 처리 \n",
    "df_test.loc[df_test['지역'] == '부산광역시', '임대보증금'] = df_test['임대보증금'].fillna(df_train[df_train['지역'] == '부산광역시']['임대보증금'].mean())\n",
    "df_test.loc[df_test['지역'] == '대전광역시', '임대보증금'] = df_test['임대보증금'].fillna(df_train[df_train['지역'] == '대전광역시']['임대보증금'].mean())\n",
    "df_test.loc[df_test['지역'] == '울산광역시', '임대보증금'] = df_test['임대보증금'].fillna(df_train[df_train['지역'] == '울산광역시']['임대보증금'].mean())\n",
    "df_test.loc[df_test['지역'] == '충청남도', '임대보증금'] = df_test['임대보증금'].fillna(df_train[df_train['지역'] == '충청남도']['임대보증금'].mean())\n",
    "df_test.loc[df_test['지역'] == '강원도', '임대보증금'] = df_test['임대보증금'].fillna(df_train[df_train['지역'] == '강원도']['임대보증금'].mean())"
   ]
  },
  {
   "cell_type": "code",
   "execution_count": 46,
   "id": "a26ee2f8",
   "metadata": {},
   "outputs": [],
   "source": [
    "def transportation_level(x): ## 대중교통 값 조정 (원래 있던 값을 drop 하지 않았을 때 더 성능이 잘 나옴)\n",
    "    result = 0\n",
    "    if x <= 0 :\n",
    "        result = 5\n",
    "    elif 1 <= x <= 2:\n",
    "        result = 4\n",
    "    elif 3 <= x <= 4 :\n",
    "        result = 3\n",
    "    elif 5 <= x <= 6 :\n",
    "        result = 2\n",
    "    elif 7 <= x:\n",
    "        result = 1\n",
    "    return result"
   ]
  },
  {
   "cell_type": "code",
   "execution_count": 47,
   "id": "9ffea9d7",
   "metadata": {},
   "outputs": [],
   "source": [
    "cols = ['지하철', '버스']\n",
    "df_train[cols] = df_train[cols].fillna(0)\n",
    "df_test[cols] = df_test[cols].fillna(0)"
   ]
  },
  {
   "cell_type": "code",
   "execution_count": 48,
   "id": "3e2ca203",
   "metadata": {},
   "outputs": [],
   "source": [
    "# 임대보증금과 임대료가 존재하는 경우 자격유형이 C => C로 채우면 될듯\n",
    "df_test.loc[df_test.단지코드.isin(['C2253']) & df_test.자격유형.isnull(), '자격유형'] = 'C'\n",
    "df_test.loc[df_test.단지코드.isin(['C2411']) & df_test.자격유형.isnull(), '자격유형'] = 'A'\n",
    "\n",
    "df_train['자격유형'] = df_train['자격유형'].fillna(method='backfill')\n",
    "df_test['자격유형'] = df_test['자격유형'].fillna(method='backfill')"
   ]
  },
  {
   "cell_type": "code",
   "execution_count": 49,
   "id": "833c129e",
   "metadata": {},
   "outputs": [
    {
     "data": {
      "text/plain": [
       "총세대수         411\n",
       "임대건물구분       444\n",
       "지역           411\n",
       "공급유형         475\n",
       "전용면적        1835\n",
       "전용면적별세대수    2155\n",
       "공가수          411\n",
       "자격유형         498\n",
       "임대보증금       1234\n",
       "임대료         1248\n",
       "지하철          411\n",
       "버스           411\n",
       "단지내주차면수      411\n",
       "등록차량수        411\n",
       "dtype: int64"
      ]
     },
     "execution_count": 49,
     "metadata": {},
     "output_type": "execute_result"
    }
   ],
   "source": [
    "df_train.groupby(['단지코드']).nunique(dropna=False).sum(axis=0)"
   ]
  },
  {
   "cell_type": "markdown",
   "id": "237b6291",
   "metadata": {},
   "source": [
    "- 값이 423보다 크면 하나의 단지코드에 대해 둘 이상의 항목이 존재하는 것\n",
    "- 임대건물구분, 공급유형, 전용면적, 전용면적별세대수, 자격유형, 임대보증금, 임대료는 하나의 단지코드에 대해 둘 이상의 항목 존재\n",
    "- 단지코드별 집계시 총세대수, 지역, 공가수, 도보 10분거리 내 지하철역 수(환승노선 수 반영), 도보 10분거리 내 버스정류장 수, 단지내주차면수, 등록차량수는 그대로 사용하고, 나머지 변수들은 각 항목들을 변수로 만들어 사용하는 것이 좋아보임"
   ]
  },
  {
   "cell_type": "markdown",
   "id": "602ecd78",
   "metadata": {},
   "source": [
    "단지코드 집계\n",
    "- 하나의 단지코드에 하나의 값만 존재하는 변수들 (423개)\n",
    "    - 총세대수, 지역, 공가수, 도보 10분거리 내 지하철역 수(환승노선 수 반영), 도보 10분거리 내 버스정류장 수, 단지내주차면수, 등록차량수"
   ]
  },
  {
   "cell_type": "code",
   "execution_count": 50,
   "id": "3c7ea571",
   "metadata": {},
   "outputs": [],
   "source": [
    "unique_cols = ['총세대수', '지역', '공가수', \n",
    "               '지하철',\n",
    "               '버스',\n",
    "               '단지내주차면수', '등록차량수']\n",
    "train_agg = df_train.set_index('단지코드')[unique_cols].drop_duplicates()\n",
    "test_agg = df_test.set_index('단지코드')[[col for col in unique_cols if col!='등록차량수']].drop_duplicates()"
   ]
  },
  {
   "cell_type": "code",
   "execution_count": 51,
   "id": "24574b2b",
   "metadata": {},
   "outputs": [
    {
     "data": {
      "text/html": [
       "<div>\n",
       "<style scoped>\n",
       "    .dataframe tbody tr th:only-of-type {\n",
       "        vertical-align: middle;\n",
       "    }\n",
       "\n",
       "    .dataframe tbody tr th {\n",
       "        vertical-align: top;\n",
       "    }\n",
       "\n",
       "    .dataframe thead th {\n",
       "        text-align: right;\n",
       "    }\n",
       "</style>\n",
       "<table border=\"1\" class=\"dataframe\">\n",
       "  <thead>\n",
       "    <tr style=\"text-align: right;\">\n",
       "      <th></th>\n",
       "      <th>총세대수</th>\n",
       "      <th>전용면적</th>\n",
       "      <th>전용면적별세대수</th>\n",
       "      <th>공가수</th>\n",
       "      <th>임대보증금</th>\n",
       "      <th>임대료</th>\n",
       "      <th>지하철</th>\n",
       "      <th>버스</th>\n",
       "      <th>단지내주차면수</th>\n",
       "      <th>등록차량수</th>\n",
       "    </tr>\n",
       "    <tr>\n",
       "      <th>단지코드</th>\n",
       "      <th></th>\n",
       "      <th></th>\n",
       "      <th></th>\n",
       "      <th></th>\n",
       "      <th></th>\n",
       "      <th></th>\n",
       "      <th></th>\n",
       "      <th></th>\n",
       "      <th></th>\n",
       "      <th></th>\n",
       "    </tr>\n",
       "  </thead>\n",
       "  <tbody>\n",
       "    <tr>\n",
       "      <th>C1000</th>\n",
       "      <td>566.0</td>\n",
       "      <td>45.218571</td>\n",
       "      <td>80.857143</td>\n",
       "      <td>10.0</td>\n",
       "      <td>1.320357e+07</td>\n",
       "      <td>121064.285714</td>\n",
       "      <td>0.0</td>\n",
       "      <td>1.0</td>\n",
       "      <td>438.0</td>\n",
       "      <td>481.0</td>\n",
       "    </tr>\n",
       "    <tr>\n",
       "      <th>C1004</th>\n",
       "      <td>521.0</td>\n",
       "      <td>43.480667</td>\n",
       "      <td>34.466667</td>\n",
       "      <td>3.0</td>\n",
       "      <td>6.273333e+05</td>\n",
       "      <td>13959.333333</td>\n",
       "      <td>0.0</td>\n",
       "      <td>2.0</td>\n",
       "      <td>153.0</td>\n",
       "      <td>93.0</td>\n",
       "    </tr>\n",
       "    <tr>\n",
       "      <th>C1005</th>\n",
       "      <td>1144.0</td>\n",
       "      <td>54.360000</td>\n",
       "      <td>381.333333</td>\n",
       "      <td>16.0</td>\n",
       "      <td>1.710767e+07</td>\n",
       "      <td>222046.666667</td>\n",
       "      <td>0.0</td>\n",
       "      <td>8.0</td>\n",
       "      <td>950.0</td>\n",
       "      <td>376.0</td>\n",
       "    </tr>\n",
       "    <tr>\n",
       "      <th>C1013</th>\n",
       "      <td>1308.0</td>\n",
       "      <td>46.142000</td>\n",
       "      <td>261.600000</td>\n",
       "      <td>16.0</td>\n",
       "      <td>2.492480e+07</td>\n",
       "      <td>134726.000000</td>\n",
       "      <td>0.0</td>\n",
       "      <td>6.0</td>\n",
       "      <td>1119.0</td>\n",
       "      <td>1665.0</td>\n",
       "    </tr>\n",
       "    <tr>\n",
       "      <th>C1014</th>\n",
       "      <td>996.0</td>\n",
       "      <td>49.232857</td>\n",
       "      <td>142.285714</td>\n",
       "      <td>5.0</td>\n",
       "      <td>2.389400e+07</td>\n",
       "      <td>160488.571429</td>\n",
       "      <td>0.0</td>\n",
       "      <td>2.0</td>\n",
       "      <td>823.0</td>\n",
       "      <td>708.0</td>\n",
       "    </tr>\n",
       "    <tr>\n",
       "      <th>...</th>\n",
       "      <td>...</td>\n",
       "      <td>...</td>\n",
       "      <td>...</td>\n",
       "      <td>...</td>\n",
       "      <td>...</td>\n",
       "      <td>...</td>\n",
       "      <td>...</td>\n",
       "      <td>...</td>\n",
       "      <td>...</td>\n",
       "      <td>...</td>\n",
       "    </tr>\n",
       "    <tr>\n",
       "      <th>C2663</th>\n",
       "      <td>772.0</td>\n",
       "      <td>41.005000</td>\n",
       "      <td>128.666667</td>\n",
       "      <td>14.0</td>\n",
       "      <td>3.025867e+07</td>\n",
       "      <td>269070.000000</td>\n",
       "      <td>0.0</td>\n",
       "      <td>3.0</td>\n",
       "      <td>700.0</td>\n",
       "      <td>652.0</td>\n",
       "    </tr>\n",
       "    <tr>\n",
       "      <th>C2666</th>\n",
       "      <td>1084.0</td>\n",
       "      <td>43.258333</td>\n",
       "      <td>180.666667</td>\n",
       "      <td>23.0</td>\n",
       "      <td>1.889050e+07</td>\n",
       "      <td>133145.000000</td>\n",
       "      <td>0.0</td>\n",
       "      <td>1.0</td>\n",
       "      <td>837.0</td>\n",
       "      <td>701.0</td>\n",
       "    </tr>\n",
       "    <tr>\n",
       "      <th>C2670</th>\n",
       "      <td>648.0</td>\n",
       "      <td>40.918000</td>\n",
       "      <td>129.600000</td>\n",
       "      <td>9.0</td>\n",
       "      <td>1.635000e+07</td>\n",
       "      <td>115188.000000</td>\n",
       "      <td>0.0</td>\n",
       "      <td>2.0</td>\n",
       "      <td>600.0</td>\n",
       "      <td>435.0</td>\n",
       "    </tr>\n",
       "    <tr>\n",
       "      <th>C2680</th>\n",
       "      <td>758.0</td>\n",
       "      <td>43.350000</td>\n",
       "      <td>252.666667</td>\n",
       "      <td>19.0</td>\n",
       "      <td>2.360633e+07</td>\n",
       "      <td>129816.666667</td>\n",
       "      <td>0.0</td>\n",
       "      <td>7.0</td>\n",
       "      <td>564.0</td>\n",
       "      <td>590.0</td>\n",
       "    </tr>\n",
       "    <tr>\n",
       "      <th>C2692</th>\n",
       "      <td>499.0</td>\n",
       "      <td>43.570000</td>\n",
       "      <td>99.800000</td>\n",
       "      <td>19.0</td>\n",
       "      <td>1.579360e+07</td>\n",
       "      <td>117848.000000</td>\n",
       "      <td>0.0</td>\n",
       "      <td>2.0</td>\n",
       "      <td>409.0</td>\n",
       "      <td>437.0</td>\n",
       "    </tr>\n",
       "  </tbody>\n",
       "</table>\n",
       "<p>411 rows × 10 columns</p>\n",
       "</div>"
      ],
      "text/plain": [
       "         총세대수       전용면적    전용면적별세대수   공가수         임대보증금            임대료  지하철  \\\n",
       "단지코드                                                                           \n",
       "C1000   566.0  45.218571   80.857143  10.0  1.320357e+07  121064.285714  0.0   \n",
       "C1004   521.0  43.480667   34.466667   3.0  6.273333e+05   13959.333333  0.0   \n",
       "C1005  1144.0  54.360000  381.333333  16.0  1.710767e+07  222046.666667  0.0   \n",
       "C1013  1308.0  46.142000  261.600000  16.0  2.492480e+07  134726.000000  0.0   \n",
       "C1014   996.0  49.232857  142.285714   5.0  2.389400e+07  160488.571429  0.0   \n",
       "...       ...        ...         ...   ...           ...            ...  ...   \n",
       "C2663   772.0  41.005000  128.666667  14.0  3.025867e+07  269070.000000  0.0   \n",
       "C2666  1084.0  43.258333  180.666667  23.0  1.889050e+07  133145.000000  0.0   \n",
       "C2670   648.0  40.918000  129.600000   9.0  1.635000e+07  115188.000000  0.0   \n",
       "C2680   758.0  43.350000  252.666667  19.0  2.360633e+07  129816.666667  0.0   \n",
       "C2692   499.0  43.570000   99.800000  19.0  1.579360e+07  117848.000000  0.0   \n",
       "\n",
       "        버스  단지내주차면수   등록차량수  \n",
       "단지코드                         \n",
       "C1000  1.0    438.0   481.0  \n",
       "C1004  2.0    153.0    93.0  \n",
       "C1005  8.0    950.0   376.0  \n",
       "C1013  6.0   1119.0  1665.0  \n",
       "C1014  2.0    823.0   708.0  \n",
       "...    ...      ...     ...  \n",
       "C2663  3.0    700.0   652.0  \n",
       "C2666  1.0    837.0   701.0  \n",
       "C2670  2.0    600.0   435.0  \n",
       "C2680  7.0    564.0   590.0  \n",
       "C2692  2.0    409.0   437.0  \n",
       "\n",
       "[411 rows x 10 columns]"
      ]
     },
     "execution_count": 51,
     "metadata": {},
     "output_type": "execute_result"
    }
   ],
   "source": [
    "df_train.groupby(['단지코드']).mean()"
   ]
  },
  {
   "cell_type": "code",
   "execution_count": 52,
   "id": "42b47062",
   "metadata": {},
   "outputs": [],
   "source": [
    "# 임대 건물 구분, 전용면적 별 세대수, 임대보증금\n",
    "# 등과 같이 처리가 애매한 값은 각 단지 별 mean값이나 고유값 개수로 처리 \n",
    "\n",
    "tr = df_train.groupby(['단지코드']).mean() ##같은 단지코드 안에서의 평균 값, max 값 등은 data leakage가 아닌 것으로 보임 \n",
    "ts = df_test.groupby(['단지코드']).mean()\n",
    "\n",
    "train_agg['전용면적별세대수 평균'] = tr['전용면적별세대수']\n",
    "test_agg['전용면적별세대수 평균'] = ts['전용면적별세대수']\n",
    "\n",
    "train_agg['임대보증금 평균'] = tr['임대보증금']\n",
    "test_agg['임대보증금 평균'] = ts['임대보증금']\n",
    "\n",
    "train_agg['임대료 평균'] = tr['임대료']\n",
    "test_agg['임대료 평균'] = ts['임대료']"
   ]
  },
  {
   "cell_type": "markdown",
   "id": "b27a75ca",
   "metadata": {},
   "source": [
    "- 하나의 단지코드에 둘 이상의 값이 존재하는 변수들\n",
    "    - 임대건물구분, 공급유형, 전용면적, 전용면적별세대수, 자격유형, 임대보증금, 임대료"
   ]
  },
  {
   "cell_type": "code",
   "execution_count": 53,
   "id": "0e19f4d2",
   "metadata": {},
   "outputs": [],
   "source": [
    "def reshape_cat_features(data, cast_col, value_col):\n",
    "    res = data.drop_duplicates(['단지코드', cast_col]).assign(counter=1).pivot(index='단지코드', columns=cast_col, values=value_col).fillna(0)\n",
    "    res.columns.name = None\n",
    "    res = res.rename(columns={col:cast_col+'_'+col for col in res.columns})\n",
    "    return res"
   ]
  },
  {
   "cell_type": "markdown",
   "id": "6f3807f6",
   "metadata": {},
   "source": [
    "- 임대건물구분: 아파트/상가\n",
    "    - 주상복합인 경우 주차수요가 주거only인 경우보다 많지 않을까? => 상가 직원들도 차량 등록이 가능하면 상가 당 주차수요는 일반 가구보다 높을 수 있음\n",
    "    - 상가의 전용면적별세대수는 모두 1\n",
    "    - 우선 임대건물구분을 열로 올려서 단지가 주상복합인지 아닌지 구분할 수 있게 해야함\n",
    "- 원핫인코딩처럼 처리"
   ]
  },
  {
   "cell_type": "code",
   "execution_count": 54,
   "id": "1e92bfc4",
   "metadata": {},
   "outputs": [
    {
     "data": {
      "text/plain": [
       "Index(['임대건물구분_상가', '임대건물구분_아파트'], dtype='object')"
      ]
     },
     "execution_count": 54,
     "metadata": {},
     "output_type": "execute_result"
    }
   ],
   "source": [
    "reshape_cat_features(data=df_train, cast_col='임대건물구분', value_col='counter').columns"
   ]
  },
  {
   "cell_type": "code",
   "execution_count": 55,
   "id": "2b1f2b3d",
   "metadata": {
    "scrolled": true
   },
   "outputs": [
    {
     "data": {
      "text/plain": [
       "Index(['임대건물구분_상가', '임대건물구분_아파트'], dtype='object')"
      ]
     },
     "execution_count": 55,
     "metadata": {},
     "output_type": "execute_result"
    }
   ],
   "source": [
    "reshape_cat_features(data=df_test, cast_col='임대건물구분', value_col='counter').columns"
   ]
  },
  {
   "cell_type": "markdown",
   "id": "cb9d65a9",
   "metadata": {},
   "source": [
    "- 공급유형\n",
    "    - 국민임대와 공공임대의 차이\n",
    "    - LH공사와 SH공사에서 제공하는 국민임대는 국가 재정과 국민주택기금을 지원받아 국가, 지방자치단체, 한국토지주택공사 또는 지방공사가 건설, 공급하는 주택을 의미한다. 저렴한 임대료를 지불하고 장기(30년) 임대가 가능하다. 장기 거주는 가능하지만 해당 주거지를 매입할 수 없다는 단점이 있다.\n",
    "    - 반면 공공임대는 5년 또는 10년 후 임대기간이 종료되었을 때 입주자에게 우선 분양전환혜택을 준다."
   ]
  },
  {
   "cell_type": "code",
   "execution_count": 56,
   "id": "bae3c667",
   "metadata": {},
   "outputs": [],
   "source": [
    "df_train.loc[df_train.공급유형.isin(['공공임대(5년)', '공공분양', '공공임대(10년)', '공공임대(분납)']), '공급유형'] = '공공임대(5년/10년/분납/분양)'\n",
    "df_test.loc[df_test.공급유형.isin(['공공임대(5년)', '공공분양', '공공임대(10년)', '공공임대(분납)']), '공급유형'] = '공공임대(5년/10년/분납/분양)'\n",
    "df_train.loc[df_train.공급유형.isin(['장기전세', '국민임대']), '공급유형'] = '국민임대/장기전세'\n",
    "df_test.loc[df_test.공급유형.isin(['장기전세', '국민임대']), '공급유형'] = '국민임대/장기전세'"
   ]
  },
  {
   "cell_type": "code",
   "execution_count": 57,
   "id": "426f8d02",
   "metadata": {},
   "outputs": [
    {
     "data": {
      "text/plain": [
       "({'공공임대(50년)', '공공임대(5년/10년/분납/분양)', '국민임대/장기전세', '영구임대', '임대상가', '행복주택'},\n",
       " {'공공임대(50년)', '공공임대(5년/10년/분납/분양)', '국민임대/장기전세', '영구임대', '임대상가', '행복주택'})"
      ]
     },
     "execution_count": 57,
     "metadata": {},
     "output_type": "execute_result"
    }
   ],
   "source": [
    "set(df_train.공급유형), set(df_test.공급유형)"
   ]
  },
  {
   "cell_type": "code",
   "execution_count": 58,
   "id": "7b571634",
   "metadata": {
    "scrolled": true
   },
   "outputs": [
    {
     "data": {
      "text/plain": [
       "Index(['공급유형_공공임대(50년)', '공급유형_공공임대(5년/10년/분납/분양)', '공급유형_국민임대/장기전세',\n",
       "       '공급유형_영구임대', '공급유형_임대상가', '공급유형_행복주택'],\n",
       "      dtype='object')"
      ]
     },
     "execution_count": 58,
     "metadata": {},
     "output_type": "execute_result"
    }
   ],
   "source": [
    "reshape_cat_features(data=df_train, cast_col='공급유형', value_col='counter').columns"
   ]
  },
  {
   "cell_type": "code",
   "execution_count": 59,
   "id": "b79de47e",
   "metadata": {},
   "outputs": [
    {
     "data": {
      "text/plain": [
       "Index(['공급유형_공공임대(50년)', '공급유형_공공임대(5년/10년/분납/분양)', '공급유형_국민임대/장기전세',\n",
       "       '공급유형_영구임대', '공급유형_임대상가', '공급유형_행복주택'],\n",
       "      dtype='object')"
      ]
     },
     "execution_count": 59,
     "metadata": {},
     "output_type": "execute_result"
    }
   ],
   "source": [
    "reshape_cat_features(data=df_test, cast_col='공급유형', value_col='counter').columns"
   ]
  },
  {
   "cell_type": "markdown",
   "id": "8b5f0ffa",
   "metadata": {},
   "source": [
    "자격 유형 "
   ]
  },
  {
   "cell_type": "markdown",
   "id": "b9a363f2",
   "metadata": {},
   "source": [
    "- 변수생성 컨셉: 특정자격 유형이 많으면 그 단지는 등록차량수가 적을 것이다.\n",
    "- 예를들어, 소득수준이 낮은 자격유형의 세대가 많으면 주차수요가 적을 가능성이 높을 것으로 예상해볼 수 있다.\n",
    "- 문제는 특성이 비슷한 항목끼리 묶어야 의미가 있을 것 같은데, 비식별화 되어 있어서 각 코드값이 무엇인지 정확히 알 수 없다는 것임\n",
    "- 단지코드별로 자격유형별 세대수를 알 수 있으면 좋을 것 같지만 이 데이터에서는 파악 불가능\n",
    "- 자격유형별 소득수준을 간접적으로 파악하기 위해 자격유형별 임대보증금의 평균, 임대료의 평균을 변수로 사용해 볼 수 있을 것 같음"
   ]
  },
  {
   "cell_type": "markdown",
   "id": "bbe35ce3",
   "metadata": {},
   "source": [
    "🐸 자격유형 Column에 대한 train_test_values_check 입니다=======================   \n",
    "   \n",
    "Train-set에 있는 고유한 value 개수 : 15   \n",
    "Test-set에 있는 고유한 value 개수 : 13   \n",
    "   \n",
    "================================================================================    \n",
    "Train/Test-set에 공통으로 포함되어 있는 value 개수 : 12    \n",
    "Train/Test-set에 공통으로 포함되어 있는 value : ['A', 'C', 'D', 'E', 'G', 'H', 'I', 'J', 'K', 'L', 'M', 'N']    \n",
    "    \n",
    "Train-set에만 있는 value는 총 3 개 입니다.   \n",
    "Train-set에만 있는 value는 : ['B', 'F', 'O']   \n",
    "Test-set에만 있는 value는 총 1 개 입니다.  \n",
    "Test-set에만 있는 value는 : [nan]  "
   ]
  },
  {
   "cell_type": "markdown",
   "id": "72886c4e",
   "metadata": {},
   "source": [
    "[공공 임대주택 공급대상](https://www.myhome.go.kr/hws/portal/cont/selectContRentalView.do#guide=RH101)"
   ]
  },
  {
   "cell_type": "markdown",
   "id": "64393a21",
   "metadata": {},
   "source": [
    "    - 영구임대: 생계급여 또는 의료급여 수급자 등[소득 1분위] - 1\n",
    "    - 국민임대: 무주택세대구성원[소득 2~4분위] - 3\n",
    "    - 장기전세: 무주택세대구성원[소득 3~4분위] - 2\n",
    "    - 공공임대(5년/10년/분납): 무주택세대구성원[소득 3~5분위] - 3\n",
    "    - 행복주택: 무주택세대구성원/무주택자[소득 2~5분위] - 4\n",
    "- 이렇게 나누면 13개 항목인데 자격유형의 항목수는 15개"
   ]
  },
  {
   "cell_type": "code",
   "execution_count": 60,
   "id": "3c6b476b",
   "metadata": {},
   "outputs": [
    {
     "data": {
      "text/html": [
       "<div>\n",
       "<style scoped>\n",
       "    .dataframe tbody tr th:only-of-type {\n",
       "        vertical-align: middle;\n",
       "    }\n",
       "\n",
       "    .dataframe tbody tr th {\n",
       "        vertical-align: top;\n",
       "    }\n",
       "\n",
       "    .dataframe thead th {\n",
       "        text-align: right;\n",
       "    }\n",
       "</style>\n",
       "<table border=\"1\" class=\"dataframe\">\n",
       "  <thead>\n",
       "    <tr style=\"text-align: right;\">\n",
       "      <th></th>\n",
       "      <th>임대건물구분</th>\n",
       "      <th>공급유형</th>\n",
       "    </tr>\n",
       "  </thead>\n",
       "  <tbody>\n",
       "    <tr>\n",
       "      <th>18</th>\n",
       "      <td>아파트</td>\n",
       "      <td>국민임대/장기전세</td>\n",
       "    </tr>\n",
       "  </tbody>\n",
       "</table>\n",
       "</div>"
      ],
      "text/plain": [
       "   임대건물구분       공급유형\n",
       "18    아파트  국민임대/장기전세"
      ]
     },
     "execution_count": 60,
     "metadata": {},
     "output_type": "execute_result"
    }
   ],
   "source": [
    "# 자격유형 B는 공급유형이 모두 국민임대/장기전세, 공급유형이 국민임대/장기전세 일때 자격유형이 어떤게 있는지 보는게 좋을 듯\n",
    "df_train.loc[df_train.자격유형=='B', ['임대건물구분', '공급유형']].drop_duplicates()"
   ]
  },
  {
   "cell_type": "code",
   "execution_count": 61,
   "id": "885a8bbe",
   "metadata": {},
   "outputs": [
    {
     "data": {
      "text/plain": [
       "A    1487\n",
       "H     154\n",
       "E      34\n",
       "B      18\n",
       "G       9\n",
       "Name: 자격유형, dtype: int64"
      ]
     },
     "execution_count": 61,
     "metadata": {},
     "output_type": "execute_result"
    }
   ],
   "source": [
    "df_train.loc[df_train.공급유형.isin(['국민임대/장기전세']), '자격유형'].value_counts()"
   ]
  },
  {
   "cell_type": "markdown",
   "id": "cbe83492",
   "metadata": {},
   "source": [
    "- 대상자\n",
    "```\n",
    "(일반)해당지역 거주 무주택세대구성원\n",
    "(특별/우선)3자녀 이상 가구\n",
    "(특별/우선)국가유공자\n",
    "(특별/우선)영구임대 입주자\n",
    "(특별/우선)비닐간이공작물 거주자\n",
    "(특별/우선)신혼부부(혼인기간 5년이내)\n",
    "(특별/우선)사업지구 철거민\n",
    "(특별/우선)기타 공급대상(고령자, 노부모부양자, 장애인, 파독근로자 등)\n",
    "건수가 가장 많은 A는 해당지역 거주 무주택세대구성원으로 예상됨\n",
    "```"
   ]
  },
  {
   "cell_type": "code",
   "execution_count": 62,
   "id": "3f9b7068",
   "metadata": {},
   "outputs": [
    {
     "data": {
      "text/plain": [
       "C    92\n",
       "I    49\n",
       "E     3\n",
       "F     3\n",
       "A     2\n",
       "Name: 자격유형, dtype: int64"
      ]
     },
     "execution_count": 62,
     "metadata": {},
     "output_type": "execute_result"
    }
   ],
   "source": [
    "# 다른 공급유형별 자격유형\n",
    "df_train.loc[df_train.공급유형.isin(['영구임대']), '자격유형'].value_counts()"
   ]
  },
  {
   "cell_type": "markdown",
   "id": "6eed3221",
   "metadata": {},
   "source": [
    "대상자\n",
    "```\n",
    "(일반)생계급여 또는 의료급여 수급자\n",
    "(일반)국가유공자\n",
    "(특별/우선)수급자 선정기준의 소득인정액 이하인 국가유공자\n",
    "(특별/우선)귀환국군포로\n",
    "(특별/우선)수급자 신혼부부\n",
    "```"
   ]
  },
  {
   "cell_type": "code",
   "execution_count": 63,
   "id": "edfaae17",
   "metadata": {},
   "outputs": [
    {
     "data": {
      "text/plain": [
       "A    183\n",
       "D      7\n",
       "Name: 자격유형, dtype: int64"
      ]
     },
     "execution_count": 63,
     "metadata": {},
     "output_type": "execute_result"
    }
   ],
   "source": [
    "df_train.loc[df_train.공급유형.isin(['공공임대(5년/10년/분납/분양)']), '자격유형'].value_counts()"
   ]
  },
  {
   "cell_type": "markdown",
   "id": "426e0533",
   "metadata": {},
   "source": [
    "공공임대(5년/10년/분납/분양) 대상자\n",
    "```\n",
    "(일반)해당지역 거주무주택세대구성원\n",
    "(특별/우선)다자녀 특별\n",
    "(특별/우선)신혼부부 특별\n",
    "(특별/우선)생애최초 특별\n",
    "(특별/우선)노부모부양 특별\n",
    "(특별/우선)국가유공자 특별\n",
    "(특별/우선)기타 특별(장애인, 철거민 등)\n",
    "A는 '(일반)해당지역 거주무주택세대구성원'으로 추정됨\n",
    "```"
   ]
  },
  {
   "cell_type": "code",
   "execution_count": 64,
   "id": "868d0b46",
   "metadata": {},
   "outputs": [
    {
     "data": {
      "text/plain": [
       "J    94\n",
       "K    33\n",
       "L    33\n",
       "N    29\n",
       "M     2\n",
       "O     1\n",
       "Name: 자격유형, dtype: int64"
      ]
     },
     "execution_count": 64,
     "metadata": {},
     "output_type": "execute_result"
    }
   ],
   "source": [
    "df_train.loc[df_train.공급유형.isin(['행복주택']), '자격유형'].value_counts()"
   ]
  },
  {
   "cell_type": "markdown",
   "id": "0210c4f2",
   "metadata": {},
   "source": [
    "행복주택 대상자\n",
    "\n",
    "대학생(취준생 포함), 사회초년생(재취준생 포함), 신혼부부(예비신혼부부, 대학생, 취준생 신혼부부 포함), 고령자, 주거급여수급자, 산업단지 근로자"
   ]
  },
  {
   "cell_type": "code",
   "execution_count": 65,
   "id": "66b5833c",
   "metadata": {},
   "outputs": [
    {
     "data": {
      "text/plain": [
       "행복주택    192\n",
       "Name: 공급유형, dtype: int64"
      ]
     },
     "execution_count": 65,
     "metadata": {},
     "output_type": "execute_result"
    }
   ],
   "source": [
    "df_train.loc[df_train.자격유형.isin(['J', 'L', 'K', 'N', 'M', 'O']), '공급유형'].value_counts()"
   ]
  },
  {
   "cell_type": "markdown",
   "id": "e7599510",
   "metadata": {},
   "source": [
    "'J', 'L', 'K', 'N', 'M', 'O' 는 공급유형이 행복주택인 경우에서만 나타남   \n",
    "이것만 따로 묶어 전처리 할 예정"
   ]
  },
  {
   "cell_type": "code",
   "execution_count": 66,
   "id": "3948f3ae",
   "metadata": {},
   "outputs": [],
   "source": [
    "df_train.loc[df_train.자격유형.isin(['J', 'L', 'K', 'N', 'M', 'O']), '자격유형'] = '행복주택_공급대상'\n",
    "df_test.loc[df_test.자격유형.isin(['J', 'L', 'K', 'N', 'M', 'O']), '자격유형'] = '행복주택_공급대상'"
   ]
  },
  {
   "cell_type": "markdown",
   "id": "ea7e6a46",
   "metadata": {},
   "source": [
    "자격유형별 공급유형 value_counts()"
   ]
  },
  {
   "cell_type": "code",
   "execution_count": 67,
   "id": "860a91a7",
   "metadata": {},
   "outputs": [
    {
     "data": {
      "text/plain": [
       "국민임대/장기전세             1487\n",
       "공공임대(5년/10년/분납/분양)     183\n",
       "공공임대(50년)               31\n",
       "영구임대                     2\n",
       "Name: 공급유형, dtype: int64"
      ]
     },
     "execution_count": 67,
     "metadata": {},
     "output_type": "execute_result"
    }
   ],
   "source": [
    "df_train.loc[df_train.자격유형.isin(['A']), '공급유형'].value_counts()"
   ]
  },
  {
   "cell_type": "code",
   "execution_count": 68,
   "id": "2aa118f6",
   "metadata": {},
   "outputs": [
    {
     "data": {
      "text/plain": [
       "영구임대    92\n",
       "Name: 공급유형, dtype: int64"
      ]
     },
     "execution_count": 68,
     "metadata": {},
     "output_type": "execute_result"
    }
   ],
   "source": [
    "df_train.loc[df_train.자격유형.isin(['C']), '공급유형'].value_counts()"
   ]
  },
  {
   "cell_type": "code",
   "execution_count": 69,
   "id": "00831b56",
   "metadata": {},
   "outputs": [
    {
     "data": {
      "text/plain": [
       "영구임대    49\n",
       "Name: 공급유형, dtype: int64"
      ]
     },
     "execution_count": 69,
     "metadata": {},
     "output_type": "execute_result"
    }
   ],
   "source": [
    "df_train.loc[df_train.자격유형.isin(['I']), '공급유형'].value_counts()"
   ]
  },
  {
   "cell_type": "code",
   "execution_count": 70,
   "id": "c8107484",
   "metadata": {},
   "outputs": [
    {
     "data": {
      "text/plain": [
       "국민임대/장기전세    34\n",
       "영구임대          3\n",
       "Name: 공급유형, dtype: int64"
      ]
     },
     "execution_count": 70,
     "metadata": {},
     "output_type": "execute_result"
    }
   ],
   "source": [
    "df_train.loc[df_train.자격유형.isin(['E']), '공급유형'].value_counts()"
   ]
  },
  {
   "cell_type": "code",
   "execution_count": 71,
   "id": "41fbe870",
   "metadata": {},
   "outputs": [
    {
     "data": {
      "text/plain": [
       "국민임대/장기전세    18\n",
       "Name: 공급유형, dtype: int64"
      ]
     },
     "execution_count": 71,
     "metadata": {},
     "output_type": "execute_result"
    }
   ],
   "source": [
    "df_train.loc[df_train.자격유형.isin(['B']), '공급유형'].value_counts()"
   ]
  },
  {
   "cell_type": "code",
   "execution_count": 72,
   "id": "e0640200",
   "metadata": {},
   "outputs": [
    {
     "data": {
      "text/plain": [
       "국민임대/장기전세    9\n",
       "Name: 공급유형, dtype: int64"
      ]
     },
     "execution_count": 72,
     "metadata": {},
     "output_type": "execute_result"
    }
   ],
   "source": [
    "df_train.loc[df_train.자격유형.isin(['G']), '공급유형'].value_counts()"
   ]
  },
  {
   "cell_type": "code",
   "execution_count": 73,
   "id": "1df27f1a",
   "metadata": {},
   "outputs": [
    {
     "data": {
      "text/plain": [
       "영구임대    3\n",
       "Name: 공급유형, dtype: int64"
      ]
     },
     "execution_count": 73,
     "metadata": {},
     "output_type": "execute_result"
    }
   ],
   "source": [
    "df_train.loc[df_train.자격유형.isin(['F']), '공급유형'].value_counts()"
   ]
  },
  {
   "cell_type": "markdown",
   "id": "e429b3f1",
   "metadata": {},
   "source": [
    "- 'H', 'B', 'E', 'G' 는 국민임대/장기전세 공급대상(E는 영구임대인 경우도 있긴 하지만 국민임대/장기전세인 경우가 압도적이므로 대체)\n",
    "- 'C', 'I', 'F', 'G' 는 영구임대 공급대상으로 묶어 보겠음"
   ]
  },
  {
   "cell_type": "code",
   "execution_count": 74,
   "id": "32acfd58",
   "metadata": {},
   "outputs": [],
   "source": [
    "df_train.loc[df_train.자격유형.isin(['H', 'B', 'E', 'G']), '자격유형'] = '국민임대/장기전세_공급대상'\n",
    "df_test.loc[df_test.자격유형.isin(['H', 'B', 'E', 'G']), '자격유형'] = '국민임대/장기전세_공급대상'\n",
    "\n",
    "df_train.loc[df_train.자격유형.isin(['C', 'I', 'F']), '자격유형'] = '영구임대_공급대상'\n",
    "df_test.loc[df_test.자격유형.isin(['C', 'I', 'F']), '자격유형'] = '영구임대_공급대상'"
   ]
  },
  {
   "cell_type": "code",
   "execution_count": 75,
   "id": "af18be61",
   "metadata": {},
   "outputs": [
    {
     "data": {
      "text/plain": [
       "A                 1703\n",
       "D                  292\n",
       "국민임대/장기전세_공급대상     218\n",
       "행복주택_공급대상          192\n",
       "영구임대_공급대상          144\n",
       "Name: 자격유형, dtype: int64"
      ]
     },
     "execution_count": 75,
     "metadata": {},
     "output_type": "execute_result"
    }
   ],
   "source": [
    "df_train.자격유형.value_counts()"
   ]
  },
  {
   "cell_type": "code",
   "execution_count": 76,
   "id": "a1db70f0",
   "metadata": {
    "scrolled": true
   },
   "outputs": [
    {
     "data": {
      "text/plain": [
       "Index(['자격유형_A', '자격유형_D', '자격유형_국민임대/장기전세_공급대상', '자격유형_영구임대_공급대상',\n",
       "       '자격유형_행복주택_공급대상'],\n",
       "      dtype='object')"
      ]
     },
     "execution_count": 76,
     "metadata": {},
     "output_type": "execute_result"
    }
   ],
   "source": [
    "reshape_cat_features(data=df_train, cast_col='자격유형', value_col='counter').columns"
   ]
  },
  {
   "cell_type": "code",
   "execution_count": 77,
   "id": "c2b23252",
   "metadata": {},
   "outputs": [
    {
     "data": {
      "text/plain": [
       "Index(['자격유형_A', '자격유형_D', '자격유형_국민임대/장기전세_공급대상', '자격유형_영구임대_공급대상',\n",
       "       '자격유형_행복주택_공급대상'],\n",
       "      dtype='object')"
      ]
     },
     "execution_count": 77,
     "metadata": {},
     "output_type": "execute_result"
    }
   ],
   "source": [
    "reshape_cat_features(data=df_test, cast_col='자격유형', value_col='counter').columns"
   ]
  },
  {
   "cell_type": "markdown",
   "id": "49c16ff0",
   "metadata": {},
   "source": [
    "##### 단지코드, 임대건물유형, 공급유형 , 자격유형, Feature Engineering 적용 \n",
    "- [1등 코드 참고](https://dacon.io/competitions/official/235745/codeshare/3015?page=1&dtype=recent)"
   ]
  },
  {
   "cell_type": "code",
   "execution_count": 78,
   "id": "5d7a7c4b",
   "metadata": {},
   "outputs": [],
   "source": [
    "train_agg = pd.concat([train_agg,\n",
    "                       reshape_cat_features(data=df_train, cast_col='임대건물구분', value_col='counter'),\n",
    "                       reshape_cat_features(data=df_train, cast_col='공급유형', value_col='counter'),\n",
    "                       reshape_cat_features(data=df_train, cast_col='자격유형', value_col='counter')], axis=1)\n",
    "\n",
    "test_agg = pd.concat([test_agg,\n",
    "                       reshape_cat_features(data=df_test, cast_col='임대건물구분', value_col='counter'),\n",
    "                       reshape_cat_features(data=df_test, cast_col='공급유형', value_col='counter'),\n",
    "                       reshape_cat_features(data=df_test, cast_col='자격유형', value_col='counter')], axis=1)"
   ]
  },
  {
   "cell_type": "code",
   "execution_count": 79,
   "id": "a30a3a3b",
   "metadata": {},
   "outputs": [],
   "source": [
    "train_agg = train_agg.reset_index()"
   ]
  },
  {
   "cell_type": "code",
   "execution_count": 80,
   "id": "0fba28a4",
   "metadata": {},
   "outputs": [],
   "source": [
    "test_agg = test_agg.reset_index()"
   ]
  },
  {
   "cell_type": "markdown",
   "id": "3b3defb3",
   "metadata": {},
   "source": [
    "target변수 = 등록차량수"
   ]
  },
  {
   "cell_type": "markdown",
   "id": "6b20ec63",
   "metadata": {},
   "source": [
    "Merge Age_gender dataset"
   ]
  },
  {
   "cell_type": "code",
   "execution_count": 81,
   "id": "b812604e",
   "metadata": {},
   "outputs": [],
   "source": [
    "minors = ['10대미만(여자)', '10대미만(남자)', '10대(여자)', '10대(남자)']\n",
    "df_info['미성년자'] = df_info[minors].sum(axis=1)"
   ]
  },
  {
   "cell_type": "code",
   "execution_count": 82,
   "id": "23d58ee2",
   "metadata": {},
   "outputs": [],
   "source": [
    "train_agg = train_agg.merge(df_info, left_on= [\"지역\"], right_on= [\"지역\"], how='left')\n",
    "test_agg = test_agg.merge(df_info, left_on= [\"지역\"], right_on= [\"지역\"], how='left')"
   ]
  },
  {
   "cell_type": "code",
   "execution_count": 83,
   "id": "5ed1bce5",
   "metadata": {},
   "outputs": [
    {
     "data": {
      "text/plain": [
       "((411, 47), (411, 47))"
      ]
     },
     "execution_count": 83,
     "metadata": {},
     "output_type": "execute_result"
    }
   ],
   "source": [
    "train_agg.shape, train_agg.drop_duplicates().shape"
   ]
  },
  {
   "cell_type": "code",
   "execution_count": 84,
   "id": "2b4b38b7",
   "metadata": {
    "scrolled": true
   },
   "outputs": [
    {
     "data": {
      "text/plain": [
       "((147, 46), (147, 46))"
      ]
     },
     "execution_count": 84,
     "metadata": {},
     "output_type": "execute_result"
    }
   ],
   "source": [
    "test_agg.shape, test_agg.drop_duplicates().shape"
   ]
  },
  {
   "cell_type": "code",
   "execution_count": 85,
   "id": "5edf9826",
   "metadata": {},
   "outputs": [],
   "source": [
    "train_agg['대중교통현황'] = train_agg[cols].sum(axis=1)\n",
    "test_agg['대중교통현황'] = test_agg[cols].sum(axis=1)"
   ]
  },
  {
   "cell_type": "code",
   "execution_count": 86,
   "id": "668a9f5f",
   "metadata": {},
   "outputs": [],
   "source": [
    "train_agg['주차면수/총세대'] = train_agg['단지내주차면수'] / train_agg['총세대수']\n",
    "test_agg['주차면수/총세대'] = test_agg['단지내주차면수'] / test_agg['총세대수']\n",
    "\n",
    "\n",
    "train_agg['단지내주차면수/100'] = train_agg['단지내주차면수']/100\n",
    "test_agg['단지내주차면수/100'] = test_agg['단지내주차면수']/100\n"
   ]
  },
  {
   "cell_type": "code",
   "execution_count": 87,
   "id": "66ffaa7c",
   "metadata": {},
   "outputs": [
    {
     "data": {
      "text/plain": [
       "Index(['단지코드', '총세대수', '지역', '공가수', '지하철', '버스', '단지내주차면수', '등록차량수',\n",
       "       '전용면적별세대수 평균', '임대보증금 평균', '임대료 평균', '임대건물구분_상가', '임대건물구분_아파트',\n",
       "       '공급유형_공공임대(50년)', '공급유형_공공임대(5년/10년/분납/분양)', '공급유형_국민임대/장기전세',\n",
       "       '공급유형_영구임대', '공급유형_임대상가', '공급유형_행복주택', '자격유형_A', '자격유형_D',\n",
       "       '자격유형_국민임대/장기전세_공급대상', '자격유형_영구임대_공급대상', '자격유형_행복주택_공급대상', '10대미만(여자)',\n",
       "       '10대미만(남자)', '10대(여자)', '10대(남자)', '20대(여자)', '20대(남자)', '30대(여자)',\n",
       "       '30대(남자)', '40대(여자)', '40대(남자)', '50대(여자)', '50대(남자)', '60대(여자)',\n",
       "       '60대(남자)', '70대(여자)', '70대(남자)', '80대(여자)', '80대(남자)', '90대(여자)',\n",
       "       '90대(남자)', '100대(여자)', '100대(남자)', '미성년자', '대중교통현황', '주차면수/총세대',\n",
       "       '단지내주차면수/100'],\n",
       "      dtype='object')"
      ]
     },
     "execution_count": 87,
     "metadata": {},
     "output_type": "execute_result"
    }
   ],
   "source": [
    "train_agg.columns"
   ]
  },
  {
   "cell_type": "markdown",
   "id": "b812d753",
   "metadata": {},
   "source": [
    "##### Log"
   ]
  },
  {
   "cell_type": "code",
   "execution_count": 88,
   "id": "1e6066e4",
   "metadata": {},
   "outputs": [],
   "source": [
    "def log_transform(df,col):\n",
    "    for i in col:\n",
    "        col_name = f'{i}_log'\n",
    "        df[col_name] =  np.log1p(df[i])\n",
    "    return df\n",
    "\n",
    "\n",
    "train_agg = log_transform(train_agg,['총세대수','단지내주차면수','전용면적별세대수 평균','임대보증금 평균']) \n",
    "test_agg = log_transform(test_agg,['총세대수','단지내주차면수','전용면적별세대수 평균','임대보증금 평균']) "
   ]
  },
  {
   "cell_type": "markdown",
   "id": "0fa9591e",
   "metadata": {},
   "source": [
    "##### corr"
   ]
  },
  {
   "cell_type": "markdown",
   "id": "a86ed67b",
   "metadata": {},
   "source": [
    "#### 주차수요 예측 방법 \n",
    "- 아파트 단지 내 필요한 주차대수는 ①법정주차대수 ②장래주차수요 중 큰 값에 따라 결정하게되어 있어, 정확한 ②장래주차수요의 산정을 필요로 함\n",
    "- 현재 ②장래주차수요는 ‘주차원단위’와 ‘건축연면적’을 기초로하여 산출되고 있으며, ‘주차원단위’는 신규 건축예정 부지 인근의 유사 단지를 피크 시간대 방문하여 주차된 차량대수를 세는 방법으로 조사하고 있음\n",
    "- 이 경우 인력조사로 인한 오차발생, 현장조사 시점과 실제 건축시점과의 시간차 등의 문제로 과대 또는 과소 산정의 가능성을 배제할 수 없음"
   ]
  },
  {
   "cell_type": "code",
   "execution_count": 89,
   "id": "bc1b12d9",
   "metadata": {},
   "outputs": [],
   "source": [
    "train_agg['주차면수대비등록확률'] = train_agg['등록차량수'] / train_agg['단지내주차면수']\n",
    "train_agg = train_agg.drop(columns=['등록차량수'])"
   ]
  },
  {
   "cell_type": "code",
   "execution_count": 90,
   "id": "84b318df",
   "metadata": {},
   "outputs": [
    {
     "name": "stdout",
     "output_type": "stream",
     "text": [
      "<class 'pandas.core.frame.DataFrame'>\n",
      "Int64Index: 411 entries, 0 to 410\n",
      "Data columns (total 54 columns):\n",
      " #   Column                   Non-Null Count  Dtype  \n",
      "---  ------                   --------------  -----  \n",
      " 0   단지코드                     411 non-null    object \n",
      " 1   총세대수                     411 non-null    int64  \n",
      " 2   지역                       411 non-null    object \n",
      " 3   공가수                      411 non-null    float64\n",
      " 4   지하철                      411 non-null    float64\n",
      " 5   버스                       411 non-null    float64\n",
      " 6   단지내주차면수                  411 non-null    float64\n",
      " 7   전용면적별세대수 평균              411 non-null    float64\n",
      " 8   임대보증금 평균                 411 non-null    float64\n",
      " 9   임대료 평균                   411 non-null    float64\n",
      " 10  임대건물구분_상가                411 non-null    float64\n",
      " 11  임대건물구분_아파트               411 non-null    float64\n",
      " 12  공급유형_공공임대(50년)           411 non-null    float64\n",
      " 13  공급유형_공공임대(5년/10년/분납/분양)  411 non-null    float64\n",
      " 14  공급유형_국민임대/장기전세           411 non-null    float64\n",
      " 15  공급유형_영구임대                411 non-null    float64\n",
      " 16  공급유형_임대상가                411 non-null    float64\n",
      " 17  공급유형_행복주택                411 non-null    float64\n",
      " 18  자격유형_A                   411 non-null    float64\n",
      " 19  자격유형_D                   411 non-null    float64\n",
      " 20  자격유형_국민임대/장기전세_공급대상      411 non-null    float64\n",
      " 21  자격유형_영구임대_공급대상           411 non-null    float64\n",
      " 22  자격유형_행복주택_공급대상           411 non-null    float64\n",
      " 23  10대미만(여자)                411 non-null    float64\n",
      " 24  10대미만(남자)                411 non-null    float64\n",
      " 25  10대(여자)                  411 non-null    float64\n",
      " 26  10대(남자)                  411 non-null    float64\n",
      " 27  20대(여자)                  411 non-null    float64\n",
      " 28  20대(남자)                  411 non-null    float64\n",
      " 29  30대(여자)                  411 non-null    float64\n",
      " 30  30대(남자)                  411 non-null    float64\n",
      " 31  40대(여자)                  411 non-null    float64\n",
      " 32  40대(남자)                  411 non-null    float64\n",
      " 33  50대(여자)                  411 non-null    float64\n",
      " 34  50대(남자)                  411 non-null    float64\n",
      " 35  60대(여자)                  411 non-null    float64\n",
      " 36  60대(남자)                  411 non-null    float64\n",
      " 37  70대(여자)                  411 non-null    float64\n",
      " 38  70대(남자)                  411 non-null    float64\n",
      " 39  80대(여자)                  411 non-null    float64\n",
      " 40  80대(남자)                  411 non-null    float64\n",
      " 41  90대(여자)                  411 non-null    float64\n",
      " 42  90대(남자)                  411 non-null    float64\n",
      " 43  100대(여자)                 411 non-null    float64\n",
      " 44  100대(남자)                 411 non-null    float64\n",
      " 45  미성년자                     411 non-null    float64\n",
      " 46  대중교통현황                   411 non-null    float64\n",
      " 47  주차면수/총세대                 411 non-null    float64\n",
      " 48  단지내주차면수/100              411 non-null    float64\n",
      " 49  총세대수_log                 411 non-null    float64\n",
      " 50  단지내주차면수_log              411 non-null    float64\n",
      " 51  전용면적별세대수 평균_log          411 non-null    float64\n",
      " 52  임대보증금 평균_log             411 non-null    float64\n",
      " 53  주차면수대비등록확률               411 non-null    float64\n",
      "dtypes: float64(51), int64(1), object(2)\n",
      "memory usage: 176.6+ KB\n"
     ]
    }
   ],
   "source": [
    "train_agg.info()"
   ]
  },
  {
   "cell_type": "markdown",
   "id": "99312238",
   "metadata": {},
   "source": [
    "### Modeling"
   ]
  },
  {
   "cell_type": "code",
   "execution_count": 91,
   "id": "07ec5fde",
   "metadata": {},
   "outputs": [],
   "source": [
    "# Machine Learning Library\n",
    "from sklearn import model_selection\n",
    "from sklearn.model_selection import train_test_split\n",
    "from sklearn.preprocessing import RobustScaler\n",
    "from sklearn.metrics import mean_absolute_error, mean_squared_error, r2_score"
   ]
  },
  {
   "cell_type": "code",
   "execution_count": 92,
   "id": "b30035d0",
   "metadata": {},
   "outputs": [
    {
     "data": {
      "text/plain": [
       "((411, 45), (147, 45))"
      ]
     },
     "execution_count": 92,
     "metadata": {},
     "output_type": "execute_result"
    }
   ],
   "source": [
    "ignore_features=['단지코드', '10대미만(여자)','10대미만(남자)', '90대(여자)',\n",
    "       '90대(남자)', '100대(여자)', '100대(남자)','단지내주차면수','지역','주차면수대비등록확률']\n",
    "\n",
    "label = '주차면수대비등록확률'\n",
    "feature = list(set(train_agg.columns.tolist()) - set(ignore_features))\n",
    "\n",
    "\n",
    "train_df = train_agg[feature+[label]] \n",
    "test_df = test_agg[feature]\n",
    "test_df[label] = 0.0\n",
    "\n",
    "train_df.shape, test_df.shape"
   ]
  },
  {
   "cell_type": "code",
   "execution_count": 93,
   "id": "ad7ad042",
   "metadata": {},
   "outputs": [
    {
     "data": {
      "text/plain": [
       "((411, 44), (147, 44), (411,), (147,))"
      ]
     },
     "execution_count": 93,
     "metadata": {},
     "output_type": "execute_result"
    }
   ],
   "source": [
    "train_X = train_df.drop(columns = label)\n",
    "train_y = train_df[label]\n",
    "\n",
    "test_X = test_df.drop(columns=label)\n",
    "test_y = test_df[label]\n",
    "\n",
    "\n",
    "train_X.shape, test_X.shape, train_y.shape, test_y.shape"
   ]
  },
  {
   "cell_type": "code",
   "execution_count": 94,
   "id": "80ffe678",
   "metadata": {},
   "outputs": [
    {
     "data": {
      "text/plain": [
       "(411,)"
      ]
     },
     "execution_count": 94,
     "metadata": {},
     "output_type": "execute_result"
    }
   ],
   "source": [
    "# y Transform\n",
    "IQR = np.quantile(train_y, 0.75) - np.quantile(train_y, 0.25)\n",
    "min_value = np.quantile(train_y, 0.25) - IQR #* 1.5\n",
    "max_value = np.quantile(train_y, 0.75) + IQR #* 1.5\n",
    "train_y = train_y.apply(lambda x : x if x>min_value else min_value)\n",
    "train_y = train_y.apply(lambda x : x if x<max_value else max_value)\n",
    "\n",
    "train_y.shape"
   ]
  },
  {
   "cell_type": "code",
   "execution_count": 95,
   "id": "6d847522",
   "metadata": {},
   "outputs": [],
   "source": [
    "from sklearn.preprocessing import StandardScaler, RobustScaler\n",
    "rb = RobustScaler()\n",
    "train_X = rb.fit_transform(train_X)\n",
    "test_X = rb.transform(test_X)"
   ]
  },
  {
   "cell_type": "code",
   "execution_count": 96,
   "id": "2d21590e",
   "metadata": {},
   "outputs": [],
   "source": [
    "import torch\n",
    "import torch.nn as nn\n",
    "import torch.optim as optim\n",
    "import torch.nn.functional as F\n",
    "from torch.utils.data import Dataset, DataLoader\n",
    "\n",
    "device = torch.device('cpu')\n",
    "\n",
    "\n",
    "train_X = torch.FloatTensor(train_X) # nd.array를 tensor 형식으로 바꿔준다. \n",
    "test_X = torch.FloatTensor(test_X)\n",
    "train_y = torch.FloatTensor(train_y).reshape(-1,1) # flatten "
   ]
  },
  {
   "cell_type": "code",
   "execution_count": 97,
   "id": "423edc54",
   "metadata": {},
   "outputs": [
    {
     "data": {
      "text/plain": [
       "(torch.Size([411, 44]), torch.Size([147, 44]), torch.Size([411, 1]), (147,))"
      ]
     },
     "execution_count": 97,
     "metadata": {},
     "output_type": "execute_result"
    }
   ],
   "source": [
    "train_X.shape, test_X.shape, train_y.shape, test_y.shape"
   ]
  },
  {
   "cell_type": "code",
   "execution_count": 98,
   "id": "77697a37",
   "metadata": {},
   "outputs": [],
   "source": [
    "from pytorch_tabnet.tab_model import TabNetClassifier"
   ]
  },
  {
   "cell_type": "markdown",
   "id": "2e881292",
   "metadata": {},
   "source": [
    "https://slowsteadystat.tistory.com/23"
   ]
  },
  {
   "cell_type": "code",
   "execution_count": 99,
   "id": "1cc11dc8",
   "metadata": {},
   "outputs": [],
   "source": [
    "linear1 = torch.nn.Linear(train_X.shape[1], 512, bias=True)\n",
    "linear3 = torch.nn.Linear(512, 256, bias=True)\n",
    "linear4 = torch.nn.Linear(256, 128, bias=True)\n",
    "linear5 = torch.nn.Linear(128, 64, bias=True)\n",
    "linear6 = torch.nn.Linear(64, 32, bias=True)\n",
    "linear7 = torch.nn.Linear(32, 10, bias=True)\n",
    "linear8 = torch.nn.Linear(10, 1, bias=True)\n",
    "\n",
    "relu = torch.nn.ReLU()\n",
    "dropout = torch.nn.Dropout(p=0.1)"
   ]
  },
  {
   "cell_type": "code",
   "execution_count": 100,
   "id": "19389318",
   "metadata": {},
   "outputs": [],
   "source": [
    "model = torch.nn.Sequential(linear1,relu,\n",
    "                            linear3,relu,\n",
    "                            linear4, relu,\n",
    "                            linear5, relu,\n",
    "                            dropout,\n",
    "                            linear6, relu,\n",
    "                            linear7, relu,\n",
    "                            linear8).to(device)"
   ]
  },
  {
   "cell_type": "code",
   "execution_count": 109,
   "id": "73521cb7",
   "metadata": {},
   "outputs": [
    {
     "name": "stdout",
     "output_type": "stream",
     "text": [
      "Collecting torchsummaryX\n",
      "  Downloading torchsummaryX-1.3.0-py3-none-any.whl (3.6 kB)\n",
      "Requirement already satisfied: torch in c:\\users\\sanga\\anaconda\\lib\\site-packages (from torchsummaryX) (1.13.0)\n",
      "Requirement already satisfied: pandas in c:\\users\\sanga\\anaconda\\lib\\site-packages (from torchsummaryX) (1.4.4)\n",
      "Requirement already satisfied: numpy in c:\\users\\sanga\\anaconda\\lib\\site-packages (from torchsummaryX) (1.21.5)\n",
      "Requirement already satisfied: python-dateutil>=2.8.1 in c:\\users\\sanga\\anaconda\\lib\\site-packages (from pandas->torchsummaryX) (2.8.2)\n",
      "Requirement already satisfied: pytz>=2020.1 in c:\\users\\sanga\\anaconda\\lib\\site-packages (from pandas->torchsummaryX) (2022.1)\n",
      "Requirement already satisfied: typing-extensions in c:\\users\\sanga\\anaconda\\lib\\site-packages (from torch->torchsummaryX) (4.3.0)\n",
      "Requirement already satisfied: six>=1.5 in c:\\users\\sanga\\anaconda\\lib\\site-packages (from python-dateutil>=2.8.1->pandas->torchsummaryX) (1.16.0)\n",
      "Installing collected packages: torchsummaryX\n",
      "Successfully installed torchsummaryX-1.3.0\n"
     ]
    }
   ],
   "source": [
    "!pip install torchsummaryX\n",
    "from torchsummaryX import summary"
   ]
  },
  {
   "cell_type": "code",
   "execution_count": 111,
   "id": "fff63037",
   "metadata": {},
   "outputs": [
    {
     "name": "stdout",
     "output_type": "stream",
     "text": [
      "====================================================\n",
      "      Kernel Shape Output Shape    Params Mult-Adds\n",
      "Layer                                              \n",
      "0_0      [44, 512]        [512]    23.04k   22.528k\n",
      "1_1              -        [512]         -         -\n",
      "2_2     [512, 256]        [256]  131.328k  131.072k\n",
      "3_1              -        [256]         -         -\n",
      "4_4     [256, 128]        [128]   32.896k   32.768k\n",
      "5_1              -        [128]         -         -\n",
      "6_6      [128, 64]         [64]    8.256k    8.192k\n",
      "7_1              -         [64]         -         -\n",
      "8_8              -         [64]         -         -\n",
      "9_9       [64, 32]         [32]     2.08k    2.048k\n",
      "10_1             -         [32]         -         -\n",
      "11_11     [32, 10]         [10]     330.0     320.0\n",
      "12_1             -         [10]         -         -\n",
      "13_13      [10, 1]          [1]      11.0      10.0\n",
      "----------------------------------------------------\n",
      "                        Totals\n",
      "Total params          197.941k\n",
      "Trainable params      197.941k\n",
      "Non-trainable params       0.0\n",
      "Mult-Adds             196.938k\n",
      "====================================================\n"
     ]
    },
    {
     "data": {
      "text/html": [
       "<div>\n",
       "<style scoped>\n",
       "    .dataframe tbody tr th:only-of-type {\n",
       "        vertical-align: middle;\n",
       "    }\n",
       "\n",
       "    .dataframe tbody tr th {\n",
       "        vertical-align: top;\n",
       "    }\n",
       "\n",
       "    .dataframe thead th {\n",
       "        text-align: right;\n",
       "    }\n",
       "</style>\n",
       "<table border=\"1\" class=\"dataframe\">\n",
       "  <thead>\n",
       "    <tr style=\"text-align: right;\">\n",
       "      <th></th>\n",
       "      <th>Kernel Shape</th>\n",
       "      <th>Output Shape</th>\n",
       "      <th>Params</th>\n",
       "      <th>Mult-Adds</th>\n",
       "    </tr>\n",
       "    <tr>\n",
       "      <th>Layer</th>\n",
       "      <th></th>\n",
       "      <th></th>\n",
       "      <th></th>\n",
       "      <th></th>\n",
       "    </tr>\n",
       "  </thead>\n",
       "  <tbody>\n",
       "    <tr>\n",
       "      <th>0_0</th>\n",
       "      <td>[44, 512]</td>\n",
       "      <td>[512]</td>\n",
       "      <td>23040.0</td>\n",
       "      <td>22528.0</td>\n",
       "    </tr>\n",
       "    <tr>\n",
       "      <th>1_1</th>\n",
       "      <td>-</td>\n",
       "      <td>[512]</td>\n",
       "      <td>NaN</td>\n",
       "      <td>NaN</td>\n",
       "    </tr>\n",
       "    <tr>\n",
       "      <th>2_2</th>\n",
       "      <td>[512, 256]</td>\n",
       "      <td>[256]</td>\n",
       "      <td>131328.0</td>\n",
       "      <td>131072.0</td>\n",
       "    </tr>\n",
       "    <tr>\n",
       "      <th>3_1</th>\n",
       "      <td>-</td>\n",
       "      <td>[256]</td>\n",
       "      <td>NaN</td>\n",
       "      <td>NaN</td>\n",
       "    </tr>\n",
       "    <tr>\n",
       "      <th>4_4</th>\n",
       "      <td>[256, 128]</td>\n",
       "      <td>[128]</td>\n",
       "      <td>32896.0</td>\n",
       "      <td>32768.0</td>\n",
       "    </tr>\n",
       "    <tr>\n",
       "      <th>5_1</th>\n",
       "      <td>-</td>\n",
       "      <td>[128]</td>\n",
       "      <td>NaN</td>\n",
       "      <td>NaN</td>\n",
       "    </tr>\n",
       "    <tr>\n",
       "      <th>6_6</th>\n",
       "      <td>[128, 64]</td>\n",
       "      <td>[64]</td>\n",
       "      <td>8256.0</td>\n",
       "      <td>8192.0</td>\n",
       "    </tr>\n",
       "    <tr>\n",
       "      <th>7_1</th>\n",
       "      <td>-</td>\n",
       "      <td>[64]</td>\n",
       "      <td>NaN</td>\n",
       "      <td>NaN</td>\n",
       "    </tr>\n",
       "    <tr>\n",
       "      <th>8_8</th>\n",
       "      <td>-</td>\n",
       "      <td>[64]</td>\n",
       "      <td>NaN</td>\n",
       "      <td>NaN</td>\n",
       "    </tr>\n",
       "    <tr>\n",
       "      <th>9_9</th>\n",
       "      <td>[64, 32]</td>\n",
       "      <td>[32]</td>\n",
       "      <td>2080.0</td>\n",
       "      <td>2048.0</td>\n",
       "    </tr>\n",
       "    <tr>\n",
       "      <th>10_1</th>\n",
       "      <td>-</td>\n",
       "      <td>[32]</td>\n",
       "      <td>NaN</td>\n",
       "      <td>NaN</td>\n",
       "    </tr>\n",
       "    <tr>\n",
       "      <th>11_11</th>\n",
       "      <td>[32, 10]</td>\n",
       "      <td>[10]</td>\n",
       "      <td>330.0</td>\n",
       "      <td>320.0</td>\n",
       "    </tr>\n",
       "    <tr>\n",
       "      <th>12_1</th>\n",
       "      <td>-</td>\n",
       "      <td>[10]</td>\n",
       "      <td>NaN</td>\n",
       "      <td>NaN</td>\n",
       "    </tr>\n",
       "    <tr>\n",
       "      <th>13_13</th>\n",
       "      <td>[10, 1]</td>\n",
       "      <td>[1]</td>\n",
       "      <td>11.0</td>\n",
       "      <td>10.0</td>\n",
       "    </tr>\n",
       "  </tbody>\n",
       "</table>\n",
       "</div>"
      ],
      "text/plain": [
       "      Kernel Shape Output Shape    Params  Mult-Adds\n",
       "Layer                                               \n",
       "0_0      [44, 512]        [512]   23040.0    22528.0\n",
       "1_1              -        [512]       NaN        NaN\n",
       "2_2     [512, 256]        [256]  131328.0   131072.0\n",
       "3_1              -        [256]       NaN        NaN\n",
       "4_4     [256, 128]        [128]   32896.0    32768.0\n",
       "5_1              -        [128]       NaN        NaN\n",
       "6_6      [128, 64]         [64]    8256.0     8192.0\n",
       "7_1              -         [64]       NaN        NaN\n",
       "8_8              -         [64]       NaN        NaN\n",
       "9_9       [64, 32]         [32]    2080.0     2048.0\n",
       "10_1             -         [32]       NaN        NaN\n",
       "11_11     [32, 10]         [10]     330.0      320.0\n",
       "12_1             -         [10]       NaN        NaN\n",
       "13_13      [10, 1]          [1]      11.0       10.0"
      ]
     },
     "execution_count": 111,
     "metadata": {},
     "output_type": "execute_result"
    }
   ],
   "source": [
    "summary(model, torch.zeros((44)))"
   ]
  },
  {
   "cell_type": "code",
   "execution_count": 101,
   "id": "d077d3e2",
   "metadata": {
    "scrolled": true
   },
   "outputs": [
    {
     "data": {
      "text/plain": [
       "Parameter containing:\n",
       "tensor([[ 0.1236, -0.1419, -0.0566, -0.4679, -0.2805,  0.5435, -0.6556,  0.5466,\n",
       "          0.3327,  0.6592]], requires_grad=True)"
      ]
     },
     "execution_count": 101,
     "metadata": {},
     "output_type": "execute_result"
    }
   ],
   "source": [
    "# nn 패키지를 사용하여 모델과 손실 함수를 정의합니다.\n",
    "loss_fn = torch.nn.L1Loss().to(device)\n",
    "optimizer = optim.Adam(model.parameters(), lr=0.0005)\n",
    "\n",
    "torch.nn.init.xavier_normal_(linear1.weight)\n",
    "torch.nn.init.xavier_normal_(linear3.weight)\n",
    "torch.nn.init.xavier_normal_(linear4.weight)\n",
    "torch.nn.init.xavier_normal_(linear5.weight)\n",
    "torch.nn.init.xavier_normal_(linear6.weight)\n",
    "torch.nn.init.xavier_normal_(linear7.weight)\n",
    "torch.nn.init.xavier_normal_(linear8.weight)"
   ]
  },
  {
   "cell_type": "code",
   "execution_count": 102,
   "id": "21b2e00a",
   "metadata": {},
   "outputs": [
    {
     "name": "stdout",
     "output_type": "stream",
     "text": [
      "Epoch: 0 Cost: 1.1136 Error: 1.1136\n",
      "Epoch: 50 Cost: 0.1610 Error: 0.1610\n",
      "Epoch: 100 Cost: 0.1126 Error: 0.1126\n",
      "Epoch: 150 Cost: 0.0858 Error: 0.0858\n",
      "Epoch: 200 Cost: 0.0740 Error: 0.0740\n",
      "Epoch: 250 Cost: 0.0573 Error: 0.0573\n",
      "Epoch: 300 Cost: 0.0527 Error: 0.0527\n",
      "Epoch: 350 Cost: 0.0467 Error: 0.0467\n",
      "Epoch: 400 Cost: 0.0424 Error: 0.0424\n",
      "Epoch: 450 Cost: 0.0444 Error: 0.0444\n"
     ]
    }
   ],
   "source": [
    "# 모델 학습\n",
    "for epoch in range(500):\n",
    "    \n",
    "    # grad 초기화\n",
    "    optimizer.zero_grad()\n",
    "    \n",
    "    # H(x)\n",
    "    output = model(train_X)\n",
    "    \n",
    "    # cost 계산\n",
    "    cost = loss_fn(output, train_y)\n",
    "    \n",
    "    # cost로 H(x) 개선\n",
    "    cost.backward()\n",
    "    optimizer.step()\n",
    "\n",
    "    # epoch 50마다 cost, error 찍기\n",
    "    if epoch % 50 == 0:\n",
    "        # mape\n",
    "        err = cost \n",
    "        # err = mean_squared_error(y_train, output.int())\n",
    "        print(f\"Epoch: {epoch} Cost: {cost:.4f} Error: {err.item():.4f}\")"
   ]
  },
  {
   "cell_type": "code",
   "execution_count": 103,
   "id": "83c5a7f3",
   "metadata": {},
   "outputs": [],
   "source": [
    "pred = model(test_X)\n",
    "pred = pred.detach().numpy().flatten()"
   ]
  },
  {
   "cell_type": "code",
   "execution_count": 104,
   "id": "82210aa6",
   "metadata": {},
   "outputs": [
    {
     "data": {
      "text/plain": [
       "array([1.0997505 , 0.98042405, 1.0881143 , 0.8601647 , 0.9354682 ,\n",
       "       1.1149341 , 0.80059725, 1.1731179 , 0.64462376, 1.1015644 ,\n",
       "       0.8409691 , 0.39587054, 1.1003337 , 0.83327395, 0.8258294 ,\n",
       "       0.75797707, 1.1505268 , 1.0601261 , 0.73969305, 0.809045  ,\n",
       "       0.47300622, 0.6694864 , 0.74185467, 0.62383544, 0.79342055,\n",
       "       0.511088  , 0.81643105, 0.79937625, 0.9333062 , 0.8021945 ,\n",
       "       0.7197124 , 0.75493914, 0.9953315 , 0.92751074, 1.1293244 ,\n",
       "       1.0373139 , 1.096297  , 0.98770106, 0.8236437 , 1.074353  ,\n",
       "       0.899138  , 1.3911285 , 1.2411876 , 1.3155541 , 2.2281258 ,\n",
       "       1.2084781 , 0.9160857 , 1.0658159 , 1.1592596 , 0.97428775,\n",
       "       0.8247066 , 0.91644585, 0.8572831 , 1.0771368 , 0.9238882 ,\n",
       "       1.2567707 , 1.1214542 , 0.85289395, 0.89587104, 0.7878412 ,\n",
       "       0.9699985 , 1.1651886 , 1.0410075 , 1.4188198 , 1.1120691 ,\n",
       "       1.0629803 , 0.8240334 , 0.71157   , 0.8771015 , 0.71947896,\n",
       "       0.94907916, 1.1220381 , 1.3054307 , 1.2087643 , 0.8637384 ,\n",
       "       1.1415682 , 0.94009423, 0.7119962 , 1.0600601 , 1.2036858 ,\n",
       "       1.0705888 , 1.4252503 , 1.1042092 , 1.3234453 , 1.2242353 ,\n",
       "       1.1478759 , 0.9621649 , 0.9497465 , 0.7970258 , 1.126076  ,\n",
       "       1.3720868 , 1.1894189 , 0.78033465, 0.8543277 , 1.2764484 ,\n",
       "       1.0100002 , 0.90712965, 0.86028004, 0.91203976, 0.6956785 ,\n",
       "       0.94688356, 1.174746  , 1.0676364 , 1.2230313 , 0.75153226,\n",
       "       0.7967252 , 1.2285712 , 1.096638  , 1.1568854 , 1.2731576 ,\n",
       "       1.1721694 , 0.6094334 , 0.80936396, 0.9323994 , 0.61547005,\n",
       "       0.7680849 , 0.6568799 , 1.1925943 , 1.0276707 , 0.9342662 ,\n",
       "       1.1123664 , 1.5674748 , 0.54936963, 0.8174721 , 0.7708812 ,\n",
       "       0.6468727 , 1.1769884 , 0.9755306 , 1.0022583 , 1.359755  ,\n",
       "       0.59903705, 1.2249821 , 0.750215  , 1.3882644 , 0.75796735,\n",
       "       0.6988581 , 0.69168663, 0.8218713 , 1.1754774 , 1.2938411 ,\n",
       "       0.9160694 , 0.96604776, 1.1103964 , 0.7471286 , 0.8782216 ,\n",
       "       0.66680646, 0.9791193 ], dtype=float32)"
      ]
     },
     "execution_count": 104,
     "metadata": {},
     "output_type": "execute_result"
    }
   ],
   "source": [
    "pred "
   ]
  },
  {
   "cell_type": "code",
   "execution_count": 105,
   "id": "b754b589",
   "metadata": {
    "scrolled": true
   },
   "outputs": [],
   "source": [
    "test_agg['등록차량수'] = pred * (test_agg['단지내주차면수/100']*100)"
   ]
  },
  {
   "cell_type": "code",
   "execution_count": 106,
   "id": "0992fa0b",
   "metadata": {},
   "outputs": [],
   "source": [
    "import pandas as pd ; pd.options.display.max_rows = 150\n",
    "\n",
    "df_submission = test_agg[['단지코드', '등록차량수']].rename(columns={'단지코드':'code', '등록차량수':'num'})\n",
    "error = pd.DataFrame(np.array([['C2675', 0], ['C2335', 0], ['C1327', 0]]), columns=['code', 'num'])\n",
    "df_submission = pd.concat([df_submission, error]).reset_index(drop=True)"
   ]
  },
  {
   "cell_type": "code",
   "execution_count": 107,
   "id": "e0fae25d",
   "metadata": {},
   "outputs": [
    {
     "data": {
      "text/html": [
       "<div>\n",
       "<style scoped>\n",
       "    .dataframe tbody tr th:only-of-type {\n",
       "        vertical-align: middle;\n",
       "    }\n",
       "\n",
       "    .dataframe tbody tr th {\n",
       "        vertical-align: top;\n",
       "    }\n",
       "\n",
       "    .dataframe thead th {\n",
       "        text-align: right;\n",
       "    }\n",
       "</style>\n",
       "<table border=\"1\" class=\"dataframe\">\n",
       "  <thead>\n",
       "    <tr style=\"text-align: right;\">\n",
       "      <th></th>\n",
       "      <th>code</th>\n",
       "      <th>num</th>\n",
       "    </tr>\n",
       "  </thead>\n",
       "  <tbody>\n",
       "    <tr>\n",
       "      <th>0</th>\n",
       "      <td>C1072</td>\n",
       "      <td>751.129604</td>\n",
       "    </tr>\n",
       "    <tr>\n",
       "      <th>1</th>\n",
       "      <td>C1128</td>\n",
       "      <td>1192.195641</td>\n",
       "    </tr>\n",
       "    <tr>\n",
       "      <th>2</th>\n",
       "      <td>C1456</td>\n",
       "      <td>595.198501</td>\n",
       "    </tr>\n",
       "    <tr>\n",
       "      <th>3</th>\n",
       "      <td>C1840</td>\n",
       "      <td>467.069433</td>\n",
       "    </tr>\n",
       "    <tr>\n",
       "      <th>4</th>\n",
       "      <td>C1332</td>\n",
       "      <td>1040.240635</td>\n",
       "    </tr>\n",
       "    <tr>\n",
       "      <th>5</th>\n",
       "      <td>C1563</td>\n",
       "      <td>1890.928211</td>\n",
       "    </tr>\n",
       "    <tr>\n",
       "      <th>6</th>\n",
       "      <td>C1794</td>\n",
       "      <td>879.055781</td>\n",
       "    </tr>\n",
       "    <tr>\n",
       "      <th>7</th>\n",
       "      <td>C1640</td>\n",
       "      <td>551.365402</td>\n",
       "    </tr>\n",
       "    <tr>\n",
       "      <th>8</th>\n",
       "      <td>C1377</td>\n",
       "      <td>247.535522</td>\n",
       "    </tr>\n",
       "    <tr>\n",
       "      <th>9</th>\n",
       "      <td>C2072</td>\n",
       "      <td>308.438034</td>\n",
       "    </tr>\n",
       "    <tr>\n",
       "      <th>10</th>\n",
       "      <td>C1472</td>\n",
       "      <td>371.708336</td>\n",
       "    </tr>\n",
       "    <tr>\n",
       "      <th>11</th>\n",
       "      <td>C1006</td>\n",
       "      <td>169.43259</td>\n",
       "    </tr>\n",
       "    <tr>\n",
       "      <th>12</th>\n",
       "      <td>C1083</td>\n",
       "      <td>422.528137</td>\n",
       "    </tr>\n",
       "    <tr>\n",
       "      <th>13</th>\n",
       "      <td>C1311</td>\n",
       "      <td>220.817596</td>\n",
       "    </tr>\n",
       "    <tr>\n",
       "      <th>14</th>\n",
       "      <td>C2676</td>\n",
       "      <td>345.196684</td>\n",
       "    </tr>\n",
       "    <tr>\n",
       "      <th>15</th>\n",
       "      <td>C2318</td>\n",
       "      <td>159.175184</td>\n",
       "    </tr>\n",
       "    <tr>\n",
       "      <th>16</th>\n",
       "      <td>C1603</td>\n",
       "      <td>564.90864</td>\n",
       "    </tr>\n",
       "    <tr>\n",
       "      <th>17</th>\n",
       "      <td>C2523</td>\n",
       "      <td>297.895425</td>\n",
       "    </tr>\n",
       "    <tr>\n",
       "      <th>18</th>\n",
       "      <td>C2177</td>\n",
       "      <td>138.3226</td>\n",
       "    </tr>\n",
       "    <tr>\n",
       "      <th>19</th>\n",
       "      <td>C2411</td>\n",
       "      <td>679.597814</td>\n",
       "    </tr>\n",
       "    <tr>\n",
       "      <th>20</th>\n",
       "      <td>C2033</td>\n",
       "      <td>145.685915</td>\n",
       "    </tr>\n",
       "    <tr>\n",
       "      <th>21</th>\n",
       "      <td>C1604</td>\n",
       "      <td>267.794561</td>\n",
       "    </tr>\n",
       "    <tr>\n",
       "      <th>22</th>\n",
       "      <td>C2535</td>\n",
       "      <td>356.09024</td>\n",
       "    </tr>\n",
       "    <tr>\n",
       "      <th>23</th>\n",
       "      <td>C1040</td>\n",
       "      <td>341.861824</td>\n",
       "    </tr>\n",
       "    <tr>\n",
       "      <th>24</th>\n",
       "      <td>C2417</td>\n",
       "      <td>354.658987</td>\n",
       "    </tr>\n",
       "    <tr>\n",
       "      <th>25</th>\n",
       "      <td>C1812</td>\n",
       "      <td>94.551283</td>\n",
       "    </tr>\n",
       "    <tr>\n",
       "      <th>26</th>\n",
       "      <td>C2253</td>\n",
       "      <td>141.242571</td>\n",
       "    </tr>\n",
       "    <tr>\n",
       "      <th>27</th>\n",
       "      <td>C1294</td>\n",
       "      <td>456.443838</td>\n",
       "    </tr>\n",
       "    <tr>\n",
       "      <th>28</th>\n",
       "      <td>C1772</td>\n",
       "      <td>553.450587</td>\n",
       "    </tr>\n",
       "    <tr>\n",
       "      <th>29</th>\n",
       "      <td>C2646</td>\n",
       "      <td>400.295044</td>\n",
       "    </tr>\n",
       "    <tr>\n",
       "      <th>30</th>\n",
       "      <td>C1152</td>\n",
       "      <td>792.403327</td>\n",
       "    </tr>\n",
       "    <tr>\n",
       "      <th>31</th>\n",
       "      <td>C2423</td>\n",
       "      <td>114.750749</td>\n",
       "    </tr>\n",
       "    <tr>\n",
       "      <th>32</th>\n",
       "      <td>C1844</td>\n",
       "      <td>495.6751</td>\n",
       "    </tr>\n",
       "    <tr>\n",
       "      <th>33</th>\n",
       "      <td>C1318</td>\n",
       "      <td>209.617427</td>\n",
       "    </tr>\n",
       "    <tr>\n",
       "      <th>34</th>\n",
       "      <td>C1729</td>\n",
       "      <td>147.941501</td>\n",
       "    </tr>\n",
       "    <tr>\n",
       "      <th>35</th>\n",
       "      <td>C1602</td>\n",
       "      <td>330.903146</td>\n",
       "    </tr>\n",
       "    <tr>\n",
       "      <th>36</th>\n",
       "      <td>C1239</td>\n",
       "      <td>465.926236</td>\n",
       "    </tr>\n",
       "    <tr>\n",
       "      <th>37</th>\n",
       "      <td>C1721</td>\n",
       "      <td>565.952706</td>\n",
       "    </tr>\n",
       "    <tr>\n",
       "      <th>38</th>\n",
       "      <td>C1902</td>\n",
       "      <td>692.684339</td>\n",
       "    </tr>\n",
       "    <tr>\n",
       "      <th>39</th>\n",
       "      <td>C1855</td>\n",
       "      <td>357.759542</td>\n",
       "    </tr>\n",
       "    <tr>\n",
       "      <th>40</th>\n",
       "      <td>C2600</td>\n",
       "      <td>411.805192</td>\n",
       "    </tr>\n",
       "    <tr>\n",
       "      <th>41</th>\n",
       "      <td>C1071</td>\n",
       "      <td>560.624802</td>\n",
       "    </tr>\n",
       "    <tr>\n",
       "      <th>42</th>\n",
       "      <td>C2295</td>\n",
       "      <td>469.168902</td>\n",
       "    </tr>\n",
       "    <tr>\n",
       "      <th>43</th>\n",
       "      <td>C1621</td>\n",
       "      <td>678.825937</td>\n",
       "    </tr>\n",
       "    <tr>\n",
       "      <th>44</th>\n",
       "      <td>C1852</td>\n",
       "      <td>1749.078761</td>\n",
       "    </tr>\n",
       "    <tr>\n",
       "      <th>45</th>\n",
       "      <td>C2555</td>\n",
       "      <td>1480.385664</td>\n",
       "    </tr>\n",
       "    <tr>\n",
       "      <th>46</th>\n",
       "      <td>C1297</td>\n",
       "      <td>410.406403</td>\n",
       "    </tr>\n",
       "    <tr>\n",
       "      <th>47</th>\n",
       "      <td>C2323</td>\n",
       "      <td>598.98855</td>\n",
       "    </tr>\n",
       "    <tr>\n",
       "      <th>48</th>\n",
       "      <td>C2215</td>\n",
       "      <td>405.740845</td>\n",
       "    </tr>\n",
       "    <tr>\n",
       "      <th>49</th>\n",
       "      <td>C2112</td>\n",
       "      <td>372.17792</td>\n",
       "    </tr>\n",
       "    <tr>\n",
       "      <th>50</th>\n",
       "      <td>C1830</td>\n",
       "      <td>663.888824</td>\n",
       "    </tr>\n",
       "    <tr>\n",
       "      <th>51</th>\n",
       "      <td>C2602</td>\n",
       "      <td>247.44038</td>\n",
       "    </tr>\n",
       "    <tr>\n",
       "      <th>52</th>\n",
       "      <td>C2608</td>\n",
       "      <td>978.160035</td>\n",
       "    </tr>\n",
       "    <tr>\n",
       "      <th>53</th>\n",
       "      <td>C1215</td>\n",
       "      <td>710.910258</td>\n",
       "    </tr>\n",
       "    <tr>\n",
       "      <th>54</th>\n",
       "      <td>C2369</td>\n",
       "      <td>487.812973</td>\n",
       "    </tr>\n",
       "    <tr>\n",
       "      <th>55</th>\n",
       "      <td>C1158</td>\n",
       "      <td>253.867687</td>\n",
       "    </tr>\n",
       "    <tr>\n",
       "      <th>56</th>\n",
       "      <td>C1887</td>\n",
       "      <td>685.20854</td>\n",
       "    </tr>\n",
       "    <tr>\n",
       "      <th>57</th>\n",
       "      <td>C1189</td>\n",
       "      <td>263.54423</td>\n",
       "    </tr>\n",
       "    <tr>\n",
       "      <th>58</th>\n",
       "      <td>C1637</td>\n",
       "      <td>412.996551</td>\n",
       "    </tr>\n",
       "    <tr>\n",
       "      <th>59</th>\n",
       "      <td>C1225</td>\n",
       "      <td>125.266751</td>\n",
       "    </tr>\n",
       "    <tr>\n",
       "      <th>60</th>\n",
       "      <td>C2374</td>\n",
       "      <td>338.529469</td>\n",
       "    </tr>\n",
       "    <tr>\n",
       "      <th>61</th>\n",
       "      <td>C2397</td>\n",
       "      <td>547.638619</td>\n",
       "    </tr>\n",
       "    <tr>\n",
       "      <th>62</th>\n",
       "      <td>C1105</td>\n",
       "      <td>929.619714</td>\n",
       "    </tr>\n",
       "    <tr>\n",
       "      <th>63</th>\n",
       "      <td>C1782</td>\n",
       "      <td>507.937483</td>\n",
       "    </tr>\n",
       "    <tr>\n",
       "      <th>64</th>\n",
       "      <td>C1629</td>\n",
       "      <td>176.818992</td>\n",
       "    </tr>\n",
       "    <tr>\n",
       "      <th>65</th>\n",
       "      <td>C1708</td>\n",
       "      <td>291.256601</td>\n",
       "    </tr>\n",
       "    <tr>\n",
       "      <th>66</th>\n",
       "      <td>C2144</td>\n",
       "      <td>482.059527</td>\n",
       "    </tr>\n",
       "    <tr>\n",
       "      <th>67</th>\n",
       "      <td>C1617</td>\n",
       "      <td>736.474975</td>\n",
       "    </tr>\n",
       "    <tr>\n",
       "      <th>68</th>\n",
       "      <td>C1149</td>\n",
       "      <td>471.003495</td>\n",
       "    </tr>\n",
       "    <tr>\n",
       "      <th>69</th>\n",
       "      <td>C1323</td>\n",
       "      <td>364.775835</td>\n",
       "    </tr>\n",
       "    <tr>\n",
       "      <th>70</th>\n",
       "      <td>C1064</td>\n",
       "      <td>703.267655</td>\n",
       "    </tr>\n",
       "    <tr>\n",
       "      <th>71</th>\n",
       "      <td>C1019</td>\n",
       "      <td>290.607875</td>\n",
       "    </tr>\n",
       "    <tr>\n",
       "      <th>72</th>\n",
       "      <td>C2269</td>\n",
       "      <td>711.459705</td>\n",
       "    </tr>\n",
       "    <tr>\n",
       "      <th>73</th>\n",
       "      <td>C1416</td>\n",
       "      <td>1004.483145</td>\n",
       "    </tr>\n",
       "    <tr>\n",
       "      <th>74</th>\n",
       "      <td>C1250</td>\n",
       "      <td>854.237295</td>\n",
       "    </tr>\n",
       "    <tr>\n",
       "      <th>75</th>\n",
       "      <td>C1741</td>\n",
       "      <td>447.494728</td>\n",
       "    </tr>\n",
       "    <tr>\n",
       "      <th>76</th>\n",
       "      <td>C1016</td>\n",
       "      <td>607.300874</td>\n",
       "    </tr>\n",
       "    <tr>\n",
       "      <th>77</th>\n",
       "      <td>C2436</td>\n",
       "      <td>506.229297</td>\n",
       "    </tr>\n",
       "    <tr>\n",
       "      <th>78</th>\n",
       "      <td>C2039</td>\n",
       "      <td>937.093167</td>\n",
       "    </tr>\n",
       "    <tr>\n",
       "      <th>79</th>\n",
       "      <td>C1253</td>\n",
       "      <td>928.041721</td>\n",
       "    </tr>\n",
       "    <tr>\n",
       "      <th>80</th>\n",
       "      <td>C2028</td>\n",
       "      <td>1370.353699</td>\n",
       "    </tr>\n",
       "    <tr>\n",
       "      <th>81</th>\n",
       "      <td>C1166</td>\n",
       "      <td>362.013574</td>\n",
       "    </tr>\n",
       "    <tr>\n",
       "      <th>82</th>\n",
       "      <td>C1135</td>\n",
       "      <td>232.988138</td>\n",
       "    </tr>\n",
       "    <tr>\n",
       "      <th>83</th>\n",
       "      <td>C1216</td>\n",
       "      <td>342.772338</td>\n",
       "    </tr>\n",
       "    <tr>\n",
       "      <th>84</th>\n",
       "      <td>C1593</td>\n",
       "      <td>288.91953</td>\n",
       "    </tr>\n",
       "    <tr>\n",
       "      <th>85</th>\n",
       "      <td>C1826</td>\n",
       "      <td>244.497568</td>\n",
       "    </tr>\n",
       "    <tr>\n",
       "      <th>86</th>\n",
       "      <td>C1827</td>\n",
       "      <td>364.660489</td>\n",
       "    </tr>\n",
       "    <tr>\n",
       "      <th>87</th>\n",
       "      <td>C1564</td>\n",
       "      <td>271.627496</td>\n",
       "    </tr>\n",
       "    <tr>\n",
       "      <th>88</th>\n",
       "      <td>C1495</td>\n",
       "      <td>816.154419</td>\n",
       "    </tr>\n",
       "    <tr>\n",
       "      <th>89</th>\n",
       "      <td>C2653</td>\n",
       "      <td>903.112938</td>\n",
       "    </tr>\n",
       "    <tr>\n",
       "      <th>90</th>\n",
       "      <td>C1392</td>\n",
       "      <td>884.995962</td>\n",
       "    </tr>\n",
       "    <tr>\n",
       "      <th>91</th>\n",
       "      <td>C2128</td>\n",
       "      <td>330.658458</td>\n",
       "    </tr>\n",
       "    <tr>\n",
       "      <th>92</th>\n",
       "      <td>C1282</td>\n",
       "      <td>550.135929</td>\n",
       "    </tr>\n",
       "    <tr>\n",
       "      <th>93</th>\n",
       "      <td>C1521</td>\n",
       "      <td>1116.606276</td>\n",
       "    </tr>\n",
       "    <tr>\n",
       "      <th>94</th>\n",
       "      <td>C2076</td>\n",
       "      <td>1453.874692</td>\n",
       "    </tr>\n",
       "    <tr>\n",
       "      <th>95</th>\n",
       "      <td>C1060</td>\n",
       "      <td>608.020138</td>\n",
       "    </tr>\n",
       "    <tr>\n",
       "      <th>96</th>\n",
       "      <td>C2473</td>\n",
       "      <td>1108.512427</td>\n",
       "    </tr>\n",
       "    <tr>\n",
       "      <th>97</th>\n",
       "      <td>C2557</td>\n",
       "      <td>703.70907</td>\n",
       "    </tr>\n",
       "    <tr>\n",
       "      <th>98</th>\n",
       "      <td>C1835</td>\n",
       "      <td>843.636775</td>\n",
       "    </tr>\n",
       "    <tr>\n",
       "      <th>99</th>\n",
       "      <td>C2224</td>\n",
       "      <td>518.97614</td>\n",
       "    </tr>\n",
       "    <tr>\n",
       "      <th>100</th>\n",
       "      <td>C2222</td>\n",
       "      <td>352.240684</td>\n",
       "    </tr>\n",
       "    <tr>\n",
       "      <th>101</th>\n",
       "      <td>C2430</td>\n",
       "      <td>810.574765</td>\n",
       "    </tr>\n",
       "    <tr>\n",
       "      <th>102</th>\n",
       "      <td>C2497</td>\n",
       "      <td>666.205095</td>\n",
       "    </tr>\n",
       "    <tr>\n",
       "      <th>103</th>\n",
       "      <td>C1494</td>\n",
       "      <td>982.09412</td>\n",
       "    </tr>\n",
       "    <tr>\n",
       "      <th>104</th>\n",
       "      <td>C1457</td>\n",
       "      <td>529.078709</td>\n",
       "    </tr>\n",
       "    <tr>\n",
       "      <th>105</th>\n",
       "      <td>C1525</td>\n",
       "      <td>959.257157</td>\n",
       "    </tr>\n",
       "    <tr>\n",
       "      <th>106</th>\n",
       "      <td>C1712</td>\n",
       "      <td>776.456984</td>\n",
       "    </tr>\n",
       "    <tr>\n",
       "      <th>107</th>\n",
       "      <td>C2267</td>\n",
       "      <td>1153.663138</td>\n",
       "    </tr>\n",
       "    <tr>\n",
       "      <th>108</th>\n",
       "      <td>C1623</td>\n",
       "      <td>276.495607</td>\n",
       "    </tr>\n",
       "    <tr>\n",
       "      <th>109</th>\n",
       "      <td>C2131</td>\n",
       "      <td>574.194076</td>\n",
       "    </tr>\n",
       "    <tr>\n",
       "      <th>110</th>\n",
       "      <td>C2691</td>\n",
       "      <td>1066.674197</td>\n",
       "    </tr>\n",
       "    <tr>\n",
       "      <th>111</th>\n",
       "      <td>C1147</td>\n",
       "      <td>597.244744</td>\n",
       "    </tr>\n",
       "    <tr>\n",
       "      <th>112</th>\n",
       "      <td>C1692</td>\n",
       "      <td>984.186577</td>\n",
       "    </tr>\n",
       "    <tr>\n",
       "      <th>113</th>\n",
       "      <td>C1570</td>\n",
       "      <td>945.452984</td>\n",
       "    </tr>\n",
       "    <tr>\n",
       "      <th>114</th>\n",
       "      <td>C1474</td>\n",
       "      <td>87.396747</td>\n",
       "    </tr>\n",
       "    <tr>\n",
       "      <th>115</th>\n",
       "      <td>C1633</td>\n",
       "      <td>129.03826</td>\n",
       "    </tr>\n",
       "    <tr>\n",
       "      <th>116</th>\n",
       "      <td>C2113</td>\n",
       "      <td>460.472811</td>\n",
       "    </tr>\n",
       "    <tr>\n",
       "      <th>117</th>\n",
       "      <td>C2175</td>\n",
       "      <td>816.927088</td>\n",
       "    </tr>\n",
       "    <tr>\n",
       "      <th>118</th>\n",
       "      <td>C2303</td>\n",
       "      <td>1193.12573</td>\n",
       "    </tr>\n",
       "    <tr>\n",
       "      <th>119</th>\n",
       "      <td>C2547</td>\n",
       "      <td>528.794675</td>\n",
       "    </tr>\n",
       "    <tr>\n",
       "      <th>120</th>\n",
       "      <td>C2292</td>\n",
       "      <td>1007.803993</td>\n",
       "    </tr>\n",
       "    <tr>\n",
       "      <th>121</th>\n",
       "      <td>C1496</td>\n",
       "      <td>912.270358</td>\n",
       "    </tr>\n",
       "    <tr>\n",
       "      <th>122</th>\n",
       "      <td>C1289</td>\n",
       "      <td>232.383355</td>\n",
       "    </tr>\n",
       "    <tr>\n",
       "      <th>123</th>\n",
       "      <td>C1849</td>\n",
       "      <td>673.597011</td>\n",
       "    </tr>\n",
       "    <tr>\n",
       "      <th>124</th>\n",
       "      <td>C1003</td>\n",
       "      <td>261.328719</td>\n",
       "    </tr>\n",
       "    <tr>\n",
       "      <th>125</th>\n",
       "      <td>C2268</td>\n",
       "      <td>409.470419</td>\n",
       "    </tr>\n",
       "    <tr>\n",
       "      <th>126</th>\n",
       "      <td>C2551</td>\n",
       "      <td>793.290157</td>\n",
       "    </tr>\n",
       "    <tr>\n",
       "      <th>127</th>\n",
       "      <td>C2688</td>\n",
       "      <td>104.381777</td>\n",
       "    </tr>\n",
       "    <tr>\n",
       "      <th>128</th>\n",
       "      <td>C1030</td>\n",
       "      <td>29.065491</td>\n",
       "    </tr>\n",
       "    <tr>\n",
       "      <th>129</th>\n",
       "      <td>C2451</td>\n",
       "      <td>588.773932</td>\n",
       "    </tr>\n",
       "    <tr>\n",
       "      <th>130</th>\n",
       "      <td>C1749</td>\n",
       "      <td>404.35001</td>\n",
       "    </tr>\n",
       "    <tr>\n",
       "      <th>131</th>\n",
       "      <td>C1349</td>\n",
       "      <td>394.44425</td>\n",
       "    </tr>\n",
       "    <tr>\n",
       "      <th>132</th>\n",
       "      <td>C2043</td>\n",
       "      <td>247.570948</td>\n",
       "    </tr>\n",
       "    <tr>\n",
       "      <th>133</th>\n",
       "      <td>C1229</td>\n",
       "      <td>440.07982</td>\n",
       "    </tr>\n",
       "    <tr>\n",
       "      <th>134</th>\n",
       "      <td>C2363</td>\n",
       "      <td>457.054314</td>\n",
       "    </tr>\n",
       "    <tr>\n",
       "      <th>135</th>\n",
       "      <td>C1414</td>\n",
       "      <td>426.30343</td>\n",
       "    </tr>\n",
       "    <tr>\n",
       "      <th>136</th>\n",
       "      <td>C2174</td>\n",
       "      <td>461.354982</td>\n",
       "    </tr>\n",
       "    <tr>\n",
       "      <th>137</th>\n",
       "      <td>C2091</td>\n",
       "      <td>98.624554</td>\n",
       "    </tr>\n",
       "    <tr>\n",
       "      <th>138</th>\n",
       "      <td>C1841</td>\n",
       "      <td>62.300301</td>\n",
       "    </tr>\n",
       "    <tr>\n",
       "      <th>139</th>\n",
       "      <td>C2404</td>\n",
       "      <td>151.379411</td>\n",
       "    </tr>\n",
       "    <tr>\n",
       "      <th>140</th>\n",
       "      <td>C1683</td>\n",
       "      <td>229.017347</td>\n",
       "    </tr>\n",
       "    <tr>\n",
       "      <th>141</th>\n",
       "      <td>C1038</td>\n",
       "      <td>373.860485</td>\n",
       "    </tr>\n",
       "    <tr>\n",
       "      <th>142</th>\n",
       "      <td>C2456</td>\n",
       "      <td>299.807024</td>\n",
       "    </tr>\n",
       "    <tr>\n",
       "      <th>143</th>\n",
       "      <td>C1266</td>\n",
       "      <td>443.047263</td>\n",
       "    </tr>\n",
       "    <tr>\n",
       "      <th>144</th>\n",
       "      <td>C2152</td>\n",
       "      <td>35.128863</td>\n",
       "    </tr>\n",
       "    <tr>\n",
       "      <th>145</th>\n",
       "      <td>C1267</td>\n",
       "      <td>311.398617</td>\n",
       "    </tr>\n",
       "    <tr>\n",
       "      <th>146</th>\n",
       "      <td>C2189</td>\n",
       "      <td>293.73579</td>\n",
       "    </tr>\n",
       "    <tr>\n",
       "      <th>147</th>\n",
       "      <td>C2675</td>\n",
       "      <td>0</td>\n",
       "    </tr>\n",
       "    <tr>\n",
       "      <th>148</th>\n",
       "      <td>C2335</td>\n",
       "      <td>0</td>\n",
       "    </tr>\n",
       "    <tr>\n",
       "      <th>149</th>\n",
       "      <td>C1327</td>\n",
       "      <td>0</td>\n",
       "    </tr>\n",
       "  </tbody>\n",
       "</table>\n",
       "</div>"
      ],
      "text/plain": [
       "      code          num\n",
       "0    C1072   751.129604\n",
       "1    C1128  1192.195641\n",
       "2    C1456   595.198501\n",
       "3    C1840   467.069433\n",
       "4    C1332  1040.240635\n",
       "5    C1563  1890.928211\n",
       "6    C1794   879.055781\n",
       "7    C1640   551.365402\n",
       "8    C1377   247.535522\n",
       "9    C2072   308.438034\n",
       "10   C1472   371.708336\n",
       "11   C1006    169.43259\n",
       "12   C1083   422.528137\n",
       "13   C1311   220.817596\n",
       "14   C2676   345.196684\n",
       "15   C2318   159.175184\n",
       "16   C1603    564.90864\n",
       "17   C2523   297.895425\n",
       "18   C2177     138.3226\n",
       "19   C2411   679.597814\n",
       "20   C2033   145.685915\n",
       "21   C1604   267.794561\n",
       "22   C2535    356.09024\n",
       "23   C1040   341.861824\n",
       "24   C2417   354.658987\n",
       "25   C1812    94.551283\n",
       "26   C2253   141.242571\n",
       "27   C1294   456.443838\n",
       "28   C1772   553.450587\n",
       "29   C2646   400.295044\n",
       "30   C1152   792.403327\n",
       "31   C2423   114.750749\n",
       "32   C1844     495.6751\n",
       "33   C1318   209.617427\n",
       "34   C1729   147.941501\n",
       "35   C1602   330.903146\n",
       "36   C1239   465.926236\n",
       "37   C1721   565.952706\n",
       "38   C1902   692.684339\n",
       "39   C1855   357.759542\n",
       "40   C2600   411.805192\n",
       "41   C1071   560.624802\n",
       "42   C2295   469.168902\n",
       "43   C1621   678.825937\n",
       "44   C1852  1749.078761\n",
       "45   C2555  1480.385664\n",
       "46   C1297   410.406403\n",
       "47   C2323    598.98855\n",
       "48   C2215   405.740845\n",
       "49   C2112    372.17792\n",
       "50   C1830   663.888824\n",
       "51   C2602    247.44038\n",
       "52   C2608   978.160035\n",
       "53   C1215   710.910258\n",
       "54   C2369   487.812973\n",
       "55   C1158   253.867687\n",
       "56   C1887    685.20854\n",
       "57   C1189    263.54423\n",
       "58   C1637   412.996551\n",
       "59   C1225   125.266751\n",
       "60   C2374   338.529469\n",
       "61   C2397   547.638619\n",
       "62   C1105   929.619714\n",
       "63   C1782   507.937483\n",
       "64   C1629   176.818992\n",
       "65   C1708   291.256601\n",
       "66   C2144   482.059527\n",
       "67   C1617   736.474975\n",
       "68   C1149   471.003495\n",
       "69   C1323   364.775835\n",
       "70   C1064   703.267655\n",
       "71   C1019   290.607875\n",
       "72   C2269   711.459705\n",
       "73   C1416  1004.483145\n",
       "74   C1250   854.237295\n",
       "75   C1741   447.494728\n",
       "76   C1016   607.300874\n",
       "77   C2436   506.229297\n",
       "78   C2039   937.093167\n",
       "79   C1253   928.041721\n",
       "80   C2028  1370.353699\n",
       "81   C1166   362.013574\n",
       "82   C1135   232.988138\n",
       "83   C1216   342.772338\n",
       "84   C1593    288.91953\n",
       "85   C1826   244.497568\n",
       "86   C1827   364.660489\n",
       "87   C1564   271.627496\n",
       "88   C1495   816.154419\n",
       "89   C2653   903.112938\n",
       "90   C1392   884.995962\n",
       "91   C2128   330.658458\n",
       "92   C1282   550.135929\n",
       "93   C1521  1116.606276\n",
       "94   C2076  1453.874692\n",
       "95   C1060   608.020138\n",
       "96   C2473  1108.512427\n",
       "97   C2557    703.70907\n",
       "98   C1835   843.636775\n",
       "99   C2224    518.97614\n",
       "100  C2222   352.240684\n",
       "101  C2430   810.574765\n",
       "102  C2497   666.205095\n",
       "103  C1494    982.09412\n",
       "104  C1457   529.078709\n",
       "105  C1525   959.257157\n",
       "106  C1712   776.456984\n",
       "107  C2267  1153.663138\n",
       "108  C1623   276.495607\n",
       "109  C2131   574.194076\n",
       "110  C2691  1066.674197\n",
       "111  C1147   597.244744\n",
       "112  C1692   984.186577\n",
       "113  C1570   945.452984\n",
       "114  C1474    87.396747\n",
       "115  C1633    129.03826\n",
       "116  C2113   460.472811\n",
       "117  C2175   816.927088\n",
       "118  C2303   1193.12573\n",
       "119  C2547   528.794675\n",
       "120  C2292  1007.803993\n",
       "121  C1496   912.270358\n",
       "122  C1289   232.383355\n",
       "123  C1849   673.597011\n",
       "124  C1003   261.328719\n",
       "125  C2268   409.470419\n",
       "126  C2551   793.290157\n",
       "127  C2688   104.381777\n",
       "128  C1030    29.065491\n",
       "129  C2451   588.773932\n",
       "130  C1749    404.35001\n",
       "131  C1349    394.44425\n",
       "132  C2043   247.570948\n",
       "133  C1229    440.07982\n",
       "134  C2363   457.054314\n",
       "135  C1414    426.30343\n",
       "136  C2174   461.354982\n",
       "137  C2091    98.624554\n",
       "138  C1841    62.300301\n",
       "139  C2404   151.379411\n",
       "140  C1683   229.017347\n",
       "141  C1038   373.860485\n",
       "142  C2456   299.807024\n",
       "143  C1266   443.047263\n",
       "144  C2152    35.128863\n",
       "145  C1267   311.398617\n",
       "146  C2189    293.73579\n",
       "147  C2675            0\n",
       "148  C2335            0\n",
       "149  C1327            0"
      ]
     },
     "execution_count": 107,
     "metadata": {},
     "output_type": "execute_result"
    }
   ],
   "source": [
    "df_submission"
   ]
  },
  {
   "cell_type": "code",
   "execution_count": 108,
   "id": "30504039",
   "metadata": {},
   "outputs": [],
   "source": [
    "import os\n",
    "\n",
    "version = 0;\n",
    "while os.path.isfile('DNN_v'+str(version)+'.csv'):\n",
    "      version+=1\n",
    "df_submission.to_csv('DNN_v'+str(version)+'.csv',index=False)"
   ]
  },
  {
   "cell_type": "markdown",
   "id": "6ff1b140",
   "metadata": {},
   "source": [
    "- 기존 프로잭트 public : 100..8967 / private : 104.6572\n",
    "- DNN_0 적용 결과 public : 111.5254 / private : 123.0716\n",
    "- DNN_1 (Layer unit 512 -> 256) 111.3268567457 / 151.9543140193 -> 과적합 예상..\n"
   ]
  }
 ],
 "metadata": {
  "kernelspec": {
   "display_name": "Python 3 (ipykernel)",
   "language": "python",
   "name": "python3"
  },
  "language_info": {
   "codemirror_mode": {
    "name": "ipython",
    "version": 3
   },
   "file_extension": ".py",
   "mimetype": "text/x-python",
   "name": "python",
   "nbconvert_exporter": "python",
   "pygments_lexer": "ipython3",
   "version": "3.9.13"
  },
  "toc": {
   "base_numbering": 1,
   "nav_menu": {},
   "number_sections": true,
   "sideBar": true,
   "skip_h1_title": true,
   "title_cell": "Table of Contents",
   "title_sidebar": "Contents",
   "toc_cell": false,
   "toc_position": {},
   "toc_section_display": true,
   "toc_window_display": false
  }
 },
 "nbformat": 4,
 "nbformat_minor": 5
}
