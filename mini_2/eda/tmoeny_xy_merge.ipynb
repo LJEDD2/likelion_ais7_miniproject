{
 "cells": [
  {
   "cell_type": "code",
   "execution_count": 4,
   "id": "d961a207",
   "metadata": {},
   "outputs": [],
   "source": [
    "import pandas as pd\n",
    "import numpy as np"
   ]
  },
  {
   "cell_type": "code",
   "execution_count": 10,
   "id": "e2f85f80",
   "metadata": {},
   "outputs": [
    {
     "data": {
      "text/plain": [
       "['서울시버스정류소좌표데이터(2022.08.24).csv']"
      ]
     },
     "execution_count": 10,
     "metadata": {},
     "output_type": "execute_result"
    }
   ],
   "source": [
    "from glob import glob\n",
    "glob(\"서울시*.csv\")"
   ]
  },
  {
   "cell_type": "code",
   "execution_count": 12,
   "id": "e6b40156",
   "metadata": {},
   "outputs": [
    {
     "data": {
      "text/plain": [
       "(11167, 5)"
      ]
     },
     "execution_count": 12,
     "metadata": {},
     "output_type": "execute_result"
    }
   ],
   "source": [
    "df_01 = pd.read_csv('서울시버스정류소좌표데이터(2022.08.24).csv', encoding=\"cp949\")\n",
    "df_01.shape"
   ]
  },
  {
   "cell_type": "code",
   "execution_count": 13,
   "id": "dca1b6a3",
   "metadata": {},
   "outputs": [
    {
     "data": {
      "text/plain": [
       "(358608, 9)"
      ]
     },
     "execution_count": 13,
     "metadata": {},
     "output_type": "execute_result"
    }
   ],
   "source": [
    "df_02 = pd.read_csv(\"2022_tmoney.csv\")\n",
    "df_02.shape"
   ]
  },
  {
   "cell_type": "code",
   "execution_count": 29,
   "id": "0cabb267",
   "metadata": {},
   "outputs": [
    {
     "data": {
      "text/plain": [
       "7057"
      ]
     },
     "execution_count": 29,
     "metadata": {},
     "output_type": "execute_result"
    }
   ],
   "source": [
    "df_01[\"정류소명\"].nunique()"
   ]
  },
  {
   "cell_type": "code",
   "execution_count": 30,
   "id": "7784c97b",
   "metadata": {},
   "outputs": [
    {
     "data": {
      "text/plain": [
       "8209"
      ]
     },
     "execution_count": 30,
     "metadata": {},
     "output_type": "execute_result"
    }
   ],
   "source": [
    "df_02[\"버스정류장명\"].nunique()"
   ]
  },
  {
   "cell_type": "code",
   "execution_count": 28,
   "id": "4bf344f1",
   "metadata": {},
   "outputs": [
    {
     "data": {
      "text/plain": [
       "6640"
      ]
     },
     "execution_count": 28,
     "metadata": {},
     "output_type": "execute_result"
    }
   ],
   "source": [
    "df[\"정류소명\"].nunique()"
   ]
  },
  {
   "cell_type": "code",
   "execution_count": 20,
   "id": "f1bc5cad",
   "metadata": {},
   "outputs": [
    {
     "data": {
      "text/plain": [
       "(677659, 14)"
      ]
     },
     "execution_count": 20,
     "metadata": {},
     "output_type": "execute_result"
    }
   ],
   "source": [
    "df = df_01.merge(df_02, left_on=\"정류소명\", right_on=\"버스정류장명\")\n",
    "df.shape"
   ]
  },
  {
   "cell_type": "code",
   "execution_count": 21,
   "id": "cef5643d",
   "metadata": {},
   "outputs": [
    {
     "name": "stdout",
     "output_type": "stream",
     "text": [
      "<class 'pandas.core.frame.DataFrame'>\n",
      "Int64Index: 677659 entries, 0 to 677658\n",
      "Data columns (total 14 columns):\n",
      " #   Column   Non-Null Count   Dtype  \n",
      "---  ------   --------------   -----  \n",
      " 0   NODE_ID  677659 non-null  int64  \n",
      " 1   ARS-ID   677659 non-null  int64  \n",
      " 2   정류소명     677659 non-null  object \n",
      " 3   좌표X      677659 non-null  float64\n",
      " 4   좌표Y      677659 non-null  float64\n",
      " 5   사용월      677659 non-null  object \n",
      " 6   노선ID     677659 non-null  int64  \n",
      " 7   노선번호     677659 non-null  object \n",
      " 8   노선명      677659 non-null  object \n",
      " 9   버스정류장ID  677659 non-null  int64  \n",
      " 10  버스정류장명   677659 non-null  object \n",
      " 11  승차승객수    677659 non-null  object \n",
      " 12  하차승객수    677659 non-null  object \n",
      " 13  작업일시     677659 non-null  object \n",
      "dtypes: float64(2), int64(4), object(8)\n",
      "memory usage: 77.6+ MB\n"
     ]
    }
   ],
   "source": [
    "df.info()"
   ]
  },
  {
   "cell_type": "code",
   "execution_count": 37,
   "id": "ef71d88b",
   "metadata": {},
   "outputs": [
    {
     "data": {
      "text/html": [
       "<div>\n",
       "<style scoped>\n",
       "    .dataframe tbody tr th:only-of-type {\n",
       "        vertical-align: middle;\n",
       "    }\n",
       "\n",
       "    .dataframe tbody tr th {\n",
       "        vertical-align: top;\n",
       "    }\n",
       "\n",
       "    .dataframe thead th {\n",
       "        text-align: right;\n",
       "    }\n",
       "</style>\n",
       "<table border=\"1\" class=\"dataframe\">\n",
       "  <thead>\n",
       "    <tr style=\"text-align: right;\">\n",
       "      <th></th>\n",
       "      <th>NODE_ID</th>\n",
       "      <th>ARS-ID</th>\n",
       "      <th>정류소명</th>\n",
       "      <th>좌표X</th>\n",
       "      <th>좌표Y</th>\n",
       "      <th>사용월</th>\n",
       "      <th>노선ID</th>\n",
       "      <th>노선번호</th>\n",
       "      <th>노선명</th>\n",
       "      <th>버스정류장ID</th>\n",
       "      <th>버스정류장명</th>\n",
       "      <th>승차승객수</th>\n",
       "      <th>하차승객수</th>\n",
       "      <th>작업일시</th>\n",
       "    </tr>\n",
       "  </thead>\n",
       "  <tbody>\n",
       "    <tr>\n",
       "      <th>0</th>\n",
       "      <td>100000001</td>\n",
       "      <td>1001</td>\n",
       "      <td>종로2가사거리</td>\n",
       "      <td>126.987786</td>\n",
       "      <td>37.569764</td>\n",
       "      <td>2022-01</td>\n",
       "      <td>11410003</td>\n",
       "      <td>470</td>\n",
       "      <td>470번(상암차고지~안골마을)</td>\n",
       "      <td>67</td>\n",
       "      <td>종로2가사거리</td>\n",
       "      <td>6,421</td>\n",
       "      <td>5,295</td>\n",
       "      <td>2022-02-03 08:49:58</td>\n",
       "    </tr>\n",
       "    <tr>\n",
       "      <th>1</th>\n",
       "      <td>100000001</td>\n",
       "      <td>1001</td>\n",
       "      <td>종로2가사거리</td>\n",
       "      <td>126.987786</td>\n",
       "      <td>37.569764</td>\n",
       "      <td>2022-01</td>\n",
       "      <td>11110434</td>\n",
       "      <td>741</td>\n",
       "      <td>741번(진관차고지~헌인릉입구)</td>\n",
       "      <td>77</td>\n",
       "      <td>종로2가사거리</td>\n",
       "      <td>5,318</td>\n",
       "      <td>5,046</td>\n",
       "      <td>2022-02-03 08:49:56</td>\n",
       "    </tr>\n",
       "    <tr>\n",
       "      <th>2</th>\n",
       "      <td>100000001</td>\n",
       "      <td>1001</td>\n",
       "      <td>종로2가사거리</td>\n",
       "      <td>126.987786</td>\n",
       "      <td>37.569764</td>\n",
       "      <td>2022-01</td>\n",
       "      <td>41110152</td>\n",
       "      <td>N37</td>\n",
       "      <td>N37번(송파공영차고지~진관공영차고지)</td>\n",
       "      <td>32</td>\n",
       "      <td>종로2가사거리</td>\n",
       "      <td>43</td>\n",
       "      <td>143</td>\n",
       "      <td>2022-02-03 08:49:58</td>\n",
       "    </tr>\n",
       "    <tr>\n",
       "      <th>3</th>\n",
       "      <td>100000001</td>\n",
       "      <td>1001</td>\n",
       "      <td>종로2가사거리</td>\n",
       "      <td>126.987786</td>\n",
       "      <td>37.569764</td>\n",
       "      <td>2022-01</td>\n",
       "      <td>41110153</td>\n",
       "      <td>N37</td>\n",
       "      <td>N37번(진관공영차고지~송파공영차고지)</td>\n",
       "      <td>89</td>\n",
       "      <td>종로2가사거리</td>\n",
       "      <td>107</td>\n",
       "      <td>189</td>\n",
       "      <td>2022-02-03 08:49:58</td>\n",
       "    </tr>\n",
       "    <tr>\n",
       "      <th>4</th>\n",
       "      <td>100000001</td>\n",
       "      <td>1001</td>\n",
       "      <td>종로2가사거리</td>\n",
       "      <td>126.987786</td>\n",
       "      <td>37.569764</td>\n",
       "      <td>2022-02</td>\n",
       "      <td>11410003</td>\n",
       "      <td>470</td>\n",
       "      <td>470번(상암차고지~안골마을)</td>\n",
       "      <td>67</td>\n",
       "      <td>종로2가사거리</td>\n",
       "      <td>5,341</td>\n",
       "      <td>4,397</td>\n",
       "      <td>2022-03-03 11:02:10</td>\n",
       "    </tr>\n",
       "    <tr>\n",
       "      <th>...</th>\n",
       "      <td>...</td>\n",
       "      <td>...</td>\n",
       "      <td>...</td>\n",
       "      <td>...</td>\n",
       "      <td>...</td>\n",
       "      <td>...</td>\n",
       "      <td>...</td>\n",
       "      <td>...</td>\n",
       "      <td>...</td>\n",
       "      <td>...</td>\n",
       "      <td>...</td>\n",
       "      <td>...</td>\n",
       "      <td>...</td>\n",
       "      <td>...</td>\n",
       "    </tr>\n",
       "    <tr>\n",
       "      <th>677654</th>\n",
       "      <td>124900128</td>\n",
       "      <td>25764</td>\n",
       "      <td>강빛초.중학교</td>\n",
       "      <td>127.172355</td>\n",
       "      <td>37.574115</td>\n",
       "      <td>2022-05</td>\n",
       "      <td>41110200</td>\n",
       "      <td>강동02</td>\n",
       "      <td>강동02(가래여울~암사동서원마을)</td>\n",
       "      <td>76</td>\n",
       "      <td>강빛초.중학교</td>\n",
       "      <td>12</td>\n",
       "      <td>489</td>\n",
       "      <td>2022-06-13 17:02:23</td>\n",
       "    </tr>\n",
       "    <tr>\n",
       "      <th>677655</th>\n",
       "      <td>124900128</td>\n",
       "      <td>25764</td>\n",
       "      <td>강빛초.중학교</td>\n",
       "      <td>127.172355</td>\n",
       "      <td>37.574115</td>\n",
       "      <td>2022-06</td>\n",
       "      <td>41110200</td>\n",
       "      <td>강동02</td>\n",
       "      <td>강동02(가래여울~암사동서원마을)</td>\n",
       "      <td>76</td>\n",
       "      <td>강빛초.중학교</td>\n",
       "      <td>10</td>\n",
       "      <td>501</td>\n",
       "      <td>2022-07-03 09:47:56</td>\n",
       "    </tr>\n",
       "    <tr>\n",
       "      <th>677656</th>\n",
       "      <td>124900128</td>\n",
       "      <td>25764</td>\n",
       "      <td>강빛초.중학교</td>\n",
       "      <td>127.172355</td>\n",
       "      <td>37.574115</td>\n",
       "      <td>2022-07</td>\n",
       "      <td>41110200</td>\n",
       "      <td>강동02</td>\n",
       "      <td>강동02(가래여울~암사동서원마을)</td>\n",
       "      <td>76</td>\n",
       "      <td>강빛초.중학교</td>\n",
       "      <td>10</td>\n",
       "      <td>508</td>\n",
       "      <td>2022-08-03 09:32:38</td>\n",
       "    </tr>\n",
       "    <tr>\n",
       "      <th>677657</th>\n",
       "      <td>124900128</td>\n",
       "      <td>25764</td>\n",
       "      <td>강빛초.중학교</td>\n",
       "      <td>127.172355</td>\n",
       "      <td>37.574115</td>\n",
       "      <td>2022-08</td>\n",
       "      <td>41110200</td>\n",
       "      <td>강동02</td>\n",
       "      <td>강동02(가래여울~암사동서원마을)</td>\n",
       "      <td>76</td>\n",
       "      <td>강빛초.중학교</td>\n",
       "      <td>7</td>\n",
       "      <td>483</td>\n",
       "      <td>2022-09-03 10:18:19</td>\n",
       "    </tr>\n",
       "    <tr>\n",
       "      <th>677658</th>\n",
       "      <td>124900128</td>\n",
       "      <td>25764</td>\n",
       "      <td>강빛초.중학교</td>\n",
       "      <td>127.172355</td>\n",
       "      <td>37.574115</td>\n",
       "      <td>2022-09</td>\n",
       "      <td>41110200</td>\n",
       "      <td>강동02</td>\n",
       "      <td>강동02(가래여울~암사동서원마을)</td>\n",
       "      <td>76</td>\n",
       "      <td>강빛초.중학교</td>\n",
       "      <td>14</td>\n",
       "      <td>523</td>\n",
       "      <td>2022-10-03 09:13:34</td>\n",
       "    </tr>\n",
       "  </tbody>\n",
       "</table>\n",
       "<p>677659 rows × 14 columns</p>\n",
       "</div>"
      ],
      "text/plain": [
       "          NODE_ID  ARS-ID     정류소명         좌표X        좌표Y      사용월      노선ID  \\\n",
       "0       100000001    1001  종로2가사거리  126.987786  37.569764  2022-01  11410003   \n",
       "1       100000001    1001  종로2가사거리  126.987786  37.569764  2022-01  11110434   \n",
       "2       100000001    1001  종로2가사거리  126.987786  37.569764  2022-01  41110152   \n",
       "3       100000001    1001  종로2가사거리  126.987786  37.569764  2022-01  41110153   \n",
       "4       100000001    1001  종로2가사거리  126.987786  37.569764  2022-02  11410003   \n",
       "...           ...     ...      ...         ...        ...      ...       ...   \n",
       "677654  124900128   25764  강빛초.중학교  127.172355  37.574115  2022-05  41110200   \n",
       "677655  124900128   25764  강빛초.중학교  127.172355  37.574115  2022-06  41110200   \n",
       "677656  124900128   25764  강빛초.중학교  127.172355  37.574115  2022-07  41110200   \n",
       "677657  124900128   25764  강빛초.중학교  127.172355  37.574115  2022-08  41110200   \n",
       "677658  124900128   25764  강빛초.중학교  127.172355  37.574115  2022-09  41110200   \n",
       "\n",
       "        노선번호                    노선명  버스정류장ID   버스정류장명  승차승객수  하차승객수  \\\n",
       "0        470       470번(상암차고지~안골마을)       67  종로2가사거리  6,421  5,295   \n",
       "1        741      741번(진관차고지~헌인릉입구)       77  종로2가사거리  5,318  5,046   \n",
       "2        N37  N37번(송파공영차고지~진관공영차고지)       32  종로2가사거리     43    143   \n",
       "3        N37  N37번(진관공영차고지~송파공영차고지)       89  종로2가사거리    107    189   \n",
       "4        470       470번(상암차고지~안골마을)       67  종로2가사거리  5,341  4,397   \n",
       "...      ...                    ...      ...      ...    ...    ...   \n",
       "677654  강동02     강동02(가래여울~암사동서원마을)       76  강빛초.중학교     12    489   \n",
       "677655  강동02     강동02(가래여울~암사동서원마을)       76  강빛초.중학교     10    501   \n",
       "677656  강동02     강동02(가래여울~암사동서원마을)       76  강빛초.중학교     10    508   \n",
       "677657  강동02     강동02(가래여울~암사동서원마을)       76  강빛초.중학교      7    483   \n",
       "677658  강동02     강동02(가래여울~암사동서원마을)       76  강빛초.중학교     14    523   \n",
       "\n",
       "                       작업일시  \n",
       "0       2022-02-03 08:49:58  \n",
       "1       2022-02-03 08:49:56  \n",
       "2       2022-02-03 08:49:58  \n",
       "3       2022-02-03 08:49:58  \n",
       "4       2022-03-03 11:02:10  \n",
       "...                     ...  \n",
       "677654  2022-06-13 17:02:23  \n",
       "677655  2022-07-03 09:47:56  \n",
       "677656  2022-08-03 09:32:38  \n",
       "677657  2022-09-03 10:18:19  \n",
       "677658  2022-10-03 09:13:34  \n",
       "\n",
       "[677659 rows x 14 columns]"
      ]
     },
     "execution_count": 37,
     "metadata": {},
     "output_type": "execute_result"
    }
   ],
   "source": [
    "df[df[\"버스정류장명\"].isin(df[\"정류소명\"].unique())]"
   ]
  },
  {
   "cell_type": "code",
   "execution_count": 45,
   "id": "a47b851d",
   "metadata": {},
   "outputs": [
    {
     "data": {
      "text/html": [
       "<div>\n",
       "<style scoped>\n",
       "    .dataframe tbody tr th:only-of-type {\n",
       "        vertical-align: middle;\n",
       "    }\n",
       "\n",
       "    .dataframe tbody tr th {\n",
       "        vertical-align: top;\n",
       "    }\n",
       "\n",
       "    .dataframe thead th {\n",
       "        text-align: right;\n",
       "    }\n",
       "</style>\n",
       "<table border=\"1\" class=\"dataframe\">\n",
       "  <thead>\n",
       "    <tr style=\"text-align: right;\">\n",
       "      <th></th>\n",
       "      <th>NODE_ID</th>\n",
       "      <th>ARS-ID</th>\n",
       "      <th>정류소명</th>\n",
       "      <th>좌표X</th>\n",
       "      <th>좌표Y</th>\n",
       "      <th>사용월</th>\n",
       "      <th>노선ID</th>\n",
       "      <th>노선번호</th>\n",
       "      <th>노선명</th>\n",
       "      <th>버스정류장ID</th>\n",
       "      <th>버스정류장명</th>\n",
       "      <th>승차승객수</th>\n",
       "      <th>하차승객수</th>\n",
       "      <th>작업일시</th>\n",
       "    </tr>\n",
       "  </thead>\n",
       "  <tbody>\n",
       "  </tbody>\n",
       "</table>\n",
       "</div>"
      ],
      "text/plain": [
       "Empty DataFrame\n",
       "Columns: [NODE_ID, ARS-ID, 정류소명, 좌표X, 좌표Y, 사용월, 노선ID, 노선번호, 노선명, 버스정류장ID, 버스정류장명, 승차승객수, 하차승객수, 작업일시]\n",
       "Index: []"
      ]
     },
     "execution_count": 45,
     "metadata": {},
     "output_type": "execute_result"
    }
   ],
   "source": [
    "df[df.duplicated()]"
   ]
  },
  {
   "cell_type": "code",
   "execution_count": 39,
   "id": "a60533e6",
   "metadata": {},
   "outputs": [],
   "source": [
    "df.to_csv(\"2022_tmoney_xy.csv\", index=False)"
   ]
  }
 ],
 "metadata": {
  "kernelspec": {
   "display_name": "Python 3 (ipykernel)",
   "language": "python",
   "name": "python3"
  },
  "language_info": {
   "codemirror_mode": {
    "name": "ipython",
    "version": 3
   },
   "file_extension": ".py",
   "mimetype": "text/x-python",
   "name": "python",
   "nbconvert_exporter": "python",
   "pygments_lexer": "ipython3",
   "version": "3.7.10"
  },
  "toc": {
   "base_numbering": 1,
   "nav_menu": {},
   "number_sections": true,
   "sideBar": true,
   "skip_h1_title": false,
   "title_cell": "Table of Contents",
   "title_sidebar": "Contents",
   "toc_cell": false,
   "toc_position": {},
   "toc_section_display": true,
   "toc_window_display": false
  }
 },
 "nbformat": 4,
 "nbformat_minor": 5
}
