{
 "cells": [
  {
   "cell_type": "code",
   "execution_count": 1,
   "id": "0ae1eda5",
   "metadata": {},
   "outputs": [],
   "source": [
    "import pandas as pd \n",
    "import numpy as np \n",
    "import matplotlib.pyplot as plt \n",
    "import seaborn as sns \n",
    "\n",
    "from glob import glob \n",
    "file_name = glob('dataset/2022*.csv')\n"
   ]
  },
  {
   "cell_type": "code",
   "execution_count": 2,
   "id": "f06ce9de",
   "metadata": {},
   "outputs": [
    {
     "data": {
      "text/html": [
       "<div>\n",
       "<style scoped>\n",
       "    .dataframe tbody tr th:only-of-type {\n",
       "        vertical-align: middle;\n",
       "    }\n",
       "\n",
       "    .dataframe tbody tr th {\n",
       "        vertical-align: top;\n",
       "    }\n",
       "\n",
       "    .dataframe thead th {\n",
       "        text-align: right;\n",
       "    }\n",
       "</style>\n",
       "<table border=\"1\" class=\"dataframe\">\n",
       "  <thead>\n",
       "    <tr style=\"text-align: right;\">\n",
       "      <th></th>\n",
       "      <th>사용월</th>\n",
       "      <th>노선ID</th>\n",
       "      <th>노선번호</th>\n",
       "      <th>노선명</th>\n",
       "      <th>버스정류장ID</th>\n",
       "      <th>버스정류장명</th>\n",
       "      <th>승차승객수</th>\n",
       "      <th>하차승객수</th>\n",
       "      <th>작업일시</th>\n",
       "    </tr>\n",
       "  </thead>\n",
       "  <tbody>\n",
       "    <tr>\n",
       "      <th>0</th>\n",
       "      <td>2022-01</td>\n",
       "      <td>11110897</td>\n",
       "      <td>0017</td>\n",
       "      <td>0017번(청암동~이촌동)</td>\n",
       "      <td>1</td>\n",
       "      <td>청암자이아파트</td>\n",
       "      <td>453</td>\n",
       "      <td>12</td>\n",
       "      <td>2022-02-03 08:49:57</td>\n",
       "    </tr>\n",
       "    <tr>\n",
       "      <th>1</th>\n",
       "      <td>2022-01</td>\n",
       "      <td>11110897</td>\n",
       "      <td>0017</td>\n",
       "      <td>0017번(청암동~이촌동)</td>\n",
       "      <td>2</td>\n",
       "      <td>청암동강변삼성아파트</td>\n",
       "      <td>1,328</td>\n",
       "      <td>43</td>\n",
       "      <td>2022-02-03 08:49:57</td>\n",
       "    </tr>\n",
       "    <tr>\n",
       "      <th>2</th>\n",
       "      <td>2022-01</td>\n",
       "      <td>11110897</td>\n",
       "      <td>0017</td>\n",
       "      <td>0017번(청암동~이촌동)</td>\n",
       "      <td>3</td>\n",
       "      <td>청심경로당</td>\n",
       "      <td>2,420</td>\n",
       "      <td>45</td>\n",
       "      <td>2022-02-03 08:49:57</td>\n",
       "    </tr>\n",
       "    <tr>\n",
       "      <th>3</th>\n",
       "      <td>2022-01</td>\n",
       "      <td>11110897</td>\n",
       "      <td>0017</td>\n",
       "      <td>0017번(청암동~이촌동)</td>\n",
       "      <td>4</td>\n",
       "      <td>원효2동주민센터</td>\n",
       "      <td>4,196</td>\n",
       "      <td>95</td>\n",
       "      <td>2022-02-03 08:49:57</td>\n",
       "    </tr>\n",
       "    <tr>\n",
       "      <th>4</th>\n",
       "      <td>2022-01</td>\n",
       "      <td>11110897</td>\n",
       "      <td>0017</td>\n",
       "      <td>0017번(청암동~이촌동)</td>\n",
       "      <td>5</td>\n",
       "      <td>산천동</td>\n",
       "      <td>5,255</td>\n",
       "      <td>206</td>\n",
       "      <td>2022-02-03 08:49:57</td>\n",
       "    </tr>\n",
       "    <tr>\n",
       "      <th>...</th>\n",
       "      <td>...</td>\n",
       "      <td>...</td>\n",
       "      <td>...</td>\n",
       "      <td>...</td>\n",
       "      <td>...</td>\n",
       "      <td>...</td>\n",
       "      <td>...</td>\n",
       "      <td>...</td>\n",
       "      <td>...</td>\n",
       "    </tr>\n",
       "    <tr>\n",
       "      <th>358603</th>\n",
       "      <td>2022-09</td>\n",
       "      <td>11110729</td>\n",
       "      <td>중랑02</td>\n",
       "      <td>중랑02(진로아파트~한신아파트)</td>\n",
       "      <td>22</td>\n",
       "      <td>서일대정문</td>\n",
       "      <td>141</td>\n",
       "      <td>6,056</td>\n",
       "      <td>2022-10-03 09:13:34</td>\n",
       "    </tr>\n",
       "    <tr>\n",
       "      <th>358604</th>\n",
       "      <td>2022-09</td>\n",
       "      <td>11110729</td>\n",
       "      <td>중랑02</td>\n",
       "      <td>중랑02(진로아파트~한신아파트)</td>\n",
       "      <td>23</td>\n",
       "      <td>새마을금고</td>\n",
       "      <td>586</td>\n",
       "      <td>5,616</td>\n",
       "      <td>2022-10-03 09:13:34</td>\n",
       "    </tr>\n",
       "    <tr>\n",
       "      <th>358605</th>\n",
       "      <td>2022-09</td>\n",
       "      <td>11110729</td>\n",
       "      <td>중랑02</td>\n",
       "      <td>중랑02(진로아파트~한신아파트)</td>\n",
       "      <td>24</td>\n",
       "      <td>공판장</td>\n",
       "      <td>43</td>\n",
       "      <td>7,038</td>\n",
       "      <td>2022-10-03 09:13:34</td>\n",
       "    </tr>\n",
       "    <tr>\n",
       "      <th>358606</th>\n",
       "      <td>2022-09</td>\n",
       "      <td>11110729</td>\n",
       "      <td>중랑02</td>\n",
       "      <td>중랑02(진로아파트~한신아파트)</td>\n",
       "      <td>25</td>\n",
       "      <td>진주빌라.바다약국</td>\n",
       "      <td>29</td>\n",
       "      <td>9,723</td>\n",
       "      <td>2022-10-03 09:13:34</td>\n",
       "    </tr>\n",
       "    <tr>\n",
       "      <th>358607</th>\n",
       "      <td>2022-09</td>\n",
       "      <td>11110729</td>\n",
       "      <td>중랑02</td>\n",
       "      <td>중랑02(진로아파트~한신아파트)</td>\n",
       "      <td>26</td>\n",
       "      <td>진로아파트앞.종점</td>\n",
       "      <td>72</td>\n",
       "      <td>3,003</td>\n",
       "      <td>2022-10-03 09:13:34</td>\n",
       "    </tr>\n",
       "  </tbody>\n",
       "</table>\n",
       "<p>358608 rows × 9 columns</p>\n",
       "</div>"
      ],
      "text/plain": [
       "            사용월      노선ID  노선번호                노선명  버스정류장ID      버스정류장명  \\\n",
       "0       2022-01  11110897  0017     0017번(청암동~이촌동)        1     청암자이아파트   \n",
       "1       2022-01  11110897  0017     0017번(청암동~이촌동)        2  청암동강변삼성아파트   \n",
       "2       2022-01  11110897  0017     0017번(청암동~이촌동)        3       청심경로당   \n",
       "3       2022-01  11110897  0017     0017번(청암동~이촌동)        4    원효2동주민센터   \n",
       "4       2022-01  11110897  0017     0017번(청암동~이촌동)        5         산천동   \n",
       "...         ...       ...   ...                ...      ...         ...   \n",
       "358603  2022-09  11110729  중랑02  중랑02(진로아파트~한신아파트)       22       서일대정문   \n",
       "358604  2022-09  11110729  중랑02  중랑02(진로아파트~한신아파트)       23       새마을금고   \n",
       "358605  2022-09  11110729  중랑02  중랑02(진로아파트~한신아파트)       24         공판장   \n",
       "358606  2022-09  11110729  중랑02  중랑02(진로아파트~한신아파트)       25   진주빌라.바다약국   \n",
       "358607  2022-09  11110729  중랑02  중랑02(진로아파트~한신아파트)       26   진로아파트앞.종점   \n",
       "\n",
       "        승차승객수  하차승객수                 작업일시  \n",
       "0         453     12  2022-02-03 08:49:57  \n",
       "1       1,328     43  2022-02-03 08:49:57  \n",
       "2       2,420     45  2022-02-03 08:49:57  \n",
       "3       4,196     95  2022-02-03 08:49:57  \n",
       "4       5,255    206  2022-02-03 08:49:57  \n",
       "...       ...    ...                  ...  \n",
       "358603    141  6,056  2022-10-03 09:13:34  \n",
       "358604    586  5,616  2022-10-03 09:13:34  \n",
       "358605     43  7,038  2022-10-03 09:13:34  \n",
       "358606     29  9,723  2022-10-03 09:13:34  \n",
       "358607     72  3,003  2022-10-03 09:13:34  \n",
       "\n",
       "[358608 rows x 9 columns]"
      ]
     },
     "execution_count": 2,
     "metadata": {},
     "output_type": "execute_result"
    }
   ],
   "source": [
    "df_tmoney = pd.read_csv(file_name[0] )\n",
    "df_tmoney"
   ]
  },
  {
   "cell_type": "markdown",
   "id": "50d1e084",
   "metadata": {},
   "source": [
    "### 여기서 얻을 수 있는 인사이트는 ? \n",
    "- 가장 많이 이용하는 노선. \n",
    "- 월별 승*하차 이용 인원 비교 "
   ]
  },
  {
   "cell_type": "code",
   "execution_count": 3,
   "id": "1ccc4242",
   "metadata": {},
   "outputs": [
    {
     "name": "stdout",
     "output_type": "stream",
     "text": [
      "<class 'pandas.core.frame.DataFrame'>\n",
      "RangeIndex: 358608 entries, 0 to 358607\n",
      "Data columns (total 9 columns):\n",
      " #   Column   Non-Null Count   Dtype \n",
      "---  ------   --------------   ----- \n",
      " 0   사용월      358608 non-null  object\n",
      " 1   노선ID     358608 non-null  int64 \n",
      " 2   노선번호     358608 non-null  object\n",
      " 3   노선명      358608 non-null  object\n",
      " 4   버스정류장ID  358608 non-null  int64 \n",
      " 5   버스정류장명   358608 non-null  object\n",
      " 6   승차승객수    358608 non-null  object\n",
      " 7   하차승객수    358608 non-null  object\n",
      " 8   작업일시     358608 non-null  object\n",
      "dtypes: int64(2), object(7)\n",
      "memory usage: 24.6+ MB\n"
     ]
    }
   ],
   "source": [
    "df_tmoney.info()"
   ]
  },
  {
   "cell_type": "code",
   "execution_count": 4,
   "id": "4a80986e",
   "metadata": {},
   "outputs": [
    {
     "data": {
      "text/plain": [
       "사용월        0.0\n",
       "노선ID       0.0\n",
       "노선번호       0.0\n",
       "노선명        0.0\n",
       "버스정류장ID    0.0\n",
       "버스정류장명     0.0\n",
       "승차승객수      0.0\n",
       "하차승객수      0.0\n",
       "작업일시       0.0\n",
       "dtype: float64"
      ]
     },
     "execution_count": 4,
     "metadata": {},
     "output_type": "execute_result"
    }
   ],
   "source": [
    "df_tmoney.isnull().mean()"
   ]
  },
  {
   "cell_type": "markdown",
   "id": "9f956b06",
   "metadata": {},
   "source": [
    "### 데이터 이상한거 수정 \n",
    "- 노선 아이디 , 버스정류장 아이디 object형으로 수정 \n",
    "- 승하차 승객 수 데이터 자료형 int로 수정\n",
    "- 작업일시 컬럼 제거"
   ]
  },
  {
   "cell_type": "code",
   "execution_count": 5,
   "id": "aa6cd0b3",
   "metadata": {},
   "outputs": [],
   "source": [
    "df_tmoney['노선ID'] = df_tmoney['노선ID'].astype(str)\n",
    "df_tmoney['버스정류장ID'] = df_tmoney['버스정류장ID'].astype(str)"
   ]
  },
  {
   "cell_type": "code",
   "execution_count": 6,
   "id": "a3e20558",
   "metadata": {},
   "outputs": [],
   "source": [
    "df_tmoney['승차승객수'] = df_tmoney['승차승객수'].map(lambda x : int(x.replace(',',''))) \n",
    "df_tmoney['하차승객수'] = df_tmoney['하차승객수'].map(lambda x : int(x.replace(',',''))) "
   ]
  },
  {
   "cell_type": "code",
   "execution_count": 7,
   "id": "26b2afe9",
   "metadata": {},
   "outputs": [],
   "source": [
    "del df_tmoney['작업일시']"
   ]
  },
  {
   "cell_type": "code",
   "execution_count": 8,
   "id": "436091f0",
   "metadata": {},
   "outputs": [
    {
     "data": {
      "text/html": [
       "<div>\n",
       "<style scoped>\n",
       "    .dataframe tbody tr th:only-of-type {\n",
       "        vertical-align: middle;\n",
       "    }\n",
       "\n",
       "    .dataframe tbody tr th {\n",
       "        vertical-align: top;\n",
       "    }\n",
       "\n",
       "    .dataframe thead th {\n",
       "        text-align: right;\n",
       "    }\n",
       "</style>\n",
       "<table border=\"1\" class=\"dataframe\">\n",
       "  <thead>\n",
       "    <tr style=\"text-align: right;\">\n",
       "      <th></th>\n",
       "      <th>count</th>\n",
       "      <th>unique</th>\n",
       "      <th>top</th>\n",
       "      <th>freq</th>\n",
       "    </tr>\n",
       "  </thead>\n",
       "  <tbody>\n",
       "    <tr>\n",
       "      <th>사용월</th>\n",
       "      <td>358608</td>\n",
       "      <td>9</td>\n",
       "      <td>2022-06</td>\n",
       "      <td>40537</td>\n",
       "    </tr>\n",
       "    <tr>\n",
       "      <th>노선ID</th>\n",
       "      <td>358608</td>\n",
       "      <td>653</td>\n",
       "      <td>11110369</td>\n",
       "      <td>1683</td>\n",
       "    </tr>\n",
       "    <tr>\n",
       "      <th>노선번호</th>\n",
       "      <td>358608</td>\n",
       "      <td>638</td>\n",
       "      <td>N61</td>\n",
       "      <td>3366</td>\n",
       "    </tr>\n",
       "    <tr>\n",
       "      <th>노선명</th>\n",
       "      <td>358608</td>\n",
       "      <td>668</td>\n",
       "      <td>N61번(상계동차고지~양천공영차고지)</td>\n",
       "      <td>1683</td>\n",
       "    </tr>\n",
       "    <tr>\n",
       "      <th>버스정류장ID</th>\n",
       "      <td>358608</td>\n",
       "      <td>286</td>\n",
       "      <td>6</td>\n",
       "      <td>5734</td>\n",
       "    </tr>\n",
       "    <tr>\n",
       "      <th>버스정류장명</th>\n",
       "      <td>358608</td>\n",
       "      <td>8209</td>\n",
       "      <td>현대아파트</td>\n",
       "      <td>538</td>\n",
       "    </tr>\n",
       "  </tbody>\n",
       "</table>\n",
       "</div>"
      ],
      "text/plain": [
       "          count unique                   top   freq\n",
       "사용월      358608      9               2022-06  40537\n",
       "노선ID     358608    653              11110369   1683\n",
       "노선번호     358608    638                   N61   3366\n",
       "노선명      358608    668  N61번(상계동차고지~양천공영차고지)   1683\n",
       "버스정류장ID  358608    286                     6   5734\n",
       "버스정류장명   358608   8209                 현대아파트    538"
      ]
     },
     "execution_count": 8,
     "metadata": {},
     "output_type": "execute_result"
    }
   ],
   "source": [
    "df_tmoney.describe(include='object').T"
   ]
  },
  {
   "cell_type": "code",
   "execution_count": 9,
   "id": "8a1e2594",
   "metadata": {},
   "outputs": [
    {
     "data": {
      "text/html": [
       "<div>\n",
       "<style scoped>\n",
       "    .dataframe tbody tr th:only-of-type {\n",
       "        vertical-align: middle;\n",
       "    }\n",
       "\n",
       "    .dataframe tbody tr th {\n",
       "        vertical-align: top;\n",
       "    }\n",
       "\n",
       "    .dataframe thead th {\n",
       "        text-align: right;\n",
       "    }\n",
       "</style>\n",
       "<table border=\"1\" class=\"dataframe\">\n",
       "  <thead>\n",
       "    <tr style=\"text-align: right;\">\n",
       "      <th></th>\n",
       "      <th>count</th>\n",
       "      <th>mean</th>\n",
       "      <th>std</th>\n",
       "      <th>min</th>\n",
       "      <th>25%</th>\n",
       "      <th>50%</th>\n",
       "      <th>75%</th>\n",
       "      <th>max</th>\n",
       "    </tr>\n",
       "  </thead>\n",
       "  <tbody>\n",
       "    <tr>\n",
       "      <th>승차승객수</th>\n",
       "      <td>358608.0</td>\n",
       "      <td>3198.674592</td>\n",
       "      <td>4410.625342</td>\n",
       "      <td>0.0</td>\n",
       "      <td>515.0</td>\n",
       "      <td>1886.0</td>\n",
       "      <td>4271.0</td>\n",
       "      <td>128371.0</td>\n",
       "    </tr>\n",
       "    <tr>\n",
       "      <th>하차승객수</th>\n",
       "      <td>358608.0</td>\n",
       "      <td>3125.771862</td>\n",
       "      <td>4007.381939</td>\n",
       "      <td>0.0</td>\n",
       "      <td>607.0</td>\n",
       "      <td>2024.0</td>\n",
       "      <td>4225.0</td>\n",
       "      <td>99788.0</td>\n",
       "    </tr>\n",
       "  </tbody>\n",
       "</table>\n",
       "</div>"
      ],
      "text/plain": [
       "          count         mean          std  min    25%     50%     75%  \\\n",
       "승차승객수  358608.0  3198.674592  4410.625342  0.0  515.0  1886.0  4271.0   \n",
       "하차승객수  358608.0  3125.771862  4007.381939  0.0  607.0  2024.0  4225.0   \n",
       "\n",
       "            max  \n",
       "승차승객수  128371.0  \n",
       "하차승객수   99788.0  "
      ]
     },
     "execution_count": 9,
     "metadata": {},
     "output_type": "execute_result"
    }
   ],
   "source": [
    "df_tmoney.describe().T"
   ]
  },
  {
   "cell_type": "code",
   "execution_count": 10,
   "id": "81e087bb",
   "metadata": {},
   "outputs": [
    {
     "data": {
      "text/html": [
       "<div>\n",
       "<style scoped>\n",
       "    .dataframe tbody tr th:only-of-type {\n",
       "        vertical-align: middle;\n",
       "    }\n",
       "\n",
       "    .dataframe tbody tr th {\n",
       "        vertical-align: top;\n",
       "    }\n",
       "\n",
       "    .dataframe thead th {\n",
       "        text-align: right;\n",
       "    }\n",
       "</style>\n",
       "<table border=\"1\" class=\"dataframe\">\n",
       "  <thead>\n",
       "    <tr style=\"text-align: right;\">\n",
       "      <th></th>\n",
       "      <th>사용월</th>\n",
       "      <th>노선ID</th>\n",
       "      <th>노선번호</th>\n",
       "      <th>노선명</th>\n",
       "      <th>버스정류장ID</th>\n",
       "      <th>버스정류장명</th>\n",
       "      <th>승차승객수</th>\n",
       "      <th>하차승객수</th>\n",
       "    </tr>\n",
       "  </thead>\n",
       "  <tbody>\n",
       "    <tr>\n",
       "      <th>352398</th>\n",
       "      <td>2022-09</td>\n",
       "      <td>11110537</td>\n",
       "      <td>관악02</td>\n",
       "      <td>관악02(낙성대역~서울대신공학관)</td>\n",
       "      <td>26</td>\n",
       "      <td>노천강당</td>\n",
       "      <td>128371</td>\n",
       "      <td>99788</td>\n",
       "    </tr>\n",
       "  </tbody>\n",
       "</table>\n",
       "</div>"
      ],
      "text/plain": [
       "            사용월      노선ID  노선번호                 노선명 버스정류장ID 버스정류장명   승차승객수  \\\n",
       "352398  2022-09  11110537  관악02  관악02(낙성대역~서울대신공학관)      26   노천강당  128371   \n",
       "\n",
       "        하차승객수  \n",
       "352398  99788  "
      ]
     },
     "execution_count": 10,
     "metadata": {},
     "output_type": "execute_result"
    }
   ],
   "source": [
    "df_tmoney[df_tmoney['승차승객수'] == df_tmoney['승차승객수'].max()]"
   ]
  },
  {
   "cell_type": "code",
   "execution_count": 11,
   "id": "9a371dad",
   "metadata": {},
   "outputs": [
    {
     "data": {
      "text/plain": [
       "8209"
      ]
     },
     "execution_count": 11,
     "metadata": {},
     "output_type": "execute_result"
    }
   ],
   "source": [
    "len(df_tmoney['버스정류장명'].unique())"
   ]
  },
  {
   "cell_type": "code",
   "execution_count": 13,
   "id": "138fe2b4",
   "metadata": {
    "scrolled": true
   },
   "outputs": [
    {
     "data": {
      "text/plain": [
       "(358608, 8)"
      ]
     },
     "execution_count": 13,
     "metadata": {},
     "output_type": "execute_result"
    }
   ],
   "source": [
    "df_tmoney.shape"
   ]
  }
 ],
 "metadata": {
  "kernelspec": {
   "display_name": "Python 3 (ipykernel)",
   "language": "python",
   "name": "python3"
  },
  "language_info": {
   "codemirror_mode": {
    "name": "ipython",
    "version": 3
   },
   "file_extension": ".py",
   "mimetype": "text/x-python",
   "name": "python",
   "nbconvert_exporter": "python",
   "pygments_lexer": "ipython3",
   "version": "3.7.10"
  }
 },
 "nbformat": 4,
 "nbformat_minor": 5
}
