{
 "cells": [
  {
   "cell_type": "markdown",
   "id": "ae28be6e",
   "metadata": {},
   "source": [
    "# 서울시 노선별 지하철 이용객 수 데이터 수집 및 concat\n",
    "- https://data.seoul.go.kr/dataList/OA-12914/S/1/datasetView.do#\n",
    "- 2017년 1월 ~ 2022년 9월 데이터 수집"
   ]
  },
  {
   "cell_type": "code",
   "execution_count": 98,
   "id": "89422181",
   "metadata": {},
   "outputs": [],
   "source": [
    "import pandas as pd\n",
    "from glob import glob\n",
    "\n",
    "def concat_seoul_subway(year):\n",
    "    path = f'dataset/seoul_subway/*{year}*.csv'\n",
    "    file_names = sorted(glob(path))\n",
    "\n",
    "    df_list = []\n",
    "    for file in file_names:\n",
    "        try: \n",
    "            df_list.append(pd.read_csv(file,encoding='utf-8',index_col=False,parse_dates = [0]))\n",
    "            print(f'{file} 로드 완료 , encoding = \"utf-8\"')\n",
    "        except:\n",
    "            df_list.append(pd.read_csv(file,encoding='cp949',index_col=False, parse_dates = [0]))\n",
    "            print(f'{file} 로드 완료,  encoding = \"cp949\"')\n",
    "    print(f'{year} 데이터 concat완료')\n",
    "    df = pd.concat(df_list)[['사용일자','노선명','역명','승차총승객수','하차총승객수']]\n",
    "    print(df.shape)\n",
    "    return df"
   ]
  },
  {
   "cell_type": "code",
   "execution_count": 99,
   "id": "a40ca088",
   "metadata": {
    "scrolled": true
   },
   "outputs": [
    {
     "name": "stdout",
     "output_type": "stream",
     "text": [
      "201701.csv 로드 완료,  encoding = \"cp949\"\n",
      "201702.csv 로드 완료,  encoding = \"cp949\"\n",
      "201703.csv 로드 완료,  encoding = \"cp949\"\n",
      "201704.csv 로드 완료,  encoding = \"cp949\"\n",
      "201705.csv 로드 완료,  encoding = \"cp949\"\n",
      "201706.csv 로드 완료,  encoding = \"cp949\"\n",
      "201707.csv 로드 완료,  encoding = \"cp949\"\n",
      "201708.csv 로드 완료,  encoding = \"cp949\"\n",
      "201709.csv 로드 완료,  encoding = \"cp949\"\n",
      "201710.csv 로드 완료,  encoding = \"cp949\"\n",
      "201711.csv 로드 완료,  encoding = \"cp949\"\n",
      "201712.csv 로드 완료,  encoding = \"cp949\"\n",
      "2017 데이터 concat완료\n",
      "(208257, 5)\n",
      "201801.csv 로드 완료,  encoding = \"cp949\"\n",
      "201802.csv 로드 완료,  encoding = \"cp949\"\n",
      "201803.csv 로드 완료,  encoding = \"cp949\"\n",
      "201804.csv 로드 완료,  encoding = \"cp949\"\n",
      "201805.csv 로드 완료,  encoding = \"cp949\"\n",
      "201806.csv 로드 완료,  encoding = \"cp949\"\n",
      "201807.csv 로드 완료,  encoding = \"cp949\"\n",
      "201808.csv 로드 완료,  encoding = \"cp949\"\n",
      "201809.csv 로드 완료,  encoding = \"cp949\"\n",
      "201810.csv 로드 완료,  encoding = \"cp949\"\n",
      "201811.csv 로드 완료,  encoding = \"cp949\"\n",
      "201812.csv 로드 완료,  encoding = \"cp949\"\n",
      "2018 데이터 concat완료\n",
      "(212749, 5)\n",
      "201901.csv 로드 완료,  encoding = \"cp949\"\n",
      "201902.csv 로드 완료,  encoding = \"cp949\"\n",
      "201903.csv 로드 완료,  encoding = \"cp949\"\n",
      "201904.csv 로드 완료,  encoding = \"cp949\"\n",
      "201905.csv 로드 완료,  encoding = \"cp949\"\n",
      "201906.csv 로드 완료,  encoding = \"cp949\"\n",
      "201907.csv 로드 완료,  encoding = \"cp949\"\n",
      "201908.csv 로드 완료,  encoding = \"cp949\"\n",
      "201909.csv 로드 완료,  encoding = \"cp949\"\n",
      "201910.csv 로드 완료,  encoding = \"cp949\"\n",
      "201911.csv 로드 완료,  encoding = \"cp949\"\n",
      "201912.csv 로드 완료,  encoding = \"cp949\"\n",
      "2019 데이터 concat완료\n",
      "(215769, 5)\n",
      "202001.csv 로드 완료,  encoding = \"cp949\"\n",
      "202002.csv 로드 완료,  encoding = \"cp949\"\n",
      "202003.csv 로드 완료,  encoding = \"cp949\"\n",
      "202004.csv 로드 완료,  encoding = \"cp949\"\n",
      "202005.csv 로드 완료 , encoding = \"utf-8\"\n",
      "202006.csv 로드 완료 , encoding = \"utf-8\"\n",
      "202007.csv 로드 완료 , encoding = \"utf-8\"\n",
      "202008.csv 로드 완료 , encoding = \"utf-8\"\n",
      "202009.csv 로드 완료,  encoding = \"cp949\"\n",
      "202010.csv 로드 완료 , encoding = \"utf-8\"\n",
      "202011.csv 로드 완료 , encoding = \"utf-8\"\n",
      "202012.csv 로드 완료 , encoding = \"utf-8\"\n",
      "2020 데이터 concat완료\n",
      "(217055, 5)\n",
      "202101.csv 로드 완료 , encoding = \"utf-8\"\n",
      "202102.csv 로드 완료 , encoding = \"utf-8\"\n",
      "202103.csv 로드 완료 , encoding = \"utf-8\"\n",
      "202104.csv 로드 완료 , encoding = \"utf-8\"\n",
      "202105.csv 로드 완료 , encoding = \"utf-8\"\n",
      "202106.csv 로드 완료 , encoding = \"utf-8\"\n",
      "202107.csv 로드 완료 , encoding = \"utf-8\"\n",
      "202108.csv 로드 완료 , encoding = \"utf-8\"\n",
      "202109.csv 로드 완료 , encoding = \"utf-8\"\n",
      "202110.csv 로드 완료 , encoding = \"utf-8\"\n",
      "202111.csv 로드 완료,  encoding = \"cp949\"\n",
      "202112.csv 로드 완료 , encoding = \"utf-8\"\n",
      "2021 데이터 concat완료\n",
      "(219279, 5)\n",
      "202201.csv 로드 완료 , encoding = \"utf-8\"\n",
      "202202.csv 로드 완료 , encoding = \"utf-8\"\n",
      "202203.csv 로드 완료 , encoding = \"utf-8\"\n",
      "202204.csv 로드 완료 , encoding = \"utf-8\"\n",
      "202205.csv 로드 완료 , encoding = \"utf-8\"\n",
      "202206.csv 로드 완료 , encoding = \"utf-8\"\n",
      "202207.csv 로드 완료 , encoding = \"utf-8\"\n",
      "202208.csv 로드 완료 , encoding = \"utf-8\"\n",
      "202209.csv 로드 완료 , encoding = \"utf-8\"\n",
      "2022 데이터 concat완료\n",
      "(163976, 5)\n"
     ]
    },
    {
     "data": {
      "text/plain": [
       "6"
      ]
     },
     "execution_count": 99,
     "metadata": {},
     "output_type": "execute_result"
    }
   ],
   "source": [
    "year_data_list = [] \n",
    "for i in range(2017,2023):\n",
    "    year_data_list.append(concat_seoul_subway(i))\n",
    "len(year_data_list)"
   ]
  },
  {
   "cell_type": "code",
   "execution_count": 97,
   "id": "6c06369c",
   "metadata": {},
   "outputs": [
    {
     "data": {
      "text/plain": [
       "'201701.csv'"
      ]
     },
     "execution_count": 97,
     "metadata": {},
     "output_type": "execute_result"
    }
   ],
   "source": [
    "'_201701.csv'[-10:]"
   ]
  },
  {
   "cell_type": "markdown",
   "id": "996386ab",
   "metadata": {},
   "source": [
    "Error tokenizing data. C error: Expected 6 fields in line 12658, saw 7 \n",
    "- 202110.csv 12658번 라인 이후 이상데이터 수정 완료  \n",
    "  \n",
    "인코딩 종류에 따라 indexing 에러 발생하는 이슈 확인\n",
    "- index_col = False 로 인덱스를 따로 지정해주지 않고 데이터를 불러오도록 옵션 지정 \n",
    "  \n",
    "등록일자 컬럼 및 Unnamed와 유사한 H 데이터 삭제"
   ]
  },
  {
   "cell_type": "code",
   "execution_count": 93,
   "id": "200e0854",
   "metadata": {},
   "outputs": [],
   "source": [
    "for y, data in zip(range(2017,2023) ,year_data_list):\n",
    "    data.to_csv(f'dataset/seoul_subway/seoul_subway_year_concat/subway_{y}.csv')"
   ]
  }
 ],
 "metadata": {
  "kernelspec": {
   "display_name": "Python 3 (ipykernel)",
   "language": "python",
   "name": "python3"
  },
  "language_info": {
   "codemirror_mode": {
    "name": "ipython",
    "version": 3
   },
   "file_extension": ".py",
   "mimetype": "text/x-python",
   "name": "python",
   "nbconvert_exporter": "python",
   "pygments_lexer": "ipython3",
   "version": "3.7.10"
  }
 },
 "nbformat": 4,
 "nbformat_minor": 5
}
